{
 "cells": [
  {
   "cell_type": "code",
   "execution_count": 12,
   "id": "8eebcf0a",
   "metadata": {},
   "outputs": [],
   "source": [
    "import numpy as np"
   ]
  },
  {
   "cell_type": "code",
   "execution_count": null,
   "id": "f2cd8143",
   "metadata": {},
   "outputs": [],
   "source": [
    "# arreglo de 1 dimensión\n",
    "arr1 = np.array([1, 2, 3])"
   ]
  },
  {
   "cell_type": "code",
   "execution_count": 15,
   "id": "dac08a25",
   "metadata": {},
   "outputs": [
    {
     "data": {
      "text/plain": [
       "numpy.ndarray"
      ]
     },
     "execution_count": 15,
     "metadata": {},
     "output_type": "execute_result"
    }
   ],
   "source": [
    "type(arr1)"
   ]
  },
  {
   "cell_type": "code",
   "execution_count": 17,
   "id": "672492e4",
   "metadata": {},
   "outputs": [
    {
     "data": {
      "text/plain": [
       "array([2, 3, 4])"
      ]
     },
     "execution_count": 17,
     "metadata": {},
     "output_type": "execute_result"
    }
   ],
   "source": [
    "arr1 + 1"
   ]
  },
  {
   "cell_type": "code",
   "execution_count": null,
   "id": "afc401f2",
   "metadata": {},
   "outputs": [
    {
     "data": {
      "text/plain": [
       "array([[1, 2, 3],\n",
       "       [2, 4, 8]])"
      ]
     },
     "execution_count": 19,
     "metadata": {},
     "output_type": "execute_result"
    }
   ],
   "source": [
    "arr1 = np.array(\n",
    "    [\n",
    "        [1, 2, 3],\n",
    "        [2, 4, 8]\n",
    "    ]\n",
    ")\n",
    "arr1"
   ]
  },
  {
   "cell_type": "code",
   "execution_count": null,
   "id": "98703494",
   "metadata": {},
   "outputs": [
    {
     "data": {
      "text/plain": [
       "(2, 3)"
      ]
     },
     "execution_count": 20,
     "metadata": {},
     "output_type": "execute_result"
    }
   ],
   "source": [
    "\n",
    "arr1.shape"
   ]
  },
  {
   "cell_type": "code",
   "execution_count": null,
   "id": "9c4af853",
   "metadata": {},
   "outputs": [
    {
     "data": {
      "text/plain": [
       "int"
      ]
     },
     "execution_count": 24,
     "metadata": {},
     "output_type": "execute_result"
    }
   ],
   "source": [
    "# int64 -> 0101010011\n",
    "int"
   ]
  },
  {
   "cell_type": "code",
   "execution_count": 28,
   "id": "4d01f356",
   "metadata": {},
   "outputs": [
    {
     "data": {
      "text/plain": [
       "array([[1, 1],\n",
       "       [1, 1],\n",
       "       [1, 1],\n",
       "       [1, 1],\n",
       "       [1, 1]], dtype=int32)"
      ]
     },
     "execution_count": 28,
     "metadata": {},
     "output_type": "execute_result"
    }
   ],
   "source": [
    "np.ones(shape=(5,2), dtype=np.int32)"
   ]
  },
  {
   "cell_type": "code",
   "execution_count": null,
   "id": "d962881f",
   "metadata": {},
   "outputs": [
    {
     "data": {
      "text/plain": [
       "(256, 65536, 4294967296, 18446744073709551616)"
      ]
     },
     "execution_count": 41,
     "metadata": {},
     "output_type": "execute_result"
    }
   ],
   "source": [
    "#-127,128\n",
    "2**8, 2**16, 2**32, 2**64"
   ]
  },
  {
   "cell_type": "code",
   "execution_count": 46,
   "id": "ea58ef51",
   "metadata": {},
   "outputs": [
    {
     "data": {
      "text/plain": [
       "array([[200, 200],\n",
       "       [200, 200],\n",
       "       [200, 200],\n",
       "       [200, 200],\n",
       "       [200, 200]], dtype=int16)"
      ]
     },
     "execution_count": 46,
     "metadata": {},
     "output_type": "execute_result"
    }
   ],
   "source": [
    "ones_array = np.ones(shape=(5, 2), dtype=np.int8)\n",
    "ones_array*200"
   ]
  },
  {
   "cell_type": "code",
   "execution_count": 34,
   "id": "0ac1951b",
   "metadata": {},
   "outputs": [
    {
     "data": {
      "text/plain": [
       "array([[0., 0.],\n",
       "       [0., 0.],\n",
       "       [0., 0.],\n",
       "       [0., 0.],\n",
       "       [0., 0.]], dtype=float16)"
      ]
     },
     "execution_count": 34,
     "metadata": {},
     "output_type": "execute_result"
    }
   ],
   "source": [
    "np.zeros(shape=(5, 2), dtype=np.float16)"
   ]
  },
  {
   "cell_type": "code",
   "execution_count": 47,
   "id": "d3c963f3",
   "metadata": {},
   "outputs": [
    {
     "data": {
      "text/plain": [
       "array([[0.74004667, 0.68257866],\n",
       "       [0.41047937, 0.31145971],\n",
       "       [0.0670165 , 0.59332855],\n",
       "       [0.70444526, 0.59188211],\n",
       "       [0.72272707, 0.38343075]])"
      ]
     },
     "execution_count": 47,
     "metadata": {},
     "output_type": "execute_result"
    }
   ],
   "source": [
    "np.random.random(size=(5, 2))"
   ]
  },
  {
   "cell_type": "code",
   "execution_count": 55,
   "id": "c434308c",
   "metadata": {},
   "outputs": [],
   "source": [
    "array1= np.ones(shape=(5, 2)) * 12\n",
    "array2 = np.ones(shape=(5, 3)) * 3\n"
   ]
  },
  {
   "cell_type": "code",
   "execution_count": 56,
   "id": "c8eada56",
   "metadata": {},
   "outputs": [
    {
     "data": {
      "text/plain": [
       "array([[12., 12.],\n",
       "       [12., 12.],\n",
       "       [12., 12.],\n",
       "       [12., 12.],\n",
       "       [12., 12.]])"
      ]
     },
     "execution_count": 56,
     "metadata": {},
     "output_type": "execute_result"
    }
   ],
   "source": [
    "array1"
   ]
  },
  {
   "cell_type": "code",
   "execution_count": 57,
   "id": "b0be8b32",
   "metadata": {},
   "outputs": [
    {
     "data": {
      "text/plain": [
       "array([[3., 3., 3.],\n",
       "       [3., 3., 3.],\n",
       "       [3., 3., 3.],\n",
       "       [3., 3., 3.],\n",
       "       [3., 3., 3.]])"
      ]
     },
     "execution_count": 57,
     "metadata": {},
     "output_type": "execute_result"
    }
   ],
   "source": [
    "array2"
   ]
  },
  {
   "cell_type": "code",
   "execution_count": 58,
   "id": "53c8b168",
   "metadata": {},
   "outputs": [
    {
     "ename": "ValueError",
     "evalue": "operands could not be broadcast together with shapes (5,2) (5,3) ",
     "output_type": "error",
     "traceback": [
      "\u001b[0;31m---------------------------------------------------------------------------\u001b[0m",
      "\u001b[0;31mValueError\u001b[0m                                Traceback (most recent call last)",
      "Cell \u001b[0;32mIn[58], line 1\u001b[0m\n\u001b[0;32m----> 1\u001b[0m \u001b[43marray1\u001b[49m\u001b[43m \u001b[49m\u001b[38;5;241;43m+\u001b[39;49m\u001b[43m \u001b[49m\u001b[43marray2\u001b[49m\n",
      "\u001b[0;31mValueError\u001b[0m: operands could not be broadcast together with shapes (5,2) (5,3) "
     ]
    }
   ],
   "source": [
    "array1 + array2"
   ]
  },
  {
   "cell_type": "code",
   "execution_count": 59,
   "id": "2cd88fed",
   "metadata": {},
   "outputs": [],
   "source": [
    "array1 = np.ones(shape=(5, 2)) * 12\n",
    "array2 = np.ones(shape=(5, 2)) * 3"
   ]
  },
  {
   "cell_type": "code",
   "execution_count": 60,
   "id": "b841f5dd",
   "metadata": {},
   "outputs": [
    {
     "data": {
      "text/plain": [
       "array([[15., 15.],\n",
       "       [15., 15.],\n",
       "       [15., 15.],\n",
       "       [15., 15.],\n",
       "       [15., 15.]])"
      ]
     },
     "execution_count": 60,
     "metadata": {},
     "output_type": "execute_result"
    }
   ],
   "source": [
    "array1 + array2"
   ]
  },
  {
   "cell_type": "code",
   "execution_count": 61,
   "id": "f494a68c",
   "metadata": {},
   "outputs": [
    {
     "data": {
      "text/plain": [
       "array([[4., 4.],\n",
       "       [4., 4.],\n",
       "       [4., 4.],\n",
       "       [4., 4.],\n",
       "       [4., 4.]])"
      ]
     },
     "execution_count": 61,
     "metadata": {},
     "output_type": "execute_result"
    }
   ],
   "source": [
    "array1 / array2"
   ]
  },
  {
   "cell_type": "code",
   "execution_count": 62,
   "id": "4cda9d8f",
   "metadata": {},
   "outputs": [
    {
     "data": {
      "text/plain": [
       "array([[36., 36.],\n",
       "       [36., 36.],\n",
       "       [36., 36.],\n",
       "       [36., 36.],\n",
       "       [36., 36.]])"
      ]
     },
     "execution_count": 62,
     "metadata": {},
     "output_type": "execute_result"
    }
   ],
   "source": [
    "array1 * array2"
   ]
  },
  {
   "cell_type": "code",
   "execution_count": null,
   "id": "782021d6",
   "metadata": {},
   "outputs": [
    {
     "data": {
      "text/plain": [
       "array([[1728., 1728.],\n",
       "       [1728., 1728.],\n",
       "       [1728., 1728.],\n",
       "       [1728., 1728.],\n",
       "       [1728., 1728.]])"
      ]
     },
     "execution_count": 63,
     "metadata": {},
     "output_type": "execute_result"
    }
   ],
   "source": [
    "array1 ** array2 "
   ]
  },
  {
   "cell_type": "code",
   "execution_count": 65,
   "id": "7c6ddba0",
   "metadata": {},
   "outputs": [
    {
     "data": {
      "text/plain": [
       "array([[3., 3.],\n",
       "       [3., 3.],\n",
       "       [3., 3.],\n",
       "       [3., 3.],\n",
       "       [3., 3.]])"
      ]
     },
     "execution_count": 65,
     "metadata": {},
     "output_type": "execute_result"
    }
   ],
   "source": [
    "array2 * 1"
   ]
  },
  {
   "cell_type": "code",
   "execution_count": null,
   "id": "ddb97678",
   "metadata": {},
   "outputs": [
    {
     "data": {
      "text/plain": [
       "array([[1., 1.],\n",
       "       [1., 1.],\n",
       "       [1., 1.],\n",
       "       [1., 1.],\n",
       "       [1., 1.]])"
      ]
     },
     "execution_count": 69,
     "metadata": {},
     "output_type": "execute_result"
    }
   ],
   "source": []
  },
  {
   "cell_type": "code",
   "execution_count": 75,
   "id": "68d55637",
   "metadata": {},
   "outputs": [
    {
     "data": {
      "text/plain": [
       "array([[0, 1],\n",
       "       [2, 3],\n",
       "       [4, 5],\n",
       "       [6, 7],\n",
       "       [8, 9]])"
      ]
     },
     "execution_count": 75,
     "metadata": {},
     "output_type": "execute_result"
    }
   ],
   "source": [
    "array3 = np.arange(10).reshape(5, 2)\n",
    "array3"
   ]
  },
  {
   "cell_type": "code",
   "execution_count": 79,
   "id": "51c68371",
   "metadata": {},
   "outputs": [
    {
     "data": {
      "text/plain": [
       "array([0, 1])"
      ]
     },
     "execution_count": 79,
     "metadata": {},
     "output_type": "execute_result"
    }
   ],
   "source": [
    "array3[0]"
   ]
  },
  {
   "cell_type": "code",
   "execution_count": null,
   "id": "9e779702",
   "metadata": {},
   "outputs": [
    {
     "data": {
      "text/plain": [
       "9"
      ]
     },
     "execution_count": 78,
     "metadata": {},
     "output_type": "execute_result"
    }
   ],
   "source": [
    "array3[4, 1]"
   ]
  },
  {
   "cell_type": "code",
   "execution_count": 80,
   "id": "9b8dda68",
   "metadata": {},
   "outputs": [
    {
     "data": {
      "text/plain": [
       "array([1, 3, 5, 7, 9])"
      ]
     },
     "execution_count": 80,
     "metadata": {},
     "output_type": "execute_result"
    }
   ],
   "source": [
    "array3[:,1]"
   ]
  },
  {
   "cell_type": "code",
   "execution_count": null,
   "id": "67d1a53e",
   "metadata": {},
   "outputs": [
    {
     "data": {
      "text/plain": [
       "array([1, 3])"
      ]
     },
     "execution_count": 81,
     "metadata": {},
     "output_type": "execute_result"
    }
   ],
   "source": [
    "array3[:2, 1]"
   ]
  },
  {
   "cell_type": "code",
   "execution_count": null,
   "id": "75c0185f",
   "metadata": {},
   "outputs": [
    {
     "data": {
      "text/plain": [
       "array([[0, 1],\n",
       "       [2, 3]])"
      ]
     },
     "execution_count": 82,
     "metadata": {},
     "output_type": "execute_result"
    }
   ],
   "source": [
    "array3[:2, :2]"
   ]
  },
  {
   "cell_type": "code",
   "execution_count": null,
   "id": "49a471c4",
   "metadata": {},
   "outputs": [
    {
     "data": {
      "text/plain": [
       "array([[100,   1],\n",
       "       [  2,   3],\n",
       "       [  4,   5],\n",
       "       [  6,   7],\n",
       "       [  8,   9]])"
      ]
     },
     "execution_count": 84,
     "metadata": {},
     "output_type": "execute_result"
    }
   ],
   "source": [
    "array3[0,0] =100\n",
    "array3"
   ]
  },
  {
   "cell_type": "code",
   "execution_count": 85,
   "id": "2654ad9b",
   "metadata": {},
   "outputs": [
    {
     "data": {
      "text/plain": [
       "array([[100,   1],\n",
       "       [  2,  12],\n",
       "       [  4,  12],\n",
       "       [  6,  12],\n",
       "       [  8,  12]])"
      ]
     },
     "execution_count": 85,
     "metadata": {},
     "output_type": "execute_result"
    }
   ],
   "source": [
    "array3[1:, 1] = 12\n",
    "array3"
   ]
  },
  {
   "cell_type": "code",
   "execution_count": 110,
   "id": "2a45bf31",
   "metadata": {},
   "outputs": [
    {
     "data": {
      "text/plain": [
       "array([[False,  True],\n",
       "       [ True,  True],\n",
       "       [False, False],\n",
       "       [False,  True],\n",
       "       [ True, False]])"
      ]
     },
     "execution_count": 110,
     "metadata": {},
     "output_type": "execute_result"
    }
   ],
   "source": [
    "array4 = np.random.random(size=(5, 2))\n",
    "mask = array4 > 0.5\n",
    "mask"
   ]
  },
  {
   "cell_type": "code",
   "execution_count": 111,
   "id": "473616de",
   "metadata": {},
   "outputs": [],
   "source": [
    "array4[mask] = 0"
   ]
  },
  {
   "cell_type": "code",
   "execution_count": 112,
   "id": "a62e508a",
   "metadata": {},
   "outputs": [
    {
     "data": {
      "text/plain": [
       "array([[0.00752604, 0.        ],\n",
       "       [0.        , 0.        ],\n",
       "       [0.13363948, 0.28859676],\n",
       "       [0.0888724 , 0.        ],\n",
       "       [0.        , 0.34971502]])"
      ]
     },
     "execution_count": 112,
     "metadata": {},
     "output_type": "execute_result"
    }
   ],
   "source": [
    "array4"
   ]
  },
  {
   "cell_type": "code",
   "execution_count": 113,
   "id": "d2bb2e61",
   "metadata": {},
   "outputs": [],
   "source": [
    "array4[0,1] = 1\n",
    "array4[4, 1] = 1"
   ]
  },
  {
   "cell_type": "code",
   "execution_count": 114,
   "id": "ab02cbd5",
   "metadata": {},
   "outputs": [
    {
     "data": {
      "text/plain": [
       "array([[0.00752604, 1.        ],\n",
       "       [0.        , 0.        ],\n",
       "       [0.13363948, 0.28859676],\n",
       "       [0.0888724 , 0.        ],\n",
       "       [0.        , 1.        ]])"
      ]
     },
     "execution_count": 114,
     "metadata": {},
     "output_type": "execute_result"
    }
   ],
   "source": [
    "array4"
   ]
  },
  {
   "cell_type": "code",
   "execution_count": 115,
   "id": "751c43e9",
   "metadata": {},
   "outputs": [
    {
     "data": {
      "text/plain": [
       "array([[ 0.00752604, -1.        ],\n",
       "       [ 0.        ,  0.        ],\n",
       "       [ 0.13363948,  0.28859676],\n",
       "       [ 0.0888724 ,  0.        ],\n",
       "       [ 0.        , -1.        ]])"
      ]
     },
     "execution_count": 115,
     "metadata": {},
     "output_type": "execute_result"
    }
   ],
   "source": [
    "# [[filas], [columnas]]\n",
    "array4[[0,4], [1,1]] = -1\n",
    "array4"
   ]
  },
  {
   "cell_type": "code",
   "execution_count": 103,
   "id": "d48f4643",
   "metadata": {},
   "outputs": [],
   "source": [
    "array5 = np.random.random(size=(5, 2))\n",
    "array6 = np.zeros(shape=(5, 3))"
   ]
  },
  {
   "cell_type": "code",
   "execution_count": 106,
   "id": "d779feac",
   "metadata": {},
   "outputs": [],
   "source": [
    "array6[:,:2] = array5 "
   ]
  },
  {
   "cell_type": "code",
   "execution_count": 107,
   "id": "00c05ba6",
   "metadata": {},
   "outputs": [
    {
     "data": {
      "text/plain": [
       "array([[0.01015784, 0.76203233, 0.        ],\n",
       "       [0.42221423, 0.78291028, 0.        ],\n",
       "       [0.42858518, 0.31939186, 0.        ],\n",
       "       [0.7542973 , 0.39601416, 0.        ],\n",
       "       [0.66712538, 0.64698181, 0.        ]])"
      ]
     },
     "execution_count": 107,
     "metadata": {},
     "output_type": "execute_result"
    }
   ],
   "source": [
    "array6"
   ]
  },
  {
   "cell_type": "code",
   "execution_count": 118,
   "id": "b7605f03",
   "metadata": {},
   "outputs": [
    {
     "data": {
      "text/plain": [
       "array([[12, 24, 62, 48, 18],\n",
       "       [34, 33, 32, 91, 14],\n",
       "       [71, 46,  9, 18, 90],\n",
       "       [47, 44, 13, 49,  0],\n",
       "       [32, 66, 88, 97, 96],\n",
       "       [55, 97, 50, 94, 97],\n",
       "       [69, 51, 51, 25, 43],\n",
       "       [19, 40, 21,  7, 13],\n",
       "       [36, 57,  2, 15, 13],\n",
       "       [85, 89, 20,  7, 44],\n",
       "       [40, 95, 65, 95, 62],\n",
       "       [ 2, 85, 68, 38, 34],\n",
       "       [19, 38, 90, 64, 81],\n",
       "       [78, 29, 61, 94, 48],\n",
       "       [22, 58, 18, 48, 89],\n",
       "       [93,  2, 77, 73, 28],\n",
       "       [83, 94, 15, 24,  5],\n",
       "       [50, 35, 13, 62, 73],\n",
       "       [35,  2, 84, 70,  9],\n",
       "       [84, 86, 10, 28, 46],\n",
       "       [19, 27, 93, 12, 37]])"
      ]
     },
     "execution_count": 118,
     "metadata": {},
     "output_type": "execute_result"
    }
   ],
   "source": [
    "notas = np.random.randint(low=0, high=100, size=(21, 5))\n",
    "notas"
   ]
  },
  {
   "cell_type": "code",
   "execution_count": 119,
   "id": "473db8dc",
   "metadata": {},
   "outputs": [
    {
     "data": {
      "text/plain": [
       "97"
      ]
     },
     "execution_count": 119,
     "metadata": {},
     "output_type": "execute_result"
    }
   ],
   "source": [
    "notas.max()"
   ]
  },
  {
   "cell_type": "code",
   "execution_count": null,
   "id": "cadb1a1a",
   "metadata": {},
   "outputs": [
    {
     "data": {
      "text/plain": [
       "array([15,  5, 20,  4,  5])"
      ]
     },
     "execution_count": 125,
     "metadata": {},
     "output_type": "execute_result"
    }
   ],
   "source": [
    "notas.argmax(axis=0)"
   ]
  },
  {
   "cell_type": "code",
   "execution_count": 126,
   "id": "868f6ed4",
   "metadata": {},
   "outputs": [
    {
     "data": {
      "text/plain": [
       "array([2, 3, 4, 3, 3, 1, 0, 1, 1, 1, 1, 1, 2, 3, 4, 0, 1, 4, 2, 1, 2])"
      ]
     },
     "execution_count": 126,
     "metadata": {},
     "output_type": "execute_result"
    }
   ],
   "source": [
    "notas.argmax(axis=1)"
   ]
  },
  {
   "cell_type": "code",
   "execution_count": 121,
   "id": "41b9e399",
   "metadata": {},
   "outputs": [
    {
     "data": {
      "text/plain": [
       "47.84761904761905"
      ]
     },
     "execution_count": 121,
     "metadata": {},
     "output_type": "execute_result"
    }
   ],
   "source": [
    "notas.mean()"
   ]
  },
  {
   "cell_type": "code",
   "execution_count": 129,
   "id": "63928869",
   "metadata": {},
   "outputs": [
    {
     "data": {
      "text/plain": [
       "array([46.9047619 , 52.28571429, 44.85714286, 50.42857143, 44.76190476])"
      ]
     },
     "execution_count": 129,
     "metadata": {},
     "output_type": "execute_result"
    }
   ],
   "source": [
    "mean_by_exam = notas.mean(axis=0)\n",
    "mean_by_exam"
   ]
  },
  {
   "cell_type": "code",
   "execution_count": 128,
   "id": "e7053abc",
   "metadata": {},
   "outputs": [
    {
     "data": {
      "text/plain": [
       "array([32.8, 40.8, 46.8, 30.6, 75.8, 78.6, 47.8, 20. , 24.6, 49. , 71.4,\n",
       "       45.4, 58.4, 62. , 47. , 54.6, 44.2, 46.6, 40. , 50.8, 37.6])"
      ]
     },
     "execution_count": 128,
     "metadata": {},
     "output_type": "execute_result"
    }
   ],
   "source": [
    "notas.mean(axis=1)"
   ]
  },
  {
   "cell_type": "code",
   "execution_count": 133,
   "id": "dd4a0d7d",
   "metadata": {},
   "outputs": [
    {
     "data": {
      "text/plain": [
       "array([[-34, -28,  18,  -2, -26],\n",
       "       [-12, -19, -12,  41, -30],\n",
       "       [ 25,  -6, -35, -32,  46],\n",
       "       [  1,  -8, -31,  -1, -44],\n",
       "       [-14,  14,  44,  47,  52],\n",
       "       [  9,  45,   6,  44,  53],\n",
       "       [ 23,  -1,   7, -25,  -1],\n",
       "       [-27, -12, -23, -43, -31],\n",
       "       [-10,   5, -42, -35, -31],\n",
       "       [ 39,  37, -24, -43,   0],\n",
       "       [ -6,  43,  21,  45,  18],\n",
       "       [-44,  33,  24, -12, -10],\n",
       "       [-27, -14,  46,  14,  37],\n",
       "       [ 32, -23,  17,  44,   4],\n",
       "       [-24,   6, -26,  -2,  45],\n",
       "       [ 47, -50,  33,  23, -16],\n",
       "       [ 37,  42, -29, -26, -39],\n",
       "       [  4, -17, -31,  12,  29],\n",
       "       [-11, -50,  40,  20, -35],\n",
       "       [ 38,  34, -34, -22,   2],\n",
       "       [-27, -25,  49, -38,  -7]])"
      ]
     },
     "execution_count": 133,
     "metadata": {},
     "output_type": "execute_result"
    }
   ],
   "source": [
    "notas - mean_by_exam.astype(np.int32)"
   ]
  },
  {
   "cell_type": "code",
   "execution_count": 134,
   "id": "e368da2f",
   "metadata": {},
   "outputs": [
    {
     "data": {
      "text/plain": [
       "array([[-34.9 , -28.29,  17.14,  -2.43, -26.76],\n",
       "       [-12.9 , -19.29, -12.86,  40.57, -30.76],\n",
       "       [ 24.1 ,  -6.29, -35.86, -32.43,  45.24],\n",
       "       [  0.1 ,  -8.29, -31.86,  -1.43, -44.76],\n",
       "       [-14.9 ,  13.71,  43.14,  46.57,  51.24],\n",
       "       [  8.1 ,  44.71,   5.14,  43.57,  52.24],\n",
       "       [ 22.1 ,  -1.29,   6.14, -25.43,  -1.76],\n",
       "       [-27.9 , -12.29, -23.86, -43.43, -31.76],\n",
       "       [-10.9 ,   4.71, -42.86, -35.43, -31.76],\n",
       "       [ 38.1 ,  36.71, -24.86, -43.43,  -0.76],\n",
       "       [ -6.9 ,  42.71,  20.14,  44.57,  17.24],\n",
       "       [-44.9 ,  32.71,  23.14, -12.43, -10.76],\n",
       "       [-27.9 , -14.29,  45.14,  13.57,  36.24],\n",
       "       [ 31.1 , -23.29,  16.14,  43.57,   3.24],\n",
       "       [-24.9 ,   5.71, -26.86,  -2.43,  44.24],\n",
       "       [ 46.1 , -50.29,  32.14,  22.57, -16.76],\n",
       "       [ 36.1 ,  41.71, -29.86, -26.43, -39.76],\n",
       "       [  3.1 , -17.29, -31.86,  11.57,  28.24],\n",
       "       [-11.9 , -50.29,  39.14,  19.57, -35.76],\n",
       "       [ 37.1 ,  33.71, -34.86, -22.43,   1.24],\n",
       "       [-27.9 , -25.29,  48.14, -38.43,  -7.76]])"
      ]
     },
     "execution_count": 134,
     "metadata": {},
     "output_type": "execute_result"
    }
   ],
   "source": [
    "notas - mean_by_exam.round(2)"
   ]
  },
  {
   "cell_type": "code",
   "execution_count": 136,
   "id": "0f15482f",
   "metadata": {},
   "outputs": [
    {
     "data": {
      "text/plain": [
       "array([[89, 56],\n",
       "       [20, 62],\n",
       "       [84, 70]])"
      ]
     },
     "execution_count": 136,
     "metadata": {},
     "output_type": "execute_result"
    }
   ],
   "source": [
    "notas1 = np.random.randint(low=0, high=100, size=(3, 2))\n",
    "notas1"
   ]
  },
  {
   "cell_type": "code",
   "execution_count": 140,
   "id": "d75caeb8",
   "metadata": {},
   "outputs": [
    {
     "data": {
      "text/plain": [
       "array([[11057,  5252, 11396],\n",
       "       [ 5252,  4244,  6020],\n",
       "       [11396,  6020, 11956]])"
      ]
     },
     "execution_count": 140,
     "metadata": {},
     "output_type": "execute_result"
    }
   ],
   "source": [
    "notas1 @ notas1.T"
   ]
  },
  {
   "cell_type": "code",
   "execution_count": 142,
   "id": "9c2287fb",
   "metadata": {},
   "outputs": [
    {
     "data": {
      "text/plain": [
       "((3, 2), (2, 3))"
      ]
     },
     "execution_count": 142,
     "metadata": {},
     "output_type": "execute_result"
    }
   ],
   "source": [
    "notas1.shape, notas1.T.shape"
   ]
  },
  {
   "cell_type": "code",
   "execution_count": null,
   "id": "59c47209",
   "metadata": {},
   "outputs": [],
   "source": []
  }
 ],
 "metadata": {
  "kernelspec": {
   "display_name": "Python 3",
   "language": "python",
   "name": "python3"
  },
  "language_info": {
   "codemirror_mode": {
    "name": "ipython",
    "version": 3
   },
   "file_extension": ".py",
   "mimetype": "text/x-python",
   "name": "python",
   "nbconvert_exporter": "python",
   "pygments_lexer": "ipython3",
   "version": "3.10.13"
  }
 },
 "nbformat": 4,
 "nbformat_minor": 5
}
