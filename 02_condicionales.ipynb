{
 "cells": [
  {
   "cell_type": "code",
   "execution_count": null,
   "metadata": {},
   "outputs": [],
   "source": [
    "number = 10\n",
    "if number > 0:\n",
    "    print(\"Positive number\")\n",
    "else:\n",
    "  print(\"Negative number\")\n"
   ]
  },
  {
   "cell_type": "code",
   "execution_count": null,
   "metadata": {},
   "outputs": [],
   "source": [
    "2 == 3"
   ]
  },
  {
   "cell_type": "code",
   "execution_count": null,
   "metadata": {},
   "outputs": [],
   "source": [
    "2 == 2"
   ]
  },
  {
   "cell_type": "code",
   "execution_count": null,
   "metadata": {},
   "outputs": [],
   "source": [
    "2 != 3"
   ]
  },
  {
   "cell_type": "code",
   "execution_count": null,
   "metadata": {},
   "outputs": [],
   "source": [
    "2!=2"
   ]
  },
  {
   "cell_type": "code",
   "execution_count": null,
   "metadata": {},
   "outputs": [],
   "source": [
    "3>2"
   ]
  },
  {
   "cell_type": "code",
   "execution_count": null,
   "metadata": {},
   "outputs": [],
   "source": [
    "3>3"
   ]
  },
  {
   "cell_type": "code",
   "execution_count": null,
   "metadata": {},
   "outputs": [],
   "source": [
    "3>=3"
   ]
  },
  {
   "cell_type": "code",
   "execution_count": null,
   "metadata": {},
   "outputs": [],
   "source": [
    "\"ropa\" == \"Electronica\""
   ]
  },
  {
   "cell_type": "code",
   "execution_count": null,
   "metadata": {},
   "outputs": [],
   "source": [
    "producto_1 = \"ropa\"\n",
    "producto_2 = \"Electronica\"\n",
    "producto_1 == producto_2"
   ]
  },
  {
   "cell_type": "code",
   "execution_count": null,
   "metadata": {},
   "outputs": [],
   "source": [
    "producto_1 = True\n",
    "producto_2 = False\n",
    "producto_1 == producto_2"
   ]
  },
  {
   "cell_type": "code",
   "execution_count": null,
   "metadata": {},
   "outputs": [],
   "source": [
    "producto_1 != producto_2"
   ]
  },
  {
   "cell_type": "code",
   "execution_count": null,
   "metadata": {},
   "outputs": [],
   "source": [
    "producto = \"ropa\"\n",
    "precio = 1200\n",
    "\n",
    "producto == \"alientos\"\n",
    "precio >= 1000\n"
   ]
  },
  {
   "cell_type": "code",
   "execution_count": null,
   "metadata": {},
   "outputs": [],
   "source": [
    "(producto == \"ropa\") and (precio >= 1000)"
   ]
  },
  {
   "cell_type": "code",
   "execution_count": null,
   "metadata": {},
   "outputs": [],
   "source": [
    "producto = \"ropa\"\n",
    "precio = 1200\n",
    "\n",
    "\n",
    "if (producto == \"ropa\") and (precio >= 1000):\n",
    "    print(\"Producto en oferta\")\n",
    "else:\n",
    "    print(\"Producto no en oferta\")"
   ]
  },
  {
   "cell_type": "code",
   "execution_count": null,
   "metadata": {},
   "outputs": [],
   "source": [
    "producto = \"alimentos\"\n",
    "precio = 1200\n",
    "\n",
    "\n",
    "if (producto == \"ropa\") and (precio >= 1000):\n",
    "    print(\"Producto en oferta\")\n",
    "else:\n",
    "    print(\"Producto no en oferta\")"
   ]
  },
  {
   "cell_type": "code",
   "execution_count": null,
   "metadata": {},
   "outputs": [],
   "source": [
    "producto = \"ropa\"\n",
    "precio = 1200\n",
    "\n",
    "\n",
    "if (producto == \"ropa\") or (precio >= 1000):\n",
    "    print(f\"Producto de la categoria {producto} esta en oferta\")\n",
    "else:\n",
    "    print(f\"Producto de la categoria {producto} NO esta en oferta\")"
   ]
  },
  {
   "cell_type": "code",
   "execution_count": null,
   "metadata": {},
   "outputs": [],
   "source": [
    "producto = \"ropa\"\n",
    "precio = 900\n",
    "\n",
    "((producto == \"ropa\") and (precio >= 1000)) or (producto == \"Electronica\")\n",
    "# (True and False) or False\n",
    "# False or False\n",
    "# False\n",
    "\n"
   ]
  },
  {
   "cell_type": "code",
   "execution_count": null,
   "metadata": {},
   "outputs": [],
   "source": [
    "producto = \"ropa\"\n",
    "precio = 1100\n",
    "\n",
    "((producto == \"ropa\") and (precio >= 1000)) or (producto == \"Electronica\")\n",
    "# (True and True) or False\n",
    "# True or False\n",
    "# True"
   ]
  },
  {
   "cell_type": "code",
   "execution_count": null,
   "metadata": {},
   "outputs": [],
   "source": []
  },
  {
   "cell_type": "code",
   "execution_count": null,
   "metadata": {},
   "outputs": [],
   "source": [
    "cantidad_de_tinta = 0\n",
    "cantidad_de_papel = 551\n",
    "\n",
    "if cantidad_de_tinta > 0:\n",
    "    if cantidad_de_papel > 0:\n",
    "        print(\"Imprimir\")\n",
    "    else:\n",
    "        print(\"recargar papel\")\n",
    "else:\n",
    "    print(\"recargar la tinta\")"
   ]
  },
  {
   "cell_type": "code",
   "execution_count": null,
   "metadata": {},
   "outputs": [],
   "source": [
    "cantidad_de_tinta = int(input(\"Ingrese la cantidad de tinta\"))\n",
    "cantidad_de_papel = int(input(\"Ingrese la cantidad de papel\"))\n",
    "\n",
    "if cantidad_de_tinta > 0:\n",
    "    if cantidad_de_papel > 0:\n",
    "        print(\"Imprimir\")\n",
    "    else:\n",
    "        print(\"recargar papel\")\n",
    "else:\n",
    "    print(\"recargar la tinta\")"
   ]
  },
  {
   "cell_type": "code",
   "execution_count": null,
   "metadata": {},
   "outputs": [
    {
     "name": "stdout",
     "output_type": "stream",
     "text": [
      "producto categoria jardin, precio inical: 1200 - precio de venta: 1200\n"
     ]
    },
    {
     "data": {
      "text/plain": [
       "1200"
      ]
     },
     "execution_count": 4,
     "metadata": {},
     "output_type": "execute_result"
    }
   ],
   "source": [
    "precio = 1200\n",
    "categoria = \"jardin\"\n",
    "factor_precio_ropa = 1.3\n",
    "factor_precio_electronica = 1.2\n",
    "factor_precio_alimento = 1.1\n",
    "\n",
    "if categoria == \"electronica\":\n",
    "    precio_de_venta = precio * factor_precio_electronica\n",
    "    print(\n",
    "        f\"producto categoria {categoria}, precio inical: {precio} - precio de venta: {precio_de_venta}\"\n",
    "    )\n",
    "elif categoria == \"ropa\":\n",
    "    precio_de_venta = precio * factor_precio_ropa\n",
    "    print(\n",
    "        f\"producto categoria {categoria}, precio inical: {precio} - precio de venta: {precio_de_venta}\"\n",
    "    )\n",
    "elif categoria == \"alimentos\":\n",
    "    precio_de_venta = precio * factor_precio_alimento\n",
    "    print(\n",
    "        f\"producto categoria {categoria}, precio inical: {precio} - precio de venta: {precio_de_venta}\"\n",
    "    )\n",
    "else:\n",
    "    precio_de_venta = precio\n",
    "    print(\n",
    "        f\"producto categoria {categoria}, precio inical: {precio} - precio de venta: {precio_de_venta}\"\n",
    "    )\n",
    "\n",
    "precio_de_venta"
   ]
  },
  {
   "cell_type": "code",
   "execution_count": null,
   "metadata": {},
   "outputs": [],
   "source": []
  },
  {
   "cell_type": "code",
   "execution_count": null,
   "metadata": {},
   "outputs": [
    {
     "name": "stdout",
     "output_type": "stream",
     "text": [
      "hola mundo\n"
     ]
    }
   ],
   "source": [
    "# bool(\"hola\") -> True\n",
    "# bool(\"\") -> False\n",
    "if \"hola\":\n",
    "    print(\"hola mundo\")"
   ]
  },
  {
   "cell_type": "code",
   "execution_count": 7,
   "metadata": {},
   "outputs": [],
   "source": [
    "if \"\":\n",
    "    print(\"hola mundo\")"
   ]
  },
  {
   "cell_type": "code",
   "execution_count": 8,
   "metadata": {},
   "outputs": [
    {
     "name": "stdout",
     "output_type": "stream",
     "text": [
      "la temperatura es mayor a 0\n"
     ]
    }
   ],
   "source": [
    "\n",
    "temperatura = -1\n",
    "if temperatura:\n",
    "    print(\"la temperatura es mayor a 0\")"
   ]
  },
  {
   "cell_type": "code",
   "execution_count": null,
   "metadata": {},
   "outputs": [
    {
     "data": {
      "text/plain": [
       "4.2"
      ]
     },
     "execution_count": 5,
     "metadata": {},
     "output_type": "execute_result"
    }
   ],
   "source": [
    "2 + 2.2\n",
    "# 2.0 + 2.2"
   ]
  },
  {
   "cell_type": "code",
   "execution_count": 12,
   "metadata": {},
   "outputs": [
    {
     "data": {
      "text/plain": [
       "'mayor a cero'"
      ]
     },
     "execution_count": 12,
     "metadata": {},
     "output_type": "execute_result"
    }
   ],
   "source": [
    "precio = 10\n",
    "if precio > 0:\n",
    "    resultado = \"mayor a cero\"\n",
    "else:\n",
    "    resultado = \"menor a cero\"\n",
    "resultado"
   ]
  },
  {
   "cell_type": "code",
   "execution_count": 11,
   "metadata": {},
   "outputs": [
    {
     "data": {
      "text/plain": [
       "'mayor a cero'"
      ]
     },
     "execution_count": 11,
     "metadata": {},
     "output_type": "execute_result"
    }
   ],
   "source": [
    "# (Resultado verdadero) if (condicion) else (condicion false)\n",
    "precio = 10\n",
    "resultado = \"mayor a cero\" if precio > 0 else \"menor a cero\"\n",
    "resultado\n"
   ]
  }
 ],
 "metadata": {
  "kernelspec": {
   "display_name": "Python 3",
   "language": "python",
   "name": "python3"
  },
  "language_info": {
   "codemirror_mode": {
    "name": "ipython",
    "version": 3
   },
   "file_extension": ".py",
   "mimetype": "text/x-python",
   "name": "python",
   "nbconvert_exporter": "python",
   "pygments_lexer": "ipython3",
   "version": "3.10.15"
  }
 },
 "nbformat": 4,
 "nbformat_minor": 2
}
