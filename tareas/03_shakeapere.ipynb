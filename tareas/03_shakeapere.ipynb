{
 "cells": [
  {
   "cell_type": "code",
   "execution_count": null,
   "id": "276b55ff",
   "metadata": {},
   "outputs": [],
   "source": [
    "def n_words_large_than(texto, umbral):\n",
    "    # text2 = texto.replace(\".\", \"\")\n",
    "    words = texto.split(\" \")\n",
    "    counter = 0\n",
    "    for word in words:\n",
    "        if len(word) >= umbral:\n",
    "            counter += 1\n",
    "    return counter\n",
    "\n",
    "\n",
    "file_path = \"the_sonnets.txt\"\n",
    "\n",
    "with open(file_path, \"r\") as file:\n",
    "    sonnets_raw = file.read()\n",
    "\n",
    "sonnets = sonnets_raw.split(\"\\n\\n\")\n",
    "\n",
    "n_words = []\n",
    "for sonnet in sonnets:\n",
    "    n_word = n_words_large_than(sonnet, 5)\n",
    "    n_words.append(n_word)\n",
    "\n",
    "with open(\"words_in_sonnets.txt\", \"w\") as file:\n",
    "    index = 0\n",
    "    for n_word in n_words:\n",
    "        file.write(f\"{index}: {n_word}\\n\")\n",
    "        index += 1"
   ]
  }
 ],
 "metadata": {
  "kernelspec": {
   "display_name": ".venv",
   "language": "python",
   "name": "python3"
  },
  "language_info": {
   "codemirror_mode": {
    "name": "ipython",
    "version": 3
   },
   "file_extension": ".py",
   "mimetype": "text/x-python",
   "name": "python",
   "nbconvert_exporter": "python",
   "pygments_lexer": "ipython3",
   "version": "3.13.3"
  }
 },
 "nbformat": 4,
 "nbformat_minor": 5
}
