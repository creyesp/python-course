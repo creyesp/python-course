{
 "cells": [
  {
   "cell_type": "markdown",
   "id": "66d8e5ff",
   "metadata": {},
   "source": [
    "Usando los datos proporcionados sobre los precios de productos en Uruguay, realizar las siguientes operaciones:\n",
    "- Leer cada uno de los archivos y unificar (usando pd.concat) la información en un solo dataframe.\n",
    "- Crear una nueva columna llamada “date” que contenga la fecha en formato YYYY-MM-DD, utilizando el año y mes extraídos del nombre del archivo.\n",
    "- Convertir la fecha en string a timestamp de pandas\n",
    "- Filtrar el dataframe para conservar únicamente los registros donde el producto sea “Aceite de girasol”.\n",
    "- Sobre el conjunto filtrado, agrupar los datos por marca y calcular la suma de muestras (n).\n",
    "- Filtrar nuevamente el conjunto anterior para obtener únicamente los datos correspondientes al año 2024, y obtener el precio mínimo, máximo* y promedio por marca.\n",
    "\n",
    "Consideraciones:\n",
    "* Para el calculo del promedio de precios Dado que los datos ya están agrupados, y para que el promedio sea correcto, es necesario crear una variable auxiliar llamada total = mean × n. Luego, se deben sumar todos los valores de total y de n, y calcular el promedio final como total acumulado / n acumulado."
   ]
  },
  {
   "cell_type": "code",
   "execution_count": null,
   "id": "d76e7c08",
   "metadata": {},
   "outputs": [],
   "source": [
    "# # Obtener la lista de archivos CSV\n",
    "#import os\n",
    "#base_path = \"carpeta/con/los/archivos/\"\n",
    "#file_paths = [os.path.join(base_path, file_name) for file_name in os.listdir(base_path) if file_name.endswith(\".csv\")]\n",
    "# O poner la lista de archivos directamente\n",
    "#file_paths = [\n",
    "#    \"lista_con_los_rutas_de_los_archivos.csv\",\n",
    "#    \"lista_con_los_rutas_de_los_archivos.csv\",\n",
    "#]\n",
    "\n",
    "months = {\n",
    "    \"enero\": \"01\",\n",
    "    \"febrero\": \"02\",\n",
    "    \"marzo\": \"03\",\n",
    "    \"abril\": \"04\",\n",
    "    \"mayo\": \"05\",\n",
    "    \"junio\": \"06\",\n",
    "    \"julio\": \"07\",\n",
    "    \"agosto\": \"08\",\n",
    "    \"setiembre\": \"09\",\n",
    "    \"octubre\": \"10\",\n",
    "    \"noviembre\": \"11\",\n",
    "    \"diciembre\": \"12\",\n",
    "}\n",
    "data_by_months = []\n",
    "for file_path in file_paths:\n",
    "    year = file_path.split(\"_\")[-1].replace(\".csv\", \"\")\n",
    "    month = months[file_path.split(\"_\")[-2]]\n",
    "    data = pd.read_csv(file_path, sep=\";\", encoding=\"utf-8\", decimal=\",\")\n",
    "    data.columns = data.columns.str.lower()\n",
    "    data.rename(\n",
    "        columns={\n",
    "            \"ppdm.ant\": \"ppdm.anterior\",\n",
    "            \"ppdm_ant\": \"ppdm.anterior\",\n",
    "            \"pmax.99%\": \"pmax\",\n",
    "            \"pmin.1%\": \"pmin\",\n",
    "            \"pmediano\": \"median\",\n",
    "            \"ppdm\": \"mean\",\n",
    "        },\n",
    "        inplace=True,\n",
    "    )\n",
    "    data[\"date\"] = f\"{year}-{month}-01\"\n",
    "    data_by_months.append(data)\n",
    "data_price = pd.concat(data_by_months, ignore_index=True)"
   ]
  },
  {
   "cell_type": "code",
   "execution_count": 2,
   "id": "5a98614e",
   "metadata": {},
   "outputs": [],
   "source": [
    "import pandas as pd\n",
    "import os"
   ]
  },
  {
   "cell_type": "code",
   "execution_count": 3,
   "id": "de7c71b3",
   "metadata": {},
   "outputs": [],
   "source": [
    "month_map = {\n",
    "    \"enero\": \"01\",\n",
    "    \"febrero\": \"02\",\n",
    "    \"marzo\": \"03\",\n",
    "    \"abril\": \"04\",\n",
    "    \"mayo\": \"05\",\n",
    "    \"junio\": \"06\",\n",
    "    \"julio\": \"07\",\n",
    "    \"agosto\": \"08\",\n",
    "    \"setiembre\": \"09\",\n",
    "    \"octubre\": \"10\",\n",
    "    \"noviembre\": \"11\",\n",
    "    \"diciembre\": \"12\",\n",
    "}"
   ]
  },
  {
   "cell_type": "code",
   "execution_count": null,
   "id": "76b716db",
   "metadata": {},
   "outputs": [],
   "source": [
    "base_path = 'data/prices/'\n",
    "prices = []\n",
    "for file_name in os.listdir(base_path):\n",
    "    if file_name.endswith('.csv'):\n",
    "        file_path = os.path.join(base_path, file_name)\n",
    "        data = pd.read_csv(file_path, sep=\";\", encoding=\"utf-8\", decimal=\",\")\n",
    "        data.columns = data.columns.str.lower()\n",
    "        data.rename(\n",
    "            columns={\n",
    "                \"ppdm.ant\": \"ppdm.anterior\",\n",
    "                \"ppdm_ant\": \"ppdm.anterior\",\n",
    "                \"pmax.99%\": \"pmax\",\n",
    "                \"pmin.1%\": \"pmin\",\n",
    "            },\n",
    "            inplace=True,\n",
    "        )\n",
    "        month, year = file_name.replace(\".csv\", \"\").split(\"_\")[-2:]\n",
    "        data[\"date\"] = f\"{year}-{month_map[month]}-01\"\n",
    "        data[\"date\"] = pd.to_datetime(data[\"date\"])\n",
    "        prices.append(data)\n",
    "all_data = pd.concat(prices, ignore_index=True)"
   ]
  },
  {
   "cell_type": "code",
   "execution_count": 61,
   "id": "5ff4f890",
   "metadata": {},
   "outputs": [
    {
     "data": {
      "text/plain": [
       "Index(['id.presentacion', 'producto', 'marca', 'especificacion', 'n', 'min',\n",
       "       'pmin', 'median', 'mean', 'pmax', 'max', 'ee', 'iqr', 'ppdm.anterior',\n",
       "       'var.mens', 'c.v.', 'date'],\n",
       "      dtype='object')"
      ]
     },
     "execution_count": 61,
     "metadata": {},
     "output_type": "execute_result"
    }
   ],
   "source": [
    "data.columns.str.lower()"
   ]
  },
  {
   "cell_type": "code",
   "execution_count": null,
   "id": "9d397a69",
   "metadata": {},
   "outputs": [],
   "source": []
  },
  {
   "cell_type": "code",
   "execution_count": 63,
   "id": "83007d0c",
   "metadata": {},
   "outputs": [
    {
     "data": {
      "text/plain": [
       "['c.v.',\n",
       " 'canasta',\n",
       " 'date',\n",
       " 'ee',\n",
       " 'especificacion',\n",
       " 'grupo',\n",
       " 'id.presentacion',\n",
       " 'iqr',\n",
       " 'marca',\n",
       " 'max',\n",
       " 'mean',\n",
       " 'median',\n",
       " 'min',\n",
       " 'n',\n",
       " 'pmax',\n",
       " 'pmediano',\n",
       " 'pmin',\n",
       " 'ppdm',\n",
       " 'ppdm.anterior',\n",
       " 'producto',\n",
       " 'unnamed: 16',\n",
       " 'unnamed: 17',\n",
       " 'unnamed: 18',\n",
       " 'unnamed: 19',\n",
       " 'var.mens',\n",
       " 'ï»¿id.presentacion']"
      ]
     },
     "execution_count": 63,
     "metadata": {},
     "output_type": "execute_result"
    }
   ],
   "source": [
    "sorted(all_data.columns.to_list())"
   ]
  },
  {
   "cell_type": "code",
   "execution_count": 46,
   "id": "b7d996df",
   "metadata": {},
   "outputs": [
    {
     "data": {
      "text/plain": [
       "3120     Aceite de girasol\n",
       "3121     Aceite de girasol\n",
       "3122     Aceite de girasol\n",
       "3123        Aceite de maíz\n",
       "3124        Aceite de maíz\n",
       "               ...        \n",
       "11453              Perfume\n",
       "11454              Perfume\n",
       "11455               Tinta \n",
       "11456               Tinta \n",
       "11457               Tinta \n",
       "Name: producto, Length: 793, dtype: object"
      ]
     },
     "execution_count": 46,
     "metadata": {},
     "output_type": "execute_result"
    }
   ],
   "source": [
    "all_data.loc[all_data[\"ï»¿id.presentacion\"].notna(), \"producto\"].str.encode(\"latin1\").str.decode(\"utf-8\")"
   ]
  },
  {
   "cell_type": "code",
   "execution_count": 5,
   "id": "d38677a9",
   "metadata": {},
   "outputs": [
    {
     "data": {
      "application/vnd.microsoft.datawrangler.viewer.v0+json": {
       "columns": [
        {
         "name": "index",
         "rawType": "int64",
         "type": "integer"
        },
        {
         "name": "id.presentacion",
         "rawType": "int64",
         "type": "integer"
        },
        {
         "name": "producto",
         "rawType": "object",
         "type": "string"
        },
        {
         "name": "marca",
         "rawType": "object",
         "type": "string"
        },
        {
         "name": "especificacion",
         "rawType": "object",
         "type": "string"
        },
        {
         "name": "n",
         "rawType": "int64",
         "type": "integer"
        },
        {
         "name": "min",
         "rawType": "float64",
         "type": "float"
        },
        {
         "name": "pmin",
         "rawType": "float64",
         "type": "float"
        },
        {
         "name": "median",
         "rawType": "float64",
         "type": "float"
        },
        {
         "name": "mean",
         "rawType": "float64",
         "type": "float"
        },
        {
         "name": "pmax",
         "rawType": "float64",
         "type": "float"
        },
        {
         "name": "max",
         "rawType": "float64",
         "type": "float"
        },
        {
         "name": "ee",
         "rawType": "float64",
         "type": "float"
        },
        {
         "name": "iqr",
         "rawType": "float64",
         "type": "float"
        },
        {
         "name": "ppdm.anterior",
         "rawType": "float64",
         "type": "float"
        },
        {
         "name": "var.mens",
         "rawType": "float64",
         "type": "float"
        },
        {
         "name": "c.v.",
         "rawType": "float64",
         "type": "float"
        },
        {
         "name": "date",
         "rawType": "datetime64[ns]",
         "type": "datetime"
        }
       ],
       "conversionMethod": "pd.DataFrame",
       "ref": "1a1947bc-e1b1-477b-9dea-21531b3b6e27",
       "rows": [
        [
         "0",
         "1",
         "Aceite de girasol",
         "Óptimo",
         "Envase 900 cc",
         "397",
         "115.0",
         "119.0",
         "136.0",
         "133.6333854",
         "152.0",
         "166.0",
         "8.269010758",
         "11.0",
         "134.4300809",
         "-0.005926",
         "0.06187833",
         "2023-01-01 00:00:00"
        ],
        [
         "1",
         "2",
         "Aceite de girasol",
         "Río de la Plata",
         "Envase 900 cc",
         "380",
         "115.0",
         "119.0",
         "153.0",
         "153.8709191",
         "173.0",
         "179.0",
         "11.76094575",
         "16.0",
         "155.1032424",
         "-0.007945",
         "0.076433844",
         "2023-01-01 00:00:00"
        ],
        [
         "2",
         "3",
         "Aceite de girasol",
         "Uruguay",
         "Envase 900 cc",
         "188",
         "102.0",
         "103.5",
         "117.37",
         "118.3404041",
         "156.0",
         "156.0",
         "12.55064199",
         "18.1",
         "118.0102399",
         "0.002798",
         "0.106055426",
         "2023-01-01 00:00:00"
        ],
        [
         "200",
         "359",
         "Aceite de girasol",
         "Tata",
         "Envase 900 cc",
         "86",
         "109.0",
         "118.0",
         "130.0",
         "129.5651163",
         "130.0",
         "130.0",
         "2.597180362",
         "0.0",
         "126.7116279",
         "0.02252",
         "0.020045367",
         "2023-01-01 00:00:00"
        ],
        [
         "202",
         "361",
         "Aceite de girasol",
         "Precio Líder",
         "Envase 900 cc",
         "83",
         "99.0",
         "99.0",
         "115.0",
         "116.1006607",
         "135.0",
         "135.0",
         "11.96500419",
         "30.0",
         "116.9717129",
         "-0.007447",
         "0.103057159",
         "2023-01-01 00:00:00"
        ],
        [
         "205",
         "365",
         "Aceite de girasol",
         "Tienda Inglesa",
         "Envase 900 cc",
         "15",
         "109.0",
         "109.0",
         "129.0",
         "127.511828",
         "158.0",
         "158.0",
         "13.66724193",
         "21.0",
         "136.2043011",
         "-0.063819",
         "0.107184111",
         "2023-01-01 00:00:00"
        ]
       ],
       "shape": {
        "columns": 17,
        "rows": 6
       }
      },
      "text/html": [
       "<div>\n",
       "<style scoped>\n",
       "    .dataframe tbody tr th:only-of-type {\n",
       "        vertical-align: middle;\n",
       "    }\n",
       "\n",
       "    .dataframe tbody tr th {\n",
       "        vertical-align: top;\n",
       "    }\n",
       "\n",
       "    .dataframe thead th {\n",
       "        text-align: right;\n",
       "    }\n",
       "</style>\n",
       "<table border=\"1\" class=\"dataframe\">\n",
       "  <thead>\n",
       "    <tr style=\"text-align: right;\">\n",
       "      <th></th>\n",
       "      <th>id.presentacion</th>\n",
       "      <th>producto</th>\n",
       "      <th>marca</th>\n",
       "      <th>especificacion</th>\n",
       "      <th>n</th>\n",
       "      <th>min</th>\n",
       "      <th>pmin</th>\n",
       "      <th>median</th>\n",
       "      <th>mean</th>\n",
       "      <th>pmax</th>\n",
       "      <th>max</th>\n",
       "      <th>ee</th>\n",
       "      <th>iqr</th>\n",
       "      <th>ppdm.anterior</th>\n",
       "      <th>var.mens</th>\n",
       "      <th>c.v.</th>\n",
       "      <th>date</th>\n",
       "    </tr>\n",
       "  </thead>\n",
       "  <tbody>\n",
       "    <tr>\n",
       "      <th>0</th>\n",
       "      <td>1</td>\n",
       "      <td>Aceite de girasol</td>\n",
       "      <td>Óptimo</td>\n",
       "      <td>Envase 900 cc</td>\n",
       "      <td>397</td>\n",
       "      <td>115.0</td>\n",
       "      <td>119.0</td>\n",
       "      <td>136.00</td>\n",
       "      <td>133.633385</td>\n",
       "      <td>152.0</td>\n",
       "      <td>166.0</td>\n",
       "      <td>8.269011</td>\n",
       "      <td>11.0</td>\n",
       "      <td>134.430081</td>\n",
       "      <td>-0.005926</td>\n",
       "      <td>0.061878</td>\n",
       "      <td>2023-01-01</td>\n",
       "    </tr>\n",
       "    <tr>\n",
       "      <th>1</th>\n",
       "      <td>2</td>\n",
       "      <td>Aceite de girasol</td>\n",
       "      <td>Río de la Plata</td>\n",
       "      <td>Envase 900 cc</td>\n",
       "      <td>380</td>\n",
       "      <td>115.0</td>\n",
       "      <td>119.0</td>\n",
       "      <td>153.00</td>\n",
       "      <td>153.870919</td>\n",
       "      <td>173.0</td>\n",
       "      <td>179.0</td>\n",
       "      <td>11.760946</td>\n",
       "      <td>16.0</td>\n",
       "      <td>155.103242</td>\n",
       "      <td>-0.007945</td>\n",
       "      <td>0.076434</td>\n",
       "      <td>2023-01-01</td>\n",
       "    </tr>\n",
       "    <tr>\n",
       "      <th>2</th>\n",
       "      <td>3</td>\n",
       "      <td>Aceite de girasol</td>\n",
       "      <td>Uruguay</td>\n",
       "      <td>Envase 900 cc</td>\n",
       "      <td>188</td>\n",
       "      <td>102.0</td>\n",
       "      <td>103.5</td>\n",
       "      <td>117.37</td>\n",
       "      <td>118.340404</td>\n",
       "      <td>156.0</td>\n",
       "      <td>156.0</td>\n",
       "      <td>12.550642</td>\n",
       "      <td>18.1</td>\n",
       "      <td>118.010240</td>\n",
       "      <td>0.002798</td>\n",
       "      <td>0.106055</td>\n",
       "      <td>2023-01-01</td>\n",
       "    </tr>\n",
       "    <tr>\n",
       "      <th>200</th>\n",
       "      <td>359</td>\n",
       "      <td>Aceite de girasol</td>\n",
       "      <td>Tata</td>\n",
       "      <td>Envase 900 cc</td>\n",
       "      <td>86</td>\n",
       "      <td>109.0</td>\n",
       "      <td>118.0</td>\n",
       "      <td>130.00</td>\n",
       "      <td>129.565116</td>\n",
       "      <td>130.0</td>\n",
       "      <td>130.0</td>\n",
       "      <td>2.597180</td>\n",
       "      <td>0.0</td>\n",
       "      <td>126.711628</td>\n",
       "      <td>0.022520</td>\n",
       "      <td>0.020045</td>\n",
       "      <td>2023-01-01</td>\n",
       "    </tr>\n",
       "    <tr>\n",
       "      <th>202</th>\n",
       "      <td>361</td>\n",
       "      <td>Aceite de girasol</td>\n",
       "      <td>Precio Líder</td>\n",
       "      <td>Envase 900 cc</td>\n",
       "      <td>83</td>\n",
       "      <td>99.0</td>\n",
       "      <td>99.0</td>\n",
       "      <td>115.00</td>\n",
       "      <td>116.100661</td>\n",
       "      <td>135.0</td>\n",
       "      <td>135.0</td>\n",
       "      <td>11.965004</td>\n",
       "      <td>30.0</td>\n",
       "      <td>116.971713</td>\n",
       "      <td>-0.007447</td>\n",
       "      <td>0.103057</td>\n",
       "      <td>2023-01-01</td>\n",
       "    </tr>\n",
       "    <tr>\n",
       "      <th>205</th>\n",
       "      <td>365</td>\n",
       "      <td>Aceite de girasol</td>\n",
       "      <td>Tienda Inglesa</td>\n",
       "      <td>Envase 900 cc</td>\n",
       "      <td>15</td>\n",
       "      <td>109.0</td>\n",
       "      <td>109.0</td>\n",
       "      <td>129.00</td>\n",
       "      <td>127.511828</td>\n",
       "      <td>158.0</td>\n",
       "      <td>158.0</td>\n",
       "      <td>13.667242</td>\n",
       "      <td>21.0</td>\n",
       "      <td>136.204301</td>\n",
       "      <td>-0.063819</td>\n",
       "      <td>0.107184</td>\n",
       "      <td>2023-01-01</td>\n",
       "    </tr>\n",
       "  </tbody>\n",
       "</table>\n",
       "</div>"
      ],
      "text/plain": [
       "     id.presentacion           producto            marca especificacion    n  \\\n",
       "0                  1  Aceite de girasol           Óptimo  Envase 900 cc  397   \n",
       "1                  2  Aceite de girasol  Río de la Plata  Envase 900 cc  380   \n",
       "2                  3  Aceite de girasol          Uruguay  Envase 900 cc  188   \n",
       "200              359  Aceite de girasol             Tata  Envase 900 cc   86   \n",
       "202              361  Aceite de girasol     Precio Líder  Envase 900 cc   83   \n",
       "205              365  Aceite de girasol   Tienda Inglesa  Envase 900 cc   15   \n",
       "\n",
       "       min   pmin  median        mean   pmax    max         ee   iqr  \\\n",
       "0    115.0  119.0  136.00  133.633385  152.0  166.0   8.269011  11.0   \n",
       "1    115.0  119.0  153.00  153.870919  173.0  179.0  11.760946  16.0   \n",
       "2    102.0  103.5  117.37  118.340404  156.0  156.0  12.550642  18.1   \n",
       "200  109.0  118.0  130.00  129.565116  130.0  130.0   2.597180   0.0   \n",
       "202   99.0   99.0  115.00  116.100661  135.0  135.0  11.965004  30.0   \n",
       "205  109.0  109.0  129.00  127.511828  158.0  158.0  13.667242  21.0   \n",
       "\n",
       "     ppdm.anterior  var.mens      c.v.       date  \n",
       "0       134.430081 -0.005926  0.061878 2023-01-01  \n",
       "1       155.103242 -0.007945  0.076434 2023-01-01  \n",
       "2       118.010240  0.002798  0.106055 2023-01-01  \n",
       "200     126.711628  0.022520  0.020045 2023-01-01  \n",
       "202     116.971713 -0.007447  0.103057 2023-01-01  \n",
       "205     136.204301 -0.063819  0.107184 2023-01-01  "
      ]
     },
     "execution_count": 5,
     "metadata": {},
     "output_type": "execute_result"
    }
   ],
   "source": [
    "df[df[\"producto\"] == \"Aceite de girasol\"]"
   ]
  },
  {
   "cell_type": "code",
   "execution_count": 5,
   "id": "4d11bc5d",
   "metadata": {},
   "outputs": [
    {
     "name": "stdout",
     "output_type": "stream",
     "text": [
      "febrero\n",
      "2025\n"
     ]
    }
   ],
   "source": [
    "import os \n",
    "paths = os.listdir(\"/Users/cesar/Projects/python-course/tareas/data/prices\")\n",
    "print(paths[0].replace(\".csv\", \"\").split(\"_\")[2])\n",
    "print(paths[0].replace(\".csv\", \"\").split(\"_\")[3])\n",
    "# f\"{year}-{month_map[month]}-01\"\n"
   ]
  },
  {
   "cell_type": "code",
   "execution_count": null,
   "id": "ccff4f3d",
   "metadata": {},
   "outputs": [],
   "source": [
    "file_path = \"/Users/cesar/Projects/python-course/tareas/data/prices/precios_precios_setiembre_2021.csv\"\n",
    "data = pd.read_csv(file_path, sep=\";\", encoding=\"utf-8\", decimal=\",\")\n",
    "data.columns = data.columns.str.lower()\n",
    "data.rename(\n",
    "    columns={\n",
    "        \"ppdm.ant\": \"ppdm.anterior\",\n",
    "        \"ppdm_ant\": \"ppdm.anterior\",\n",
    "        \"pmax.99%\": \"pmax\",\n",
    "        \"pmin.1%\": \"pmin\",\n",
    "    },\n",
    "    inplace=True,\n",
    ")\n",
    "data[\"fecha\"] = \"2025-02-01\""
   ]
  }
 ],
 "metadata": {
  "kernelspec": {
   "display_name": ".venv",
   "language": "python",
   "name": "python3"
  },
  "language_info": {
   "codemirror_mode": {
    "name": "ipython",
    "version": 3
   },
   "file_extension": ".py",
   "mimetype": "text/x-python",
   "name": "python",
   "nbconvert_exporter": "python",
   "pygments_lexer": "ipython3",
   "version": "3.13.3"
  }
 },
 "nbformat": 4,
 "nbformat_minor": 5
}
