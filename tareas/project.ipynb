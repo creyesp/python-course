{
 "cells": [
  {
   "cell_type": "code",
   "execution_count": 1,
   "id": "80128bfa",
   "metadata": {},
   "outputs": [],
   "source": [
    "import pandas as pd\n",
    "import numpy as np\n",
    "import string"
   ]
  },
  {
   "cell_type": "markdown",
   "id": "ad61c9cc",
   "metadata": {},
   "source": [
    "# 1. Leer los datos desde un archivo para poder acceder a la información.\n"
   ]
  },
  {
   "cell_type": "code",
   "execution_count": null,
   "id": "c60da7a3",
   "metadata": {},
   "outputs": [],
   "source": [
    "with open(\"data/pets/Pet_Supplies.txt\", \"r\") as product_file:\n",
    "    reviews_raw = product_file.read().strip()\n",
    "    reviews_raw = reviews_raw.split(\"\\n\\n\")"
   ]
  },
  {
   "cell_type": "code",
   "execution_count": 3,
   "id": "045073d5",
   "metadata": {},
   "outputs": [
    {
     "name": "stdout",
     "output_type": "stream",
     "text": [
      "product/productId: B000O1CRYW\n",
      "product/title: Orbee Tuff Ball Orange - SMALL\n",
      "product/price: 6.95\n",
      "review/userId: A2FEQ9XL6ML51C\n",
      "review/profileName: Just an everyday Dad\n",
      "review/helpfulness: 1/1\n",
      "review/score: 5.0\n",
      "review/time: 1286064000\n",
      "review/summary: Little Ball, for Little Dogs...\n",
      "review/text: Great Toy, hard to find! We get ours online here or shipped from a friend in America!Our little Papillion-Yorkie mix loves it. Every night I am in the back garden kicking the ball for him! He destroys tennis balls by chewing off the fluff and our wee dog finds them to big to carry/catch. We stumbled across this in our local petstore and our dog was hooked! Sadly, local pet store no longer imports them.Stars all around for this one!\n"
     ]
    }
   ],
   "source": [
    "print(reviews_raw[0])"
   ]
  },
  {
   "cell_type": "markdown",
   "id": "c731dcde",
   "metadata": {},
   "source": [
    "# 2. Limpiar los datos para que estén en el formato adecuado. Esto incluye tareas como:\n",
    "* Convertir los tipos de datos.\n",
    "* Eliminar valores vacíos o caracteres no deseados.\n"
   ]
  },
  {
   "cell_type": "code",
   "execution_count": null,
   "id": "b2e4a612",
   "metadata": {},
   "outputs": [],
   "source": [
    "\n",
    "reviews_parsed = []\n",
    "for review in reviews_raw:\n",
    "    product = {}\n",
    "    for line in review.strip().split(\"\\n\"):\n",
    "        key = line.split(\":\")[0].strip().replace(\"/\", \"_\")\n",
    "        value = \":\".join(line.split(\":\")[1:]).strip()\n",
    "        product[key] = value\n",
    "    reviews_parsed.append(product)"
   ]
  },
  {
   "cell_type": "code",
   "execution_count": 5,
   "id": "27f39237",
   "metadata": {},
   "outputs": [
    {
     "data": {
      "application/vnd.microsoft.datawrangler.viewer.v0+json": {
       "columns": [
        {
         "name": "index",
         "rawType": "int64",
         "type": "integer"
        },
        {
         "name": "product_productId",
         "rawType": "object",
         "type": "string"
        },
        {
         "name": "product_title",
         "rawType": "object",
         "type": "string"
        },
        {
         "name": "product_price",
         "rawType": "object",
         "type": "string"
        },
        {
         "name": "review_userId",
         "rawType": "object",
         "type": "string"
        },
        {
         "name": "review_profileName",
         "rawType": "object",
         "type": "string"
        },
        {
         "name": "review_helpfulness",
         "rawType": "object",
         "type": "string"
        },
        {
         "name": "review_score",
         "rawType": "object",
         "type": "string"
        },
        {
         "name": "review_time",
         "rawType": "object",
         "type": "string"
        },
        {
         "name": "review_summary",
         "rawType": "object",
         "type": "string"
        },
        {
         "name": "review_text",
         "rawType": "object",
         "type": "string"
        }
       ],
       "conversionMethod": "pd.DataFrame",
       "ref": "17ca0952-8ff0-4f7e-94f0-2a165320187e",
       "rows": [
        [
         "0",
         "B000O1CRYW",
         "Orbee Tuff Ball Orange - SMALL",
         "6.95",
         "A2FEQ9XL6ML51C",
         "Just an everyday Dad",
         "1/1",
         "5.0",
         "1286064000",
         "Little Ball, for Little Dogs...",
         "Great Toy, hard to find! We get ours online here or shipped from a friend in America!Our little Papillion-Yorkie mix loves it. Every night I am in the back garden kicking the ball for him! He destroys tennis balls by chewing off the fluff and our wee dog finds them to big to carry/catch. We stumbled across this in our local petstore and our dog was hooked! Sadly, local pet store no longer imports them.Stars all around for this one!"
        ],
        [
         "1",
         "B000O1CRYW",
         "Orbee Tuff Ball Orange - SMALL",
         "6.95",
         "A183LI95B2WNUQ",
         "V. J. Mcmillen \"vmcmillen\"",
         "1/1",
         "5.0",
         "1230249600",
         "glow ball",
         "I have bought several of these small Orbee Tuff balls, because my dog simple loves them! The orange ball does glow in the dark that makes it easy to find. I have nothing but good things to say about these small balls. The only down side is Trix, my dog, keeps loosing them!"
        ],
        [
         "2",
         "B000O1CRYW",
         "Orbee Tuff Ball Orange - SMALL",
         "6.95",
         "A1LSSENM0XIQQR",
         "gcoronado4",
         "0/0",
         "3.0",
         "1309046400",
         "Too Big",
         "It is a quality ball but the small is still too big and heavy for my little yorkie to play with comfortably."
        ],
        [
         "3",
         "B000O1CRYW",
         "Orbee Tuff Ball Orange - SMALL",
         "6.95",
         "A2E5PZE1PZVK38",
         "jerry",
         "0/0",
         "5.0",
         "1308873600",
         "no good",
         "I gave it 5 stars because my little dog had so much fun riping it apart but only took him 24 hrs to do it buy that is 23 hrs longer than other balls"
        ],
        [
         "4",
         "B0002ARHAE",
         "Kent Marine Pro-Clear Freshwater Clarifier",
         "3.73",
         "A3PXLJE4OPIQTY",
         "M. Thomas \"sea_anemone\"",
         "0/0",
         "5.0",
         "1356912000",
         "Best clarifier ever",
         "I've used many products to try and help the water clarity, but only kent marine was capable of successfully clearing the water every time. Caution though, adding it to water will drop the pH. Mix with tank water on the side and check pH before placing it in the tank."
        ],
        [
         "5",
         "B000GELFP4",
         "Hagen Crabworx Drinking Pool",
         "16.99",
         "A31QIOIE57AS8Z",
         "V. Tanner",
         "1/1",
         "3.0",
         "1342051200",
         "Not as described",
         "I like this pool for hermit crabs, but I received one that does not look like the picture and is smaller than described. My pool has the diving board and palm tree on the same side, not at opposite sides as shown. The dimensions of my pool are 5\" H x 4.5\" W x 7\" L. The seller describes the size as 6.3 x 6.9 x 8.8 inches. I have medium sized hermies that are growing fast and I wanted a bigger pool for them, so I am disappointed that this pool is not as large as described. FYI: pool interior measures 4.5\" L, 2.5\" W at widest point. The depth is 3/4\", so the small crabs may need some rocks on the bottom."
        ],
        [
         "6",
         "B000GELFP4",
         "Hagen Crabworx Drinking Pool",
         "16.99",
         "ADJ4WY199557G",
         "Kate Linkous",
         "1/1",
         "5.0",
         "1312502400",
         "hermie pool",
         "This pool is a perfect size. It is easy for all crabs to get in and out of and looks like a real pool! The diving board and palm is a bonus!!"
        ],
        [
         "7",
         "B000GELFP4",
         "Hagen Crabworx Drinking Pool",
         "16.99",
         "A12RSYFLZS05ET",
         "Bridget Kessler",
         "0/0",
         "4.0",
         "1360540800",
         "Good product",
         "Ths is made of porous stone so water seeps out slowly wetting the sand a bit. The height is good even for my smallest crab."
        ],
        [
         "8",
         "B000GELFP4",
         "Hagen Crabworx Drinking Pool",
         "16.99",
         "A3ZD6I8UV9T9L",
         "cody smith",
         "0/0",
         "5.0",
         "1355875200",
         "sweet",
         "I bought two for my hermits and they work perfect, make it easy for the crabs to get in and out."
        ],
        [
         "9",
         "B000A7N1WM",
         "Just Be Paws Bite Meez - Chomper the Alligator",
         "unknown",
         "A1A2AD3F0TYBX6",
         "D. Hilliard",
         "0/0",
         "5.0",
         "1324944000",
         "Pet Toy - Hand Puppet",
         "I love these and so does my dog. They are just a little pricey for what you get, and my dog destroys them in a matter weeks. They need to be made of more durable material. Other than that, great for interaction with your dog."
        ],
        [
         "10",
         "B000NV837S",
         "Dr-Chew Sweet Potato Chews, Small, 1 lb.",
         "unknown",
         "AABJ53H9CLDHE",
         "Richard R. Griswold \"Spunky's Dad\"",
         "0/0",
         "5.0",
         "1217030400",
         "Dr. Chew Sweet Potato",
         "Excellent chew for a dog who is allergic to grain. Really helps keep his teeth clean."
        ],
        [
         "11",
         "B000NV837S",
         "Dr-Chew Sweet Potato Chews, Small, 1 lb.",
         "unknown",
         "AKS0O1TNKGLE6",
         "R. Brown",
         "0/0",
         "5.0",
         "1188864000",
         "Great product!",
         "My two dogs LOVE these. I stuff pieces in their Kong balls, which makes a long-lasting, healthful treat."
        ],
        [
         "12",
         "B000P9123U",
         "Bear's Stairs 4-Step (Beige, 27 in H x 18 in. W x 27 in. D )",
         "124.99",
         "A30GQG0KT9ZL1I",
         "T. McAuliffe",
         "0/0",
         "3.0",
         "1288224000",
         "Jury is still out.... :-)",
         "I just received this item two days ago. Way ahead of schedule, which was a nice surprise. The carpet is not plush commercial grade as stated in the description. It's very thin and basic. A little bit disappointed but pretty much what I expected. Problem is, when you put your hand on the step the carpet goes in to meet the wood underneath. I don't know if the wood is warped or what. It's that way on every step. Scares my 16-lb dog a little bit when he goes up, won't go down at all. He jumps off the bed which I don't like because my bed is very tall, about 3 ft from the floor. I also have a 7-lb dog that has a dislocated knee cap and collapsing trachea. He goes about half way up then sits there. Not too crazy about coming down. The steps are each about 6.5 - 7\" tall and deep. Deeper would be better but then it'd stick out into the bedroom too far. Since I haven't had them very long, I'm still going to give the steps a chance. If the whole situation improves I'll come back and give it a higher rating. It would have been nice to have a little padding on top of each step under the carpet, wouldn't cost much at all to add it, rather than have the thin carpet directly on top of the wood. The price is pretty good. I researched all over the internet and found this price to be the most reasonable. Three stars for now!"
        ],
        [
         "13",
         "B0002AQLWY",
         "PondCare Melafix Antibacterial Fish Remedy, 8-Ounce",
         "7.49",
         "A185RDV70RVOOG",
         "V. Leslie",
         "0/0",
         "5.0",
         "1218931200",
         "Melafix",
         "It works and it's not a chemical -- so it does not ruin the natural bacteria in the pond or lower the immune response of the fish."
        ],
        [
         "14",
         "B000ELTGSM",
         "Preppy Puppy Shirts - X-SMALL - BLUE",
         "7.61",
         "A24OJRMOJPO0OS",
         "Mrs. Dunlap",
         "0/0",
         "5.0",
         "1267833600",
         "Im pleased",
         "My chiuhuahua looks too cute in this. I think the Xtra small was just the right fit. He wont go potty on it when he is wearing it. You can go up a size but your doggy may have and accident on it. So I advise you not too"
        ],
        [
         "15",
         "B000ELTGSM",
         "Preppy Puppy Shirts - X-SMALL - BLUE",
         "7.61",
         "A7MF3MU7IIHL0",
         "K. Wyatt \"dog lover\"",
         "0/0",
         "4.0",
         "1204502400",
         "Runs large but shrinks",
         "This x-small runs very big (my 8 pound Chihuahua usually wears a small), but shrunk to the perfect size (almost a bit tight now) after I threw it into the dryer (after washing). It is very cute and has two buttons on the neck which can be left open or buttoned up depending on the weather. I love this polo!"
        ],
        [
         "16",
         "B000ELTGSM",
         "Preppy Puppy Shirts - X-SMALL - BLUE",
         "7.61",
         "AIZRSYDDIFQMM",
         "Estefania Fernandez \"EFA\"",
         "0/0",
         "4.0",
         "1196208000",
         "So cute!!",
         "These fit super cute!! My boy looks so handsome, everywhere he goes people turn to see him and point out \"How Cute\". Fit comfortable, although I never close the buttons or it would be to tight around his neck. I would recommend getting a size larger or measuring really well or your dog might outgrow this item immediately, it also fits a little short, like mid-body not all the way to the tail.Overall, really cute shirt!!"
        ],
        [
         "17",
         "B000ELTGSM",
         "Preppy Puppy Shirts - X-SMALL - BLUE",
         "7.61",
         "A5K5DSFSRDW1W",
         "J. Healis",
         "0/0",
         "5.0",
         "1179964800",
         "Dog loves it!",
         "I had to get shirts for my dog to wear to work with me, and these were perfect!"
        ],
        [
         "18",
         "B0002AQLW4",
         "Ammonia Test Kit",
         "unknown",
         "ABAN6WLV17S4F",
         "Becky Cooper",
         "0/0",
         "5.0",
         "1316822400",
         "Ammonia Test Kit",
         "This kit is so easy to use and helps me protect my aquarium.. I highly recommend it for fish owners..."
        ],
        [
         "19",
         "B000NV839Q",
         "Kronch Salmon Oil Dog & Cat Supplement 88 oz",
         "unknown",
         "A2CMLY1R2OO3BW",
         "tweedledee",
         "2/2",
         "5.0",
         "1317513600",
         "What they said",
         "Not smelly, highest quality and extremely stable, at least a year's supply for a German Shepherd (3 pumpstrokes a day for dogs 53 - 106 pounds), very easy to use. Comes with a plastic packed pump (not shown) that you just screw in when you take off the lid. My dog likes the taste. We use it for arthritis benefit. Vet suggested his mild neck arthritis would decrease from food high in omega-3s (reduces inflammation) and low in omega-6s (improves infection resistance but increases inflammation). The problem is, commercial dog food makers have decided infection from poor dental health is more dangerous to senior dogs than arthritis, and make senior formulas with omega-6s far outweighing omega-3s. The vet's food was not only very poor nutritional quality (no meat, only by-products!) it was ghastly expensive. Adding Kronch oil to a quality commercial food was the answer. For each pump, my dog receives 1050 mg of omeg-3s and only 150 mg of omega-6. This is way better omega-3 to omega-6 ratios than even the vet food!"
        ],
        [
         "20",
         "B000NV839Q",
         "Kronch Salmon Oil Dog & Cat Supplement 88 oz",
         "unknown",
         "AJ4OL1RRTEAI6",
         "Starcry",
         "2/2",
         "5.0",
         "1281139200",
         "GREAT",
         "This is so much easier to put into my dog's food than anything else that I have found! I have 3 German Shepherd's and I fill dog food bowls a lot. Much cheaper and much easier, I will be buying this product for a long time."
        ],
        [
         "21",
         "B000NV839Q",
         "Kronch Salmon Oil Dog & Cat Supplement 88 oz",
         "unknown",
         "A3EYYQ5CMVO7MT",
         "Apple3891",
         "2/2",
         "5.0",
         "1279411200",
         "Salmon Oil - Excellent Product",
         "We have been giving this to our two golden retriever puppies (started at 6 1/2 mos old) for almost two months now at the recommendation of our homeopathic vet. WOW - what a great product! Their coats are like satin - among all the other benefits it provides (joints, organs, skin, etc!) and they love it! The pump is great and makes it really east to add to each meal; really good price too."
        ],
        [
         "22",
         "B000NV839Q",
         "Kronch Salmon Oil Dog & Cat Supplement 88 oz",
         "unknown",
         "AH4NJWWLC5QLZ",
         "Pennygirl",
         "2/2",
         "5.0",
         "1269302400",
         "Salmon Oil 2500ml",
         "this is a great products, I like the way it dispenses. My dogs love the taste and their coat look great."
        ],
        [
         "23",
         "B000NV839Q",
         "Kronch Salmon Oil Dog & Cat Supplement 88 oz",
         "unknown",
         "A1T6U9TT75CZ89",
         "Martha D. Leary",
         "2/2",
         "5.0",
         "1263081600",
         "GREAT PRODUCT",
         "I have used a lot of different oil products for my dogs but I like this the best. It is easy to dispense and is processed the proper way for my dogs to get the most benefit. I will make this a regular in my dogs' diet."
        ],
        [
         "24",
         "B000NV839Q",
         "Kronch Salmon Oil Dog & Cat Supplement 88 oz",
         "unknown",
         "A1G9LOUM6F5JKE",
         "Sue",
         "1/1",
         "5.0",
         "1318377600",
         "Excellent Product",
         "I have used this product for quite a while now and absolutely love it! I have three large dogs and the fish oil keeps them healthier. The large size lasts a while for me and the pump top makes it easy to use. I just put a few pumps on their food. The price and quality cannot be surpassed."
        ],
        [
         "25",
         "B000NV839Q",
         "Kronch Salmon Oil Dog & Cat Supplement 88 oz",
         "unknown",
         "A135U3UXBI19QU",
         "tl_media",
         "1/1",
         "5.0",
         "1294272000",
         "Amazing change in his coat",
         "Strongly recommend this product to add to your dogs dinner. My dog loves the smell, and it's made a noticeable improvement in his coat."
        ],
        [
         "26",
         "B000NV839Q",
         "Kronch Salmon Oil Dog & Cat Supplement 88 oz",
         "unknown",
         "A1Z35HDKFB1JN0",
         "Tine Doebele-Munson",
         "0/0",
         "5.0",
         "1323388800",
         "With three dogs, this is just the right size.",
         "Adding fish oil to your dogs food makes a big difference. This product is great and fresh, even if I get a large supply it doesn't go rancid."
        ],
        [
         "27",
         "B000NV839Q",
         "Kronch Salmon Oil Dog & Cat Supplement 88 oz",
         "unknown",
         "A1WR3MPKYMWXOS",
         "luna&amp;milo",
         "0/0",
         "5.0",
         "1295222400",
         "Great Product & Deal",
         "This is a great value for the money. We have bought more expensive salmon oil products in the past and this one is a much better value and provides just as much bennefit for our pups. Their coats are soft and shiny and it keeps thier skin hydrated during our long and very cold winters. Would highly recomend this product!"
        ],
        [
         "28",
         "B0002DJ3MQ",
         "Sunken Gardens Car Wreck / Medium",
         "18.69",
         "A3S6LJ2TM3PVTZ",
         "Leya",
         "0/0",
         "5.0",
         "1334880000",
         "Pretty Cool Decoration",
         "We have all seen sunken boats, ships, even submarines and they're cool.. if you're not a snobby naturalist. The same holds true for a sunken car, its just cool. The plants \"growing\" on the car are okay, not the best but not a deal breaker."
        ],
        [
         "29",
         "B0006NEQNS",
         "1.25 in. Tapered Dome Full-Studded Latigo Leather Dog Collar model 6013 (Black, 25 in.)",
         "29.99",
         "AO8F5FY0X6GP6",
         "Patricia M. Stewart",
         "0/0",
         "5.0",
         "1207008000",
         "studded dog collar",
         "This dog collar was made of beautiful leather and the studs are covered w more leather so that the studs can not pull on dogs hair. Collar is very well made and is comfortable on my dogs neck. I love it and Nitro looks very handsome in it."
        ],
        [
         "30",
         "B0006NEQNI",
         "1.25 in. Tapered Dome Full-Studded Latigo Leather Dog Collar model 6013 (Black, 23 in.)",
         "24.99",
         "AXXJHNU9OCV3N",
         "Lab aid",
         "0/0",
         "5.0",
         "1258416000",
         "Heavy duty quality!",
         "This collar is worth every penny you pay for it. It is super thick and heavy good quality leather. I've been using this collar on my German Shepherd for over one year and the rounded studs protect it from any scratching that he may do. This will probably last for ever and be the last collar I'll ever have to buy for him!"
        ],
        [
         "31",
         "B0006NEQNI",
         "1.25 in. Tapered Dome Full-Studded Latigo Leather Dog Collar model 6013 (Black, 23 in.)",
         "24.99",
         "A1598PUU6IMHUV",
         "Edward W. Henzi",
         "0/0",
         "4.0",
         "1154822400",
         "studded latigo dog collar",
         "Product was as advertised. Very high quality. Product arrived in less time than anticipated. My dog Buddy looks very sharp wearing this collar. I would highly recomend company and product to anyone seeking a high quality leather studded dog collar."
        ],
        [
         "32",
         "B000A7N1ZY",
         "BW Puppy Bite-Meez Puppet",
         "unknown",
         "A3IDE7GAB37NK6",
         "Solomon Keala",
         "0/0",
         "4.0",
         "1236643200",
         "Great doggy toy.",
         "I've looked around for a while searching for a puppet toy that my dog would like, yet one that would protect my hand. This is it. My dog goes absolutely crazy for this puppet and I am relieved that he can bite and bite and bite and NOT hurt my hand. What a relief! My dog loves it so much that I would give it five stars but am giving it four instead because he tore an ear off in the first couple of days. My wife sewed it back on and it's stayed in place since then. Other than that, it's been great."
        ],
        [
         "33",
         "B000A7N1ZY",
         "BW Puppy Bite-Meez Puppet",
         "unknown",
         "A2QJIAHR3NL5YZ",
         "S. Meyer",
         "0/0",
         "5.0",
         "1166745600",
         "This makes my dog crazy! (in a good way)",
         "My dog loves squeaky stuffed things so this is a big hit with him and puts him into a frenzy. He usually destroys his squeaky toys in just a few minutes but with this I can play and wrestle with him until he is exhausted and take it away from him to be enjoyed again. There is a lot of padding so I was never able to feel his bite. Depending on how your dog plays you will need to hold onto the inside of the puppet to keep him from tearing it off your hand. The toy is pretty tough and is easily able to support his full weight (30 lbs) dangling from his jaw. The last one I received as a gift and made the mistake of giving it too him after a play session and he destroyed it. So hopefully this one will last a long time. Priced at under $10, it is a great value for such a fun and well made toy."
        ],
        [
         "34",
         "B000BO8NRC",
         "Perky-Pet 306 Wild Bird and Finch Feeder",
         "20.28",
         "AS520PAXHN1LJ",
         "millefleur",
         "7/7",
         "4.0",
         "1254960000",
         "Both good and bad",
         "This feeder is attractive and made mostly of a nice coppery metal. I bought it as a finch feeder for thistle seed. Unfortunately, the feeder ports are made of cheap plastic, are hard to work with, and come off and break easily. I will probably have to contact the company for replacements. Something else that is important to note is that it is very top heavy. When filling with bird seed it will be awkward to handle for people who are older, have arthritis, carpal tunnel (as I do), or any other difficulty with their hands."
        ],
        [
         "35",
         "B000BO8NRC",
         "Perky-Pet 306 Wild Bird and Finch Feeder",
         "20.28",
         "A2PUVL8QX5JUIF",
         "CBE",
         "1/1",
         "2.0",
         "1281916800",
         "Finches love it but so do squirrels",
         "This is a nice looking feeder and it attracted lots of beautiful finches, but the squirrels quickly figured out how to pop out the plastic inserts so that the seed spills out onto the ground. It is a poor design to have removable inserts in the feeding ports. Overall, a waste of money as I have to buy a new one now."
        ],
        [
         "36",
         "B000BO8NRC",
         "Perky-Pet 306 Wild Bird and Finch Feeder",
         "20.28",
         "A1FIOVVBQ1EONO",
         "Pen Name",
         "0/0",
         "1.0",
         "1339459200",
         "Missing parts",
         "I received this bird feeder, liked it, but when I tried to assemble it someof the parts were missing. The hooded pieces were missing."
        ],
        [
         "37",
         "B0006NEQOM",
         "1.25 in. Tapered Dome Full-Studded Latigo Leather Dog Collar model 6013 (Burgundy, 21 in.)",
         "24.99",
         "AOCGF8P244CBH",
         "SDMFdenver \"slayer666\"",
         "2/2",
         "5.0",
         "1299110400",
         "Great collar",
         "This is a great collar. It has nice quality double layered leather so the back side of the studs don't rub againt your dogs neck. It fits my pooch great. It takes a little longer to break in because of the thickness of leather. This collar seems to be very comfortable on my dog. I would highly recommend it."
        ],
        [
         "38",
         "B0002AQLZQ",
         "Kaytee Cedar Pet Bedding for Pet Cages",
         "12.38",
         "A33ND0JGL9US1C",
         "C. Gupta",
         "1/1",
         "4.0",
         "1359763200",
         "Useful for filling cedar sachets to repel moths in our closet",
         "A bit too dusty for comfortably filling muslin sachets without worries about dust getting out onto our clothes, but this is otherwise a terrific product for our non-typical needs. Not sure of its virtues for pet cages."
        ],
        [
         "39",
         "B0002AQLZQ",
         "Kaytee Cedar Pet Bedding for Pet Cages",
         "12.38",
         "A3080CMOI25TME",
         "J. Buke",
         "1/1",
         "3.0",
         "1349740800",
         "MITE CONTROL",
         "I had an infestation of mites in my hamster cage. I lost two litters of babies. I was at a lost as to what to do. Aside from the fact that mites can get out and bite humans. They can not reproduce on humans...at least not rodent mites but they can still make you itch. I was telling a friend of mine and she called her sister who is a vet. She told me (the vet)that the price to pay to treat a hamster was almost $60.00 per hamster. I have 3 dwarf hamsters. She gave me a tip that she learned while in med school.Mix one half pine, one half cedar at least two inches deep for the animals to borrow. Remove all toys and wash in dishwasher or in hot soapy water...wood also. Leave them out of the cage so the hamsters will borrow, this is very important, it gets the oils on their skin. Fleas, ticks, and MITES can not stand cedar-( that is why most animal beds...cat, doges are filled with cedar). Leave it in the cage for one week (WITHOUT TOYS). Change out and repeat. You can not add toys once again. Repeat for 4 weeks.You know what? IT WORKED. Now here is the kick ass part. I bought Carefresh and guess what it was filed with mites when I had my vet take a sample from the bag. I will stick with Pine and cedar. Little less on the cedar with the pine but just to be safe. Cedar has a bad rep. Hamsters are short term pets...they only live about 2 years tops...most times they die is because they have something else wrong with them. Very rarely will a hamster die from inhaling cedar fumes. If you have them in a cage the fumes will be released, in a tank they will be released. Use your own judgement. But I have had two healthy litter of pups, the hamsters no longer have open wounds from where they were scratching. I am not itching anymore and my place smells like the forest...it smells like Christmas all year long. BTW Cedar keeps Mosquitoes out of the house. So I'll let you make thew choice. But I wanted to share in case you have a mite problem. I will not buy Carefresh again the is for sure."
        ],
        [
         "40",
         "B0002AQLZQ",
         "Kaytee Cedar Pet Bedding for Pet Cages",
         "12.38",
         "A3AUB2F2PLMOJD",
         "knitter",
         "1/2",
         "5.0",
         "1338076800",
         "Fresh Addition For Cats and Hamster",
         "I have had no problems with this cedar pet bedding for allergic reactions or anything else. I add it to Feline Pine cat litter in a ratio of about 1 part Cedar Chips to 4 parts Feline Pine and it helps with urine absorption and there are virtually no odors from urine whatsoever anymore in the box; we remove the cat waste once or twice daily with 2 adult cats. I use the Cedar Chips for the bedding in our hamster cage. In the portion of the cage where he sleeps/nests I also add cotton (from just pulling apart cotton balls) &/or wool (from spinning, if you are a knitter it is plain, natural roving). He loves to burrow into the soft wool or cotton and the cedar chips catch in it a little bit but mainly fall to the bottom of the nest hideout. I recommend this product, it smells wonderful and woodsy and lasts a very long time."
        ],
        [
         "41",
         "B0002ARHF4",
         "Zodiac Carpet and Upholstery Aerosol Spray",
         "14.89",
         "AZ5W2VZX197FG",
         "A. C. Tate",
         "11/11",
         "1.0",
         "1160697600",
         "Didn't work...I have to start again",
         "My (indoor) cat contracted fleas about a month ago and I used the Zodiac spray on the carpet, upholstery, curtains, and mattresses as I went about treating the apartment. I also used the Zodiac sponge bath (2 treatments/bottle, used both) and one course of the Frontline topical medicine. Today I was brushing my cat and found more fleas. My vet informed me that they have heard nothing but complaints from pet owners who've used the Zodiac products.The label claims that: \"One treatment gives continuous protection against pre-adult fleas for 7 months.\" I used the spray generously but here I am 1 month later right back where I started.Just treating my 2-bedroom apartment for fleas is a costly and tedious task. If you're going to go through this, make sure you use the BEST products available. Talk to your vet and explore ALL your options. GOOD LUCK!"
        ],
        [
         "42",
         "B0002ARHF4",
         "Zodiac Carpet and Upholstery Aerosol Spray",
         "14.89",
         "AW1FYBV7IN89V",
         "JAH \"Knowledge is Power\"",
         "4/4",
         "5.0",
         "1314316800",
         "Flea control",
         "This is a great product and I have used it for years. It is a part of flea control and should not be expected to be the one answer for every flea. Pets need to have flea medicine/baths as well as continuous vacuuming of the house since fleas can live on pet hair. A flea cycle is 21 days-using this product in a combination with proper flea control is the best way to get the maximum performance. Spray where pet sleeps, all carpets, furniture, area rugs, and fabrics where fleas can lay eggs. Keep it up once a week or more for the first 3 weeks to break the flea cycle while applying flea medication to your pets. Humans can carry fleas into the house as well as pets. The trick is to stay on top of the flea cycle so it doesn't become out of hand. If it is allowed to go through a few cycles without proper flea control, it will take much more effort, time, and products to get it under control."
        ],
        [
         "43",
         "B0002ARHF4",
         "Zodiac Carpet and Upholstery Aerosol Spray",
         "14.89",
         "A4G6MUOZFK3I",
         "dcjd \"dc\"",
         "2/2",
         "4.0",
         "1282003200",
         "For flea control",
         "I have found Zodiac to be one of the best controls for fleas. I use the spray on the carpets, under the furniture cushions, and places where our cat sleeps. The spray kills on contact. I let the spray dry and then vacuum those areas, only because it's my preference. I prefer the foam that I can no longer find. You could hold the can upside down and didn't have to as much bending. The 16 oz. can is suitable for most small homes. I have only 1000 square feet. The larger can comes in handy for additional applications. We have only one cat and she does not go outside. It's the humans bringing the fleas indoors either from other people's pets or from the fleas that are naturally living outside. Don't forget to treat your cat as well. Fleas can cause animals serious illnesses. For those of you who have major infestations, you might want to consider having an exterminator treat your home and then use Zodiac for maintenance.Zodiac Carpet & Upholstery Aerosol Spray, 16 oz"
        ],
        [
         "44",
         "B0002ARHF4",
         "Zodiac Carpet and Upholstery Aerosol Spray",
         "14.89",
         "A3PI6FSDFV3BYR",
         "thumbie-o",
         "2/2",
         "1.0",
         "1279324800",
         "create your own flea circus",
         "I had used this product at the urging of the pet store clerk. He claimed he had over 20 ferrets and at one time had a flea problem. I vacuumed, sent the dog to the groomers for a flea dip, then came home and sprayed the entire house. I returned after a few hours, opened the widows and started up the air conditioners and picked up the dog. The next day I noticed several adult fleas, though they were sluggish. I thought..great! Then the family started getting bites and seeing small and adult fleas. I feel I wasted my money for a product that seemed to give us 24hrs of relief. Forget the claim that it keeps on acting for up to 7 mos. I am not infested with fleas, but we still have them.....and they are alive and well."
        ],
        [
         "45",
         "B0002ARHF4",
         "Zodiac Carpet and Upholstery Aerosol Spray",
         "14.89",
         "A1UDMY7BHK1XO1",
         "K. E. Bush",
         "1/1",
         "5.0",
         "1340668800",
         "I always suggest this product.",
         "We WERE using a flea prevention on our diabetic cat when we took her to upstate NY. Unfortunately, we did not know that fleas in that part of the country (NC, too) are Immune to Frontline...so she came home with fleas. We do Rescue. We had 20 cats and two dogs and were INFESTED. We could not bomb the house because we had three very large fish tanks...I tried this and treated all the animals with Frontline. We STILL had fleas and it was getting WORSE...THEN I found out from friends in various parts of the US that Frontline doesn't work in some areas of the country--obviously NOT upstate NY. SO, we Resprayed EVERYWHERE and treated the animals with Advantage and Revolution...THAT did the trick. We have not had a flea issue since (Knock wood and anti-jinx!!!)Please do NOT use Hartz or Zodiac topical flea control on your animals--many have died and many more have had severe allergic/skin reactionshartzvictims.org"
        ],
        [
         "46",
         "B0002ARHF4",
         "Zodiac Carpet and Upholstery Aerosol Spray",
         "14.89",
         "A1RS5R4B0GPLDY",
         "Chelsey O'Neal",
         "0/0",
         "5.0",
         "1361059200",
         "Zodiac Carpet Aerosol Spray",
         "It didn't leave any weird marking on any furniture, the smell wasn't harsh and the product did a fine job."
        ],
        [
         "47",
         "B0002ARHF4",
         "Zodiac Carpet and Upholstery Aerosol Spray",
         "14.89",
         "A194RQK619653I",
         "Susan Patrick",
         "0/0",
         "4.0",
         "1358899200",
         "good product",
         "Its an ok value for the money, would buy from amazon again in the future. thanks for the good deal"
        ],
        [
         "48",
         "B0002ARHF4",
         "Zodiac Carpet and Upholstery Aerosol Spray",
         "14.89",
         "A39CYPUAQLXLZ5",
         "Kelly17",
         "2/4",
         "1.0",
         "1249776000",
         "Waste of time and money",
         "I have used this product in addition to the fogger and carpet powder. I have sprayed all furniture, bedding, hard to reach spaces,etc. And a month later I still have fleas. It is a major waste of time and money."
        ],
        [
         "49",
         "B0006NEQQA",
         "1.25 in. Tapered Oblong Studded Latigo Leather Dog Collar model 6014 (Black, 23 in.)",
         "24.99",
         "A13ZHZ9AGCMDCD",
         "Kenny G",
         "0/0",
         "5.0",
         "1355875200",
         "Good quality",
         "I have bought two of these, about a year apart.The last one i bought had a nicer finish to the edges, not just cut leather.Really nice, and i get compliments all the time on it."
        ]
       ],
       "shape": {
        "columns": 10,
        "rows": 217170
       }
      },
      "text/html": [
       "<div>\n",
       "<style scoped>\n",
       "    .dataframe tbody tr th:only-of-type {\n",
       "        vertical-align: middle;\n",
       "    }\n",
       "\n",
       "    .dataframe tbody tr th {\n",
       "        vertical-align: top;\n",
       "    }\n",
       "\n",
       "    .dataframe thead th {\n",
       "        text-align: right;\n",
       "    }\n",
       "</style>\n",
       "<table border=\"1\" class=\"dataframe\">\n",
       "  <thead>\n",
       "    <tr style=\"text-align: right;\">\n",
       "      <th></th>\n",
       "      <th>product_productId</th>\n",
       "      <th>product_title</th>\n",
       "      <th>product_price</th>\n",
       "      <th>review_userId</th>\n",
       "      <th>review_profileName</th>\n",
       "      <th>review_helpfulness</th>\n",
       "      <th>review_score</th>\n",
       "      <th>review_time</th>\n",
       "      <th>review_summary</th>\n",
       "      <th>review_text</th>\n",
       "    </tr>\n",
       "  </thead>\n",
       "  <tbody>\n",
       "    <tr>\n",
       "      <th>0</th>\n",
       "      <td>B000O1CRYW</td>\n",
       "      <td>Orbee Tuff Ball Orange - SMALL</td>\n",
       "      <td>6.95</td>\n",
       "      <td>A2FEQ9XL6ML51C</td>\n",
       "      <td>Just an everyday Dad</td>\n",
       "      <td>1/1</td>\n",
       "      <td>5.0</td>\n",
       "      <td>1286064000</td>\n",
       "      <td>Little Ball, for Little Dogs...</td>\n",
       "      <td>Great Toy, hard to find! We get ours online he...</td>\n",
       "    </tr>\n",
       "    <tr>\n",
       "      <th>1</th>\n",
       "      <td>B000O1CRYW</td>\n",
       "      <td>Orbee Tuff Ball Orange - SMALL</td>\n",
       "      <td>6.95</td>\n",
       "      <td>A183LI95B2WNUQ</td>\n",
       "      <td>V. J. Mcmillen \"vmcmillen\"</td>\n",
       "      <td>1/1</td>\n",
       "      <td>5.0</td>\n",
       "      <td>1230249600</td>\n",
       "      <td>glow ball</td>\n",
       "      <td>I have bought several of these small Orbee Tuf...</td>\n",
       "    </tr>\n",
       "    <tr>\n",
       "      <th>2</th>\n",
       "      <td>B000O1CRYW</td>\n",
       "      <td>Orbee Tuff Ball Orange - SMALL</td>\n",
       "      <td>6.95</td>\n",
       "      <td>A1LSSENM0XIQQR</td>\n",
       "      <td>gcoronado4</td>\n",
       "      <td>0/0</td>\n",
       "      <td>3.0</td>\n",
       "      <td>1309046400</td>\n",
       "      <td>Too Big</td>\n",
       "      <td>It is a quality ball but the small is still to...</td>\n",
       "    </tr>\n",
       "    <tr>\n",
       "      <th>3</th>\n",
       "      <td>B000O1CRYW</td>\n",
       "      <td>Orbee Tuff Ball Orange - SMALL</td>\n",
       "      <td>6.95</td>\n",
       "      <td>A2E5PZE1PZVK38</td>\n",
       "      <td>jerry</td>\n",
       "      <td>0/0</td>\n",
       "      <td>5.0</td>\n",
       "      <td>1308873600</td>\n",
       "      <td>no good</td>\n",
       "      <td>I gave it 5 stars because my little dog had so...</td>\n",
       "    </tr>\n",
       "    <tr>\n",
       "      <th>4</th>\n",
       "      <td>B0002ARHAE</td>\n",
       "      <td>Kent Marine Pro-Clear Freshwater Clarifier</td>\n",
       "      <td>3.73</td>\n",
       "      <td>A3PXLJE4OPIQTY</td>\n",
       "      <td>M. Thomas \"sea_anemone\"</td>\n",
       "      <td>0/0</td>\n",
       "      <td>5.0</td>\n",
       "      <td>1356912000</td>\n",
       "      <td>Best clarifier ever</td>\n",
       "      <td>I've used many products to try and help the wa...</td>\n",
       "    </tr>\n",
       "    <tr>\n",
       "      <th>...</th>\n",
       "      <td>...</td>\n",
       "      <td>...</td>\n",
       "      <td>...</td>\n",
       "      <td>...</td>\n",
       "      <td>...</td>\n",
       "      <td>...</td>\n",
       "      <td>...</td>\n",
       "      <td>...</td>\n",
       "      <td>...</td>\n",
       "      <td>...</td>\n",
       "    </tr>\n",
       "    <tr>\n",
       "      <th>217165</th>\n",
       "      <td>B0002AQLTM</td>\n",
       "      <td>Sun-Glo Fluorescent Aquarium Bulb</td>\n",
       "      <td>7.54</td>\n",
       "      <td>A1GQSU2KJ0J2GN</td>\n",
       "      <td>Spence</td>\n",
       "      <td>1/1</td>\n",
       "      <td>5.0</td>\n",
       "      <td>1335916800</td>\n",
       "      <td>Glow yellow</td>\n",
       "      <td>Nice bulb, fits perfect, I wish it was not qui...</td>\n",
       "    </tr>\n",
       "    <tr>\n",
       "      <th>217166</th>\n",
       "      <td>B0002AQLTM</td>\n",
       "      <td>Sun-Glo Fluorescent Aquarium Bulb</td>\n",
       "      <td>7.54</td>\n",
       "      <td>ARQSOXE97JEKU</td>\n",
       "      <td>hollihobbie</td>\n",
       "      <td>1/1</td>\n",
       "      <td>5.0</td>\n",
       "      <td>1314921600</td>\n",
       "      <td>Good bulb, great price</td>\n",
       "      <td>This is a good bulb and I love the price. Much...</td>\n",
       "    </tr>\n",
       "    <tr>\n",
       "      <th>217167</th>\n",
       "      <td>B0002AQLTM</td>\n",
       "      <td>Sun-Glo Fluorescent Aquarium Bulb</td>\n",
       "      <td>7.54</td>\n",
       "      <td>A4PCDJPGOG76L</td>\n",
       "      <td>A. Jordan</td>\n",
       "      <td>0/0</td>\n",
       "      <td>3.0</td>\n",
       "      <td>1353974400</td>\n",
       "      <td>Odd color for an aquarium bulb</td>\n",
       "      <td>I purchased this bulb two weeks ago to replace...</td>\n",
       "    </tr>\n",
       "    <tr>\n",
       "      <th>217168</th>\n",
       "      <td>B0002AQLTM</td>\n",
       "      <td>Sun-Glo Fluorescent Aquarium Bulb</td>\n",
       "      <td>7.54</td>\n",
       "      <td>A19BLTHTZ7HQKU</td>\n",
       "      <td>Mark in LR</td>\n",
       "      <td>0/1</td>\n",
       "      <td>1.0</td>\n",
       "      <td>1339977600</td>\n",
       "      <td>Bulb only lasted a week or two</td>\n",
       "      <td>The bulb only lasted a week or two. I don't kn...</td>\n",
       "    </tr>\n",
       "    <tr>\n",
       "      <th>217169</th>\n",
       "      <td>B000J349B4</td>\n",
       "      <td>SMALL - Fashion Dog Mannequins - GREAT HOLIDAY...</td>\n",
       "      <td>24.98</td>\n",
       "      <td>A1NUCQ27FU2EY9</td>\n",
       "      <td>Mannequin, Dog \"Cally Schuring\"</td>\n",
       "      <td>0/0</td>\n",
       "      <td>5.0</td>\n",
       "      <td>1190073600</td>\n",
       "      <td>Byrne provides great customer service</td>\n",
       "      <td>PPE provided GREAT customer service. They stan...</td>\n",
       "    </tr>\n",
       "  </tbody>\n",
       "</table>\n",
       "<p>217170 rows × 10 columns</p>\n",
       "</div>"
      ],
      "text/plain": [
       "       product_productId                                      product_title  \\\n",
       "0             B000O1CRYW                     Orbee Tuff Ball Orange - SMALL   \n",
       "1             B000O1CRYW                     Orbee Tuff Ball Orange - SMALL   \n",
       "2             B000O1CRYW                     Orbee Tuff Ball Orange - SMALL   \n",
       "3             B000O1CRYW                     Orbee Tuff Ball Orange - SMALL   \n",
       "4             B0002ARHAE         Kent Marine Pro-Clear Freshwater Clarifier   \n",
       "...                  ...                                                ...   \n",
       "217165        B0002AQLTM                  Sun-Glo Fluorescent Aquarium Bulb   \n",
       "217166        B0002AQLTM                  Sun-Glo Fluorescent Aquarium Bulb   \n",
       "217167        B0002AQLTM                  Sun-Glo Fluorescent Aquarium Bulb   \n",
       "217168        B0002AQLTM                  Sun-Glo Fluorescent Aquarium Bulb   \n",
       "217169        B000J349B4  SMALL - Fashion Dog Mannequins - GREAT HOLIDAY...   \n",
       "\n",
       "       product_price   review_userId               review_profileName  \\\n",
       "0               6.95  A2FEQ9XL6ML51C             Just an everyday Dad   \n",
       "1               6.95  A183LI95B2WNUQ       V. J. Mcmillen \"vmcmillen\"   \n",
       "2               6.95  A1LSSENM0XIQQR                       gcoronado4   \n",
       "3               6.95  A2E5PZE1PZVK38                            jerry   \n",
       "4               3.73  A3PXLJE4OPIQTY          M. Thomas \"sea_anemone\"   \n",
       "...              ...             ...                              ...   \n",
       "217165          7.54  A1GQSU2KJ0J2GN                           Spence   \n",
       "217166          7.54   ARQSOXE97JEKU                      hollihobbie   \n",
       "217167          7.54   A4PCDJPGOG76L                        A. Jordan   \n",
       "217168          7.54  A19BLTHTZ7HQKU                       Mark in LR   \n",
       "217169         24.98  A1NUCQ27FU2EY9  Mannequin, Dog \"Cally Schuring\"   \n",
       "\n",
       "       review_helpfulness review_score review_time  \\\n",
       "0                     1/1          5.0  1286064000   \n",
       "1                     1/1          5.0  1230249600   \n",
       "2                     0/0          3.0  1309046400   \n",
       "3                     0/0          5.0  1308873600   \n",
       "4                     0/0          5.0  1356912000   \n",
       "...                   ...          ...         ...   \n",
       "217165                1/1          5.0  1335916800   \n",
       "217166                1/1          5.0  1314921600   \n",
       "217167                0/0          3.0  1353974400   \n",
       "217168                0/1          1.0  1339977600   \n",
       "217169                0/0          5.0  1190073600   \n",
       "\n",
       "                               review_summary  \\\n",
       "0             Little Ball, for Little Dogs...   \n",
       "1                                   glow ball   \n",
       "2                                     Too Big   \n",
       "3                                     no good   \n",
       "4                         Best clarifier ever   \n",
       "...                                       ...   \n",
       "217165                            Glow yellow   \n",
       "217166                 Good bulb, great price   \n",
       "217167         Odd color for an aquarium bulb   \n",
       "217168         Bulb only lasted a week or two   \n",
       "217169  Byrne provides great customer service   \n",
       "\n",
       "                                              review_text  \n",
       "0       Great Toy, hard to find! We get ours online he...  \n",
       "1       I have bought several of these small Orbee Tuf...  \n",
       "2       It is a quality ball but the small is still to...  \n",
       "3       I gave it 5 stars because my little dog had so...  \n",
       "4       I've used many products to try and help the wa...  \n",
       "...                                                   ...  \n",
       "217165  Nice bulb, fits perfect, I wish it was not qui...  \n",
       "217166  This is a good bulb and I love the price. Much...  \n",
       "217167  I purchased this bulb two weeks ago to replace...  \n",
       "217168  The bulb only lasted a week or two. I don't kn...  \n",
       "217169  PPE provided GREAT customer service. They stan...  \n",
       "\n",
       "[217170 rows x 10 columns]"
      ]
     },
     "execution_count": 5,
     "metadata": {},
     "output_type": "execute_result"
    }
   ],
   "source": [
    "\n",
    "data = pd.DataFrame(reviews_parsed)\n",
    "data"
   ]
  },
  {
   "cell_type": "code",
   "execution_count": 6,
   "id": "baec6902",
   "metadata": {},
   "outputs": [],
   "source": [
    "str_columns = [\n",
    "    \"product_productId\",\n",
    "    \"product_title\",\n",
    "    \"review_userId\",\n",
    "    \"review_profileName\",\n",
    "    \"review_helpfulness\",\n",
    "    \"review_summary\",\n",
    "    \"review_text\",\n",
    "]\n",
    "float_columns = [\n",
    "    \"product_price\",\n",
    "    \"review_score\",\n",
    "]\n",
    "int_columns = [\"review_time\"]\n",
    "time_columns = [\"review_time\"]\n",
    "\n",
    "data[str_columns] = data[str_columns].astype(str)\n",
    "data[float_columns] = data[float_columns].replace(\"unknown\", np.nan).astype(float)\n",
    "data[int_columns] = data[int_columns].astype(int)\n",
    "data[time_columns] = data[time_columns].apply(pd.to_datetime, unit=\"s\")"
   ]
  },
  {
   "cell_type": "code",
   "execution_count": 13,
   "id": "804bb04b",
   "metadata": {},
   "outputs": [
    {
     "data": {
      "text/plain": [
       "product_productId         0\n",
       "product_title             0\n",
       "product_price         23165\n",
       "review_userId             0\n",
       "review_profileName        0\n",
       "review_helpfulness        0\n",
       "review_score              0\n",
       "review_time               0\n",
       "review_summary            0\n",
       "review_text               0\n",
       "dtype: int64"
      ]
     },
     "execution_count": 13,
     "metadata": {},
     "output_type": "execute_result"
    }
   ],
   "source": [
    "data.isnull().sum()"
   ]
  },
  {
   "cell_type": "code",
   "execution_count": null,
   "id": "fa4c3516",
   "metadata": {},
   "outputs": [],
   "source": [
    "for p in string.punctuation:\n",
    "    data[\"review_text\"] = data[\"review_text\"].str.replace(p, \" \", regex=False)\n"
   ]
  },
  {
   "cell_type": "code",
   "execution_count": 12,
   "id": "20f81fec",
   "metadata": {},
   "outputs": [
    {
     "name": "stdout",
     "output_type": "stream",
     "text": [
      "I purchased one of these because I keep forgetting to check the water dish. Okay, with cats you don't always see them so... out of sight, out of mind. The water dish gets overlooked because they find \"other places\" to get their water. They don't complain and I don't know exactly where they get their water.But, since having the Microban waterer, I can remember sometime in the week's time to see where the water level is. The base holds plenty of water so even if the bottle looks low or empty, the base is holding at least another day or two worth of water. Also, I have mastered the replacing of the bottle (a small mess my first time) so that I can pull the bottle off fast enough (excess water goes directly in the base to be used) and refill the bottle. Flipping the full water bottle back on to the base is easy enough and any spillage goes directly into the base. NO messes!This is a fine product and I have not had any problem with mold or yuckiness yet (which always happened in the old water dish). I do clean it every week or two just to make sure it stays clean (I had to do this every several days with the old water dish).Now that there is a constant supply of fresh water, the cats seem to be utilizing the litter box more. I guess that is good for them, but now I have swapped one chore for another. Oh well, they are healthier anyway.Overall, this product sames me time which makes me happy (and probably the cat, too, since we have been trying to train the kids to put the toilet seat down when finished). The programming can be a little difficult for the technologically challenged. Most of the setting are self explanatory with the exception of the portions size. They use a code (ie 1, 2, 3, etc) to mean things like 1/4 cup, 1/2, and so on. The \"legend\" is located in the instruction manual which is usually already in a landfill before you need it again.I did find the manual online at http://petmate.com/Products/LeBistro-Portion-Control-Feeders__24240.aspx and also printed a copy and saved a copy to my computer in my \"important\" folder.\n"
     ]
    }
   ],
   "source": [
    "print(data[data[\"review_text\"].str.contains(r\"http\")].iloc[0,-1])\n"
   ]
  },
  {
   "cell_type": "markdown",
   "id": "dacf597f",
   "metadata": {},
   "source": [
    "# 3. Procesar la información para obtener los siguientes resultados:\n",
    "* Lista con los nombres de los 10 productos con mayor cantidad de reviews, junto con el número de reseñas de cada uno. Ejemplo: Producto 1: 100 reviews.\n"
   ]
  },
  {
   "cell_type": "code",
   "execution_count": null,
   "id": "8da7031c",
   "metadata": {},
   "outputs": [],
   "source": [
    "\n",
    "top_10_products = data.groupby(\"product_title\")[\"product_title\"].count().sort_values(\n",
    "    ascending=False\n",
    ").head(10)"
   ]
  },
  {
   "cell_type": "markdown",
   "id": "42719afb",
   "metadata": {},
   "source": [
    "* Promedio de rating por producto para todos los productos. Ejemplo: Nombre del producto: rating promedio.\n"
   ]
  },
  {
   "cell_type": "code",
   "execution_count": null,
   "id": "fac1bc82",
   "metadata": {},
   "outputs": [
    {
     "data": {
      "text/plain": [
       "product_title\n",
       "                                                                               3.222222\n",
       "\"Bamboo\" Adjustable Size Shedding Blade for DOGS                               5.000000\n",
       "\"Bamboo\" DOG Rotating Fine Tooth Comb                                          5.000000\n",
       "\"Betta-Sphere\" Aquarium Color Waves, 7\" x 8\", Polka-Dot Purple                 1.000000\n",
       "\"Big Bruiser\" French Fries                                                     5.000000\n",
       "\"DermaPet\" Malacetic Otic (4oz)                                                5.000000\n",
       "\"DermaPet\" Malacetic Otic Ear/Skin Cleanser (16 oz)                            4.909091\n",
       "\"DermaPet\" Malacetic Wet Wipe Dry Bath (100 count)                             5.000000\n",
       "\"Marineland Penguin 200B/350B/170B/330B Rite-Size C Filter Cartridge 6 pk \"    4.790000\n",
       "\"Peace On Earth\" Edible Holiday Card for Dogs                                  5.000000\n",
       "Name: review_score, dtype: float64"
      ]
     },
     "execution_count": 78,
     "metadata": {},
     "output_type": "execute_result"
    }
   ],
   "source": [
    "data.groupby(\"product_title\")[\"review_score\"].mean().head(10)"
   ]
  },
  {
   "cell_type": "code",
   "execution_count": 79,
   "id": "20a85f91",
   "metadata": {},
   "outputs": [
    {
     "data": {
      "text/plain": [
       "product_productId\n",
       "0595281370    4.538462\n",
       "0793821053    4.800000\n",
       "0975412809    4.607143\n",
       "1903492022    4.500000\n",
       "1903499920    4.000000\n",
       "                ...   \n",
       "B000TNAH6U    4.600000\n",
       "B000TNARXS    3.333333\n",
       "B000TZ0YBG    5.000000\n",
       "B000VNV6H2    2.000000\n",
       "B004UNGISQ    5.000000\n",
       "Name: review_score, Length: 17523, dtype: float64"
      ]
     },
     "execution_count": 79,
     "metadata": {},
     "output_type": "execute_result"
    }
   ],
   "source": [
    "mean_product_rating = data.groupby(\"product_productId\")[\"review_score\"].mean()\n",
    "mean_product_rating"
   ]
  },
  {
   "cell_type": "markdown",
   "id": "7c3fe499",
   "metadata": {},
   "source": [
    "* Top 100 palabras más frecuentes en las reseñas con rating entre 1-2 y entre 4-5, por separado.\n"
   ]
  },
  {
   "cell_type": "code",
   "execution_count": null,
   "id": "d383a313",
   "metadata": {},
   "outputs": [],
   "source": [
    "top_100_bad_words = data.loc[data[\"review_score\"].between(1, 2), \"review_text\"].str.split(expand=True).stack().value_counts().head(100).index.tolist()"
   ]
  },
  {
   "cell_type": "code",
   "execution_count": 20,
   "id": "df24cebb",
   "metadata": {},
   "outputs": [
    {
     "data": {
      "text/plain": [
       "1609      Length:: 3:44 MinsWe purchased two different K...\n",
       "1794      Length:: 0:36 MinsIzzy, our mini schnauzer, lo...\n",
       "1795      Length:: 1:01 MinsMy Dog just loves this squea...\n",
       "3087      Length:: 0:15 MinsMy 9 week old Great Dane pup...\n",
       "4180      Length:: 2:08 MinsThese work great in the Berg...\n",
       "                                ...                        \n",
       "210478    Length:: 0:58 MinsNOTE: In video my furnace tu...\n",
       "210579    Length:: 2:03 MinsAfter reading all the review...\n",
       "213521    Length:: 0:31 MinsThis bird seed is great for ...\n",
       "213722    Length:: 2:04 MinsOver my life I've had over 1...\n",
       "215212    Length:: 0:37 MinsIt's a good looking device, ...\n",
       "Name: review_text, Length: 395, dtype: object"
      ]
     },
     "execution_count": 20,
     "metadata": {},
     "output_type": "execute_result"
    }
   ],
   "source": [
    "data[\"review_text\"].apply(lambda x: x[:40]).value_counts().head(10)\n",
    "data.loc[data[\"review_text\"].str.contains(\"Length\"), \"review_text\"]"
   ]
  },
  {
   "cell_type": "code",
   "execution_count": 81,
   "id": "29632241",
   "metadata": {},
   "outputs": [
    {
     "data": {
      "text/plain": [
       "['the',\n",
       " 'I',\n",
       " 'and',\n",
       " 'to',\n",
       " 'a',\n",
       " 'it',\n",
       " 'is',\n",
       " 'of',\n",
       " 'for',\n",
       " 'this',\n",
       " 'in',\n",
       " 'my',\n",
       " 'that',\n",
       " 'have',\n",
       " 'with',\n",
       " 'on',\n",
       " 't',\n",
       " 'was',\n",
       " 'but',\n",
       " 's',\n",
       " 'dog',\n",
       " 'so',\n",
       " 'The',\n",
       " 'you',\n",
       " 'It',\n",
       " 'not',\n",
       " 'as',\n",
       " 'are',\n",
       " 'one',\n",
       " 'they',\n",
       " 'them',\n",
       " 'her',\n",
       " 'out',\n",
       " 'he',\n",
       " 'be',\n",
       " 'product',\n",
       " 'has',\n",
       " 'up',\n",
       " 'can',\n",
       " 'at',\n",
       " 'had',\n",
       " 'This',\n",
       " 'she',\n",
       " 'very',\n",
       " 'we',\n",
       " 'cat',\n",
       " 'when',\n",
       " 'all',\n",
       " 'or',\n",
       " 'would',\n",
       " 'like',\n",
       " 'just',\n",
       " 'My',\n",
       " 'get',\n",
       " 'great',\n",
       " 'from',\n",
       " 'dogs',\n",
       " 'will',\n",
       " 'our',\n",
       " 'use',\n",
       " 'about',\n",
       " 'We',\n",
       " 'more',\n",
       " 'cats',\n",
       " 'well',\n",
       " 'only',\n",
       " 'if',\n",
       " 'time',\n",
       " 'these',\n",
       " 'his',\n",
       " 'other',\n",
       " 'than',\n",
       " 'little',\n",
       " 'him',\n",
       " 'love',\n",
       " 'much',\n",
       " 'your',\n",
       " 'because',\n",
       " 'no',\n",
       " 'good',\n",
       " 'an',\n",
       " 'food',\n",
       " 'two',\n",
       " 'me',\n",
       " 'really',\n",
       " 'litter',\n",
       " 'do',\n",
       " 'been',\n",
       " 'now',\n",
       " 'toy',\n",
       " 'water',\n",
       " '2',\n",
       " 'box',\n",
       " 'over',\n",
       " 'easy',\n",
       " 'their',\n",
       " 've',\n",
       " 'bought',\n",
       " 'too',\n",
       " 'used']"
      ]
     },
     "execution_count": 81,
     "metadata": {},
     "output_type": "execute_result"
    }
   ],
   "source": [
    "top_100_good_words = (\n",
    "    data.loc[data[\"review_score\"].between(4, 5), \"review_text\"]\n",
    "    .str.split(expand=True)\n",
    "    .stack()\n",
    "    .value_counts()\n",
    "    .head(100)\n",
    "    .index.tolist()\n",
    ")\n",
    "top_100_good_words"
   ]
  },
  {
   "cell_type": "markdown",
   "id": "93b815e2",
   "metadata": {},
   "source": [
    "* Cantidad de palabras en la reseña más corta y en la más larga, junto con el ID de la reseña correspondiente. Ejemplo: Reseña más corta: 5 palabras (ID: xxx).\n"
   ]
  },
  {
   "cell_type": "code",
   "execution_count": null,
   "id": "cdcc40f2",
   "metadata": {},
   "outputs": [
    {
     "name": "stdout",
     "output_type": "stream",
     "text": [
      "Reseña más corta: 2 palabras (ID: 122580).\n",
      "Reseña más larga: 3575 palabras (ID: 61902).\n"
     ]
    }
   ],
   "source": [
    "shortest_review = data.loc[data[\"review_text\"].str.split().str.len().idxmin()]\n",
    "longest_review = data.loc[data[\"review_text\"].str.split().str.len().idxmax()]\n",
    "shortest_review_length = len(shortest_review[\"review_text\"].split())\n",
    "longest_review_length = len(longest_review[\"review_text\"].split())\n",
    "shortest_review_id = shortest_review.name\n",
    "longest_review_id = longest_review.name\n",
    "\n",
    "shortest_review_info = f\"Reseña más corta: {shortest_review_length} palabras (ID: {shortest_review_id}).\"\n",
    "longest_review_info = f\"Reseña más larga: {longest_review_length} palabras (ID: {longest_review_id}).\"\n",
    "\n",
    "print(shortest_review_info)\n",
    "print(longest_review_info)"
   ]
  },
  {
   "cell_type": "code",
   "execution_count": null,
   "id": "3d8881fe",
   "metadata": {},
   "outputs": [
    {
     "data": {
      "text/plain": [
       "review_userId\n",
       "unknown           557\n",
       "A2H9QFIX0RYJMT    100\n",
       "A11FX8HL2ANK6T     76\n",
       "AS5CX8MSIW8NO      76\n",
       "A3R68RWKCSLJNA     71\n",
       "Name: count, dtype: int64"
      ]
     },
     "execution_count": 83,
     "metadata": {},
     "output_type": "execute_result"
    }
   ],
   "source": [
    "top_5_users = data[\"review_userId\"].value_counts().head(5)\n",
    "top_5_users"
   ]
  },
  {
   "cell_type": "code",
   "execution_count": 88,
   "id": "9717f320",
   "metadata": {},
   "outputs": [],
   "source": [
    "top_10_products.to_csv(\"data/pets/results/top_10_products.csv\")\n",
    "mean_product_rating.to_csv(\"data/pets/results/mean_product_rating.csv\")\n",
    "\n",
    "\n",
    "with open(\"data/pets/results/top_100_good_words.txt\", \"w\") as f:\n",
    "    f.write(\"\\n\".join(top_100_good_words))\n",
    "\n",
    "with open(\"data/pets/results/top_100_bad_words.txt\", \"w\") as f:\n",
    "    f.write(\"\\n\".join(top_100_bad_words))\n",
    "\n",
    "\n",
    "with open(\"data/pets/results/longest_review_info.txt\", \"w\") as f:\n",
    "    f.write(longest_review_info)\n",
    "\n",
    "with open(\"data/pets/results/shortest_review_info.txt\", \"w\") as f:\n",
    "    f.write(shortest_review_info)\n",
    "\n",
    "top_5_users.to_csv(\"data/pets/results/top_5_users.csv\")"
   ]
  },
  {
   "cell_type": "code",
   "execution_count": null,
   "id": "5856d462",
   "metadata": {},
   "outputs": [],
   "source": []
  },
  {
   "cell_type": "code",
   "execution_count": null,
   "id": "48b54aed",
   "metadata": {},
   "outputs": [],
   "source": []
  },
  {
   "cell_type": "code",
   "execution_count": null,
   "id": "490b4cf2",
   "metadata": {},
   "outputs": [],
   "source": []
  },
  {
   "cell_type": "code",
   "execution_count": null,
   "id": "ed1cd590",
   "metadata": {},
   "outputs": [],
   "source": []
  }
 ],
 "metadata": {
  "kernelspec": {
   "display_name": ".venv",
   "language": "python",
   "name": "python3"
  },
  "language_info": {
   "codemirror_mode": {
    "name": "ipython",
    "version": 3
   },
   "file_extension": ".py",
   "mimetype": "text/x-python",
   "name": "python",
   "nbconvert_exporter": "python",
   "pygments_lexer": "ipython3",
   "version": "3.13.3"
  }
 },
 "nbformat": 4,
 "nbformat_minor": 5
}
