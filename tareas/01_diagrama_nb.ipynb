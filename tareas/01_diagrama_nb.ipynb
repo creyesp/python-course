{
 "cells": [
  {
   "cell_type": "code",
   "execution_count": null,
   "id": "b86ea5b0",
   "metadata": {},
   "outputs": [
    {
     "name": "stdout",
     "output_type": "stream",
     "text": [
      "Categoria no valida\n",
      "El producto esta a la venta\n",
      "El producto remera con precio inicial 0.0 termino con un precio de 138.10567835999998.\n"
     ]
    },
    {
     "ename": "",
     "evalue": "",
     "output_type": "error",
     "traceback": [
      "\u001b[1;31mThe Kernel crashed while executing code in the current cell or a previous cell. \n",
      "\u001b[1;31mPlease review the code in the cell(s) to identify a possible cause of the failure. \n",
      "\u001b[1;31mClick <a href='https://aka.ms/vscodeJupyterKernelCrash'>here</a> for more info. \n",
      "\u001b[1;31mView Jupyter <a href='command:jupyter.viewOutput'>log</a> for further details."
     ]
    }
   ],
   "source": [
    "product_name = input(\"Cual es nombre del producto?: \")\n",
    "product_category = input(\n",
    "    \"Cual es la categoria del productos? (ropa, electronicos, alimentos): \"\n",
    ")\n",
    "base_price = float(input(\"Cual es el precio inicial del producto?: \"))\n",
    "\n",
    "if product_category == \"ropa\":\n",
    "    new_price = base_price * 1.30\n",
    "elif product_category == \"electronicos\":\n",
    "    new_price = base_price * 1.20\n",
    "elif product_category == \"alimentos\":\n",
    "    new_price = base_price * 1.10\n",
    "else:\n",
    "    print(\"Categoria no valida\")\n",
    "    exit()\n",
    "\n",
    "print(\"El producto esta a la venta\")\n",
    "\n",
    "buyed_product = input(\"El producto fue comprado? (si/no): \")\n",
    "\n",
    "while buyed_product == \"no\" and new_price > base_price:\n",
    "    new_price = new_price * (1 - 0.03)\n",
    "    buyed_product = input(\"El producto fue comprado? (si/no): \")\n",
    "\n",
    "if new_price < base_price:\n",
    "    new_price = base_price\n",
    "\n",
    "print(\n",
    "    f\"El producto {product_name} con precio inicial {base_price} \"\n",
    "    f\"termino con un precio de {new_price}.\"\n",
    ")"
   ]
  },
  {
   "cell_type": "code",
   "execution_count": 3,
   "id": "2f9c8c94",
   "metadata": {},
   "outputs": [
    {
     "data": {
      "text/plain": [
       "151.32"
      ]
     },
     "execution_count": 3,
     "metadata": {},
     "output_type": "execute_result"
    }
   ],
   "source": [
    "120*1.3*0.97"
   ]
  }
 ],
 "metadata": {
  "kernelspec": {
   "display_name": "Python 3",
   "language": "python",
   "name": "python3"
  },
  "language_info": {
   "codemirror_mode": {
    "name": "ipython",
    "version": 3
   },
   "file_extension": ".py",
   "mimetype": "text/x-python",
   "name": "python",
   "nbconvert_exporter": "python",
   "pygments_lexer": "ipython3",
   "version": "3.10.15"
  }
 },
 "nbformat": 4,
 "nbformat_minor": 5
}
