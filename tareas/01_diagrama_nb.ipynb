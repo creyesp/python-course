{
 "cells": [
  {
   "cell_type": "code",
   "execution_count": 2,
   "id": "b86ea5b0",
   "metadata": {},
   "outputs": [
    {
     "name": "stdout",
     "output_type": "stream",
     "text": [
      "El producto esta a la venta\n",
      "El producto ropa con precio inicial 123.0 termino con un precio de 123.0.\n"
     ]
    }
   ],
   "source": [
    "product_name = input(\"Cual es nombre del producto?: \")\n",
    "product_category = input(\n",
    "    \"Cual es la categoria del productos? (ropa, electronicos, alimentos): \"\n",
    ")\n",
    "base_price = float(input(\"Cual es el precio inicial del producto?: \"))\n",
    "\n",
    "if product_category == \"ropa\":\n",
    "    new_price = base_price * 1.30\n",
    "elif product_category == \"electronicos\":\n",
    "    new_price = base_price * 1.20\n",
    "elif product_category == \"alimentos\":\n",
    "    new_price = base_price * 1.10\n",
    "else:\n",
    "    print(\"Categoria no valida\")\n",
    "    exit()\n",
    "\n",
    "print(\"El producto esta a la venta\")\n",
    "\n",
    "buyed_product = input(\"El producto fue comprado? (si/no): \")\n",
    "\n",
    "while buyed_product == \"no\" and new_price > base_price:\n",
    "    new_price = new_price * (1 - 0.03)\n",
    "    buyed_product = input(\"El producto fue comprado? (si/no): \")\n",
    "\n",
    "if new_price < base_price:\n",
    "    new_price = base_price\n",
    "\n",
    "print(\n",
    "    f\"El producto {product_name} con precio inicial {base_price} \"\n",
    "    f\"termino con un precio de {new_price}.\"\n",
    ")"
   ]
  }
 ],
 "metadata": {
  "kernelspec": {
   "display_name": "Python 3",
   "language": "python",
   "name": "python3"
  },
  "language_info": {
   "codemirror_mode": {
    "name": "ipython",
    "version": 3
   },
   "file_extension": ".py",
   "mimetype": "text/x-python",
   "name": "python",
   "nbconvert_exporter": "python",
   "pygments_lexer": "ipython3",
   "version": "3.10.17"
  }
 },
 "nbformat": 4,
 "nbformat_minor": 5
}
