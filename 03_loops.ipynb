{
 "cells": [
  {
   "cell_type": "code",
   "execution_count": 1,
   "metadata": {},
   "outputs": [],
   "source": [
    "precios = [100, 200, 300, 400, 500]\n",
    "precios = [\n",
    "    100,\n",
    "    200,\n",
    "    300,\n",
    "    400,\n",
    "    500,\n",
    "]"
   ]
  },
  {
   "cell_type": "code",
   "execution_count": 5,
   "metadata": {},
   "outputs": [
    {
     "data": {
      "text/plain": [
       "50.0"
      ]
     },
     "execution_count": 5,
     "metadata": {},
     "output_type": "execute_result"
    }
   ],
   "source": [
    "precios[1]/4"
   ]
  },
  {
   "cell_type": "code",
   "execution_count": 7,
   "metadata": {},
   "outputs": [
    {
     "name": "stdout",
     "output_type": "stream",
     "text": [
      "5\n",
      "4\n",
      "3\n",
      "2\n",
      "1\n"
     ]
    }
   ],
   "source": [
    "number = 5\n",
    "\n",
    "while number > 0:\n",
    "    print(number)\n",
    "    number = number - 1"
   ]
  },
  {
   "cell_type": "code",
   "execution_count": null,
   "metadata": {},
   "outputs": [
    {
     "name": "stdout",
     "output_type": "stream",
     "text": [
      "happy:  cesa\n",
      "happy:  paula\n",
      "happy:  maria\n"
     ]
    }
   ],
   "source": [
    "x = [\"cesa\", \"paula\", \"maria\"]\n",
    "\n",
    "for k in x:\n",
    "    print(\"happy: \", k)"
   ]
  },
  {
   "cell_type": "code",
   "execution_count": 13,
   "metadata": {},
   "outputs": [
    {
     "name": "stdout",
     "output_type": "stream",
     "text": [
      "happy:  cesar\n",
      "happy:  paula\n",
      "happy:  maria\n"
     ]
    }
   ],
   "source": [
    "estudiantes = [\"cesar\", \"paula\", \"maria\"]\n",
    "\n",
    "print(\"happy: \", estudiantes[0])\n",
    "print(\"happy: \", estudiantes[1])\n",
    "print(\"happy: \", estudiantes[2])"
   ]
  },
  {
   "cell_type": "code",
   "execution_count": null,
   "metadata": {},
   "outputs": [
    {
     "name": "stdout",
     "output_type": "stream",
     "text": [
      "happy:  cesar\n",
      "happy:  paula\n",
      "happy:  maria\n",
      "happy:  jose\n",
      "happy:  lina\n",
      "happy:  santiago\n"
     ]
    }
   ],
   "source": [
    "estudiantes = [\"cesar\", \"paula\", \"maria\", \"jose\", \"lina\", \"santiago\"]\n",
    "\n",
    "for estudiante in estudiantes:\n",
    "    print(\"happy: \", estudiante)\n",
    "    estudiante = \"feliz\""
   ]
  },
  {
   "cell_type": "code",
   "execution_count": null,
   "metadata": {},
   "outputs": [
    {
     "name": "stdout",
     "output_type": "stream",
     "text": [
      "precio 900 debe tener descuento\n",
      "precio 900 debe tener descuento\n",
      "precio 1000 debe tener descuento\n",
      "precio 1000 debe tener descuento\n"
     ]
    }
   ],
   "source": [
    "precios = [100, 200, 300, 400, 500, 600, 700, 800, 900, 1000]\n",
    "\n",
    "\n",
    "for precio in precios:\n",
    "    if precio > 800:\n",
    "        print(\"precio \" + str(precio) + \" debe tener descuento\")\n",
    "        print(f\"precio {precio} debe tener descuento\")"
   ]
  },
  {
   "cell_type": "code",
   "execution_count": 22,
   "metadata": {},
   "outputs": [
    {
     "name": "stdout",
     "output_type": "stream",
     "text": [
      "indice actual: 0\n",
      "indice actual: 1\n",
      "indice actual: 2\n",
      "indice actual: 3\n",
      "indice actual: 4\n",
      "indice actual: 5\n",
      "indice actual: 6\n",
      "indice actual: 7\n",
      "indice actual: 8\n",
      "celular\n",
      "indice actual: 9\n",
      "audifonos\n"
     ]
    }
   ],
   "source": [
    "precios = [100, 200, 300, 400, 500, 600, 700, 800, 900, 1000]\n",
    "productos = [\n",
    "    \"cama\",\n",
    "    \"mesa\",\n",
    "    \"silla\",\n",
    "    \"televisor\",\n",
    "    \"nevera\",\n",
    "    \"lavadora\",\n",
    "    \"secadora\",\n",
    "    \"computador\",\n",
    "    \"celular\",\n",
    "    \"audifonos\",\n",
    "]\n",
    "\n",
    "indice = 0\n",
    "for precio in precios:\n",
    "    print(f\"indice actual: {indice}\")\n",
    "    if precio > 800:\n",
    "        print(productos[indice])\n",
    "    indice = indice + 1"
   ]
  },
  {
   "cell_type": "code",
   "execution_count": 23,
   "metadata": {},
   "outputs": [
    {
     "data": {
      "text/plain": [
       "'celular'"
      ]
     },
     "execution_count": 23,
     "metadata": {},
     "output_type": "execute_result"
    }
   ],
   "source": [
    "productos[8]"
   ]
  },
  {
   "cell_type": "code",
   "execution_count": 24,
   "metadata": {},
   "outputs": [
    {
     "data": {
      "text/plain": [
       "10"
      ]
     },
     "execution_count": 24,
     "metadata": {},
     "output_type": "execute_result"
    }
   ],
   "source": [
    "len(precios)"
   ]
  },
  {
   "cell_type": "code",
   "execution_count": null,
   "metadata": {},
   "outputs": [
    {
     "name": "stdout",
     "output_type": "stream",
     "text": [
      "indice actual: 0\n",
      "indice actual: 1\n",
      "indice actual: 2\n",
      "indice actual: 3\n",
      "indice actual: 4\n",
      "indice actual: 5\n",
      "indice actual: 6\n",
      "indice actual: 7\n",
      "indice actual: 8\n",
      "celular\n",
      "indice actual: 9\n",
      "audifonos\n"
     ]
    }
   ],
   "source": [
    "precios = [100, 200, 300, 400, 500, 600, 700, 800, 900, 1000]\n",
    "indice = 0 \n",
    "\n",
    "while indice < len(precios):\n",
    "    print(f\"indice actual: {indice}\")\n",
    "    if precios[indice] > 800:\n",
    "        print(productos[indice])\n",
    "    indice = indice + 1"
   ]
  },
  {
   "cell_type": "code",
   "execution_count": 28,
   "metadata": {},
   "outputs": [
    {
     "name": "stdout",
     "output_type": "stream",
     "text": [
      "0\n",
      "el indice igual a 200 es: 1\n",
      "2\n",
      "3\n",
      "4\n",
      "5\n",
      "6\n",
      "7\n",
      "8\n",
      "9\n"
     ]
    }
   ],
   "source": [
    "precios = [100, 200, 300, 400, 500, 600, 700, 800, 900, 1000]\n",
    "\n",
    "indice = 0\n",
    "for precio in precios:\n",
    "    if precio == 200:\n",
    "        print(f\"el indice igual a 200 es: {indice}\")\n",
    "    else:\n",
    "        print(f\"{indice}\")\n",
    "    indice = indice + 1"
   ]
  },
  {
   "cell_type": "code",
   "execution_count": 33,
   "metadata": {},
   "outputs": [
    {
     "name": "stdout",
     "output_type": "stream",
     "text": [
      "0\n",
      "el indice igual a 200 es: 1\n"
     ]
    }
   ],
   "source": [
    "precios = [100, 200, 200, 400, 500, 600, 700, 800, 900, 1000]\n",
    "\n",
    "indice = 0\n",
    "for precio in precios:\n",
    "    if precio == 200:\n",
    "        print(f\"el indice igual a 200 es: {indice}\")\n",
    "        break\n",
    "    else:\n",
    "        print(f\"{indice}\")\n",
    "    indice = indice + 1"
   ]
  },
  {
   "cell_type": "code",
   "execution_count": 32,
   "metadata": {},
   "outputs": [
    {
     "name": "stdout",
     "output_type": "stream",
     "text": [
      "indice actual: 0, 100\n",
      "indice actual: 0, 200\n",
      "indice actual: 0, 300\n",
      "indice actual: 0, 400\n",
      "indice actual: 0, 500\n",
      "indice actual: 0, 600\n",
      "indice actual: 0, 700\n",
      "indice actual: 0, 800\n",
      "indice actual: 0, 900\n",
      "indice actual: 0, 1000\n"
     ]
    }
   ],
   "source": [
    "precios = [100, 200, 300, 400, 500, 600, 700, 800, 900, 1000]\n",
    "\n",
    "indice = 0\n",
    "for precio in precios:\n",
    "    print(f\"indice actual: {indice}, {precio}\")\n",
    "    continue\n",
    "    if precio == 200:\n",
    "        print(f\"el indice igual a 200 es: {indice}\")\n",
    "    else:\n",
    "        print(f\"{indice}\")\n",
    "    indice = indice + 1"
   ]
  },
  {
   "cell_type": "code",
   "execution_count": null,
   "metadata": {},
   "outputs": [
    {
     "data": {
      "text/plain": [
       "range(0, 10)"
      ]
     },
     "execution_count": 34,
     "metadata": {},
     "output_type": "execute_result"
    }
   ],
   "source": [
    "range(10)"
   ]
  },
  {
   "cell_type": "code",
   "execution_count": 37,
   "metadata": {},
   "outputs": [
    {
     "data": {
      "text/plain": [
       "[0, 1, 2, 3, 4, 5, 6, 7, 8, 9]"
      ]
     },
     "execution_count": 37,
     "metadata": {},
     "output_type": "execute_result"
    }
   ],
   "source": [
    "list(range(len(precios)))"
   ]
  },
  {
   "cell_type": "code",
   "execution_count": 42,
   "metadata": {},
   "outputs": [
    {
     "data": {
      "text/plain": [
       "[0, 1, 4, 9, 16]"
      ]
     },
     "execution_count": 42,
     "metadata": {},
     "output_type": "execute_result"
    }
   ],
   "source": [
    "numbers = [number**2 for number in range(5)]\n",
    "numbers"
   ]
  },
  {
   "cell_type": "code",
   "execution_count": null,
   "metadata": {},
   "outputs": [
    {
     "data": {
      "text/plain": [
       "[0, 1, 4, 9, 16]"
      ]
     },
     "execution_count": 41,
     "metadata": {},
     "output_type": "execute_result"
    }
   ],
   "source": [
    "numbers = []\n",
    "for i in range(5):\n",
    "    numbers.append(i**2)\n",
    "numbers"
   ]
  }
 ],
 "metadata": {
  "kernelspec": {
   "display_name": "Python 3",
   "language": "python",
   "name": "python3"
  },
  "language_info": {
   "codemirror_mode": {
    "name": "ipython",
    "version": 3
   },
   "file_extension": ".py",
   "mimetype": "text/x-python",
   "name": "python",
   "nbconvert_exporter": "python",
   "pygments_lexer": "ipython3",
   "version": "3.10.15"
  }
 },
 "nbformat": 4,
 "nbformat_minor": 2
}
