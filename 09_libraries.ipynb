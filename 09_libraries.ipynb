{
 "cells": [
  {
   "cell_type": "code",
   "execution_count": 1,
   "id": "b812f693",
   "metadata": {},
   "outputs": [],
   "source": [
    "import os\n",
    "import shutil\n",
    "from pathlib import Path\n",
    "\n",
    "import numpy\n",
    "import pandas as pd\n",
    "\n",
    "\n",
    "import utils\n",
    "from utils import metrics\n",
    "from utils.config.definitions import PROJECT_NAME"
   ]
  },
  {
   "cell_type": "code",
   "execution_count": 2,
   "id": "a3fe55f6",
   "metadata": {},
   "outputs": [
    {
     "data": {
      "text/plain": [
       "'Programación para Ciencia de Datos 2'"
      ]
     },
     "execution_count": 2,
     "metadata": {},
     "output_type": "execute_result"
    }
   ],
   "source": [
    "\n",
    "utils.config.definitions.PROJECT_NAME"
   ]
  },
  {
   "cell_type": "code",
   "execution_count": 30,
   "id": "7d448371",
   "metadata": {},
   "outputs": [
    {
     "data": {
      "text/plain": [
       "13.0"
      ]
     },
     "execution_count": 30,
     "metadata": {},
     "output_type": "execute_result"
    }
   ],
   "source": [
    "base_path = os.path.abspath(\".\")\n",
    "shutil.copyfile(\n",
    "    os.path.join(base_path, \"data\", \"folder1\", \"text.txt\"),\n",
    "    os.path.join(base_path, \"data\", \"folder2\", \"text.txt\"),\n",
    ")\n",
    "\n",
    "numpy.random.seed(42)\n",
    "Path(\"data\").mkdir(parents=True, exist_ok=True)\n",
    "pd.DataFrame()\n",
    "utils.config.definitions.PROJECT_NAME\n",
    "PROJECT_NAME\n",
    "metrics.mse([1,2], [0,7])"
   ]
  },
  {
   "cell_type": "code",
   "execution_count": 3,
   "id": "93dda463",
   "metadata": {},
   "outputs": [],
   "source": [
    "import random"
   ]
  },
  {
   "cell_type": "code",
   "execution_count": 35,
   "id": "9488874e",
   "metadata": {},
   "outputs": [
    {
     "data": {
      "text/plain": [
       "0.46300735781502145"
      ]
     },
     "execution_count": 35,
     "metadata": {},
     "output_type": "execute_result"
    }
   ],
   "source": [
    "random.seed(9)\n",
    "random.random()"
   ]
  },
  {
   "cell_type": "code",
   "execution_count": 24,
   "id": "ec6716de",
   "metadata": {},
   "outputs": [
    {
     "data": {
      "text/plain": [
       "0.44970557052812177"
      ]
     },
     "execution_count": 24,
     "metadata": {},
     "output_type": "execute_result"
    }
   ],
   "source": [
    "random.random()"
   ]
  },
  {
   "cell_type": "code",
   "execution_count": 40,
   "id": "95811331",
   "metadata": {},
   "outputs": [
    {
     "data": {
      "text/plain": [
       "4.01669248031325"
      ]
     },
     "execution_count": 40,
     "metadata": {},
     "output_type": "execute_result"
    }
   ],
   "source": [
    "random.uniform(1,7)"
   ]
  },
  {
   "cell_type": "code",
   "execution_count": 46,
   "id": "6669251c",
   "metadata": {},
   "outputs": [
    {
     "data": {
      "text/plain": [
       "'draw'"
      ]
     },
     "execution_count": 46,
     "metadata": {},
     "output_type": "execute_result"
    }
   ],
   "source": [
    "random.choice([\"win\", \"lose\", \"draw\"])"
   ]
  },
  {
   "cell_type": "code",
   "execution_count": 65,
   "id": "8d0fd18a",
   "metadata": {},
   "outputs": [
    {
     "data": {
      "text/plain": [
       "'lose'"
      ]
     },
     "execution_count": 65,
     "metadata": {},
     "output_type": "execute_result"
    }
   ],
   "source": [
    "list_valiues = [\"win\", \"lose\", \"draw\"]\n",
    "\n",
    "list_valiues[int(random.random() * len(list_valiues))]"
   ]
  },
  {
   "cell_type": "code",
   "execution_count": null,
   "id": "c57e0df6",
   "metadata": {},
   "outputs": [],
   "source": [
    "import datetime\n",
    "\n"
   ]
  },
  {
   "cell_type": "code",
   "execution_count": 71,
   "id": "0a1828f1",
   "metadata": {},
   "outputs": [
    {
     "data": {
      "text/plain": [
       "datetime.datetime(2025, 4, 12, 9, 7, 18, 13897)"
      ]
     },
     "execution_count": 71,
     "metadata": {},
     "output_type": "execute_result"
    }
   ],
   "source": [
    "current_datetime = datetime.datetime.now()\n",
    "current_datetime"
   ]
  },
  {
   "cell_type": "code",
   "execution_count": 72,
   "id": "bc46ee4a",
   "metadata": {},
   "outputs": [
    {
     "data": {
      "text/plain": [
       "datetime.datetime"
      ]
     },
     "execution_count": 72,
     "metadata": {},
     "output_type": "execute_result"
    }
   ],
   "source": [
    "type(current_datetime)"
   ]
  },
  {
   "cell_type": "code",
   "execution_count": 75,
   "id": "da6c58ad",
   "metadata": {},
   "outputs": [
    {
     "data": {
      "text/plain": [
       "(2025, 4, 12)"
      ]
     },
     "execution_count": 75,
     "metadata": {},
     "output_type": "execute_result"
    }
   ],
   "source": [
    "current_datetime.year, current_datetime.month, current_datetime.day"
   ]
  },
  {
   "cell_type": "code",
   "execution_count": 78,
   "id": "553fc2f9",
   "metadata": {},
   "outputs": [
    {
     "data": {
      "text/plain": [
       "'2025-04-12T09:07:18'"
      ]
     },
     "execution_count": 78,
     "metadata": {},
     "output_type": "execute_result"
    }
   ],
   "source": [
    "current_datetime.strftime(\"%Y-%m-%dT%H:%M:%S\")"
   ]
  },
  {
   "cell_type": "code",
   "execution_count": 82,
   "id": "ec7972ea",
   "metadata": {},
   "outputs": [
    {
     "data": {
      "text/plain": [
       "datetime.datetime(2025, 4, 17, 9, 7, 18, 13897)"
      ]
     },
     "execution_count": 82,
     "metadata": {},
     "output_type": "execute_result"
    }
   ],
   "source": [
    "current_datetime + datetime.timedelta(days=5)"
   ]
  },
  {
   "cell_type": "code",
   "execution_count": 83,
   "id": "e5acf241",
   "metadata": {},
   "outputs": [],
   "source": [
    "import time \n"
   ]
  },
  {
   "cell_type": "code",
   "execution_count": null,
   "id": "418760ba",
   "metadata": {},
   "outputs": [],
   "source": [
    "start_time = time.time()\n",
    "[k for k in range(100_000_000)]\n",
    "end_time= time.time()\n"
   ]
  },
  {
   "cell_type": "code",
   "execution_count": 86,
   "id": "ee3888ef",
   "metadata": {},
   "outputs": [
    {
     "data": {
      "text/plain": [
       "2.2959580421447754"
      ]
     },
     "execution_count": 86,
     "metadata": {},
     "output_type": "execute_result"
    }
   ],
   "source": [
    "end_time- start_time"
   ]
  },
  {
   "cell_type": "code",
   "execution_count": 87,
   "id": "b3bba7e6",
   "metadata": {},
   "outputs": [],
   "source": [
    "import os"
   ]
  },
  {
   "cell_type": "code",
   "execution_count": 90,
   "id": "4cd7113c",
   "metadata": {},
   "outputs": [
    {
     "data": {
      "text/plain": [
       "['folder2', 'Pet_Supplies.txt', 'folder1']"
      ]
     },
     "execution_count": 90,
     "metadata": {},
     "output_type": "execute_result"
    }
   ],
   "source": [
    "os.listdir(\"data\")"
   ]
  },
  {
   "cell_type": "code",
   "execution_count": 92,
   "id": "298a628f",
   "metadata": {},
   "outputs": [],
   "source": [
    "os.mkdir(\"data/folder3\")"
   ]
  },
  {
   "cell_type": "code",
   "execution_count": 93,
   "id": "b044863b",
   "metadata": {},
   "outputs": [
    {
     "data": {
      "text/plain": [
       "True"
      ]
     },
     "execution_count": 93,
     "metadata": {},
     "output_type": "execute_result"
    }
   ],
   "source": [
    "os.path.exists(\"data/folder3\")"
   ]
  },
  {
   "cell_type": "code",
   "execution_count": 94,
   "id": "769e87c6",
   "metadata": {},
   "outputs": [
    {
     "data": {
      "text/plain": [
       "False"
      ]
     },
     "execution_count": 94,
     "metadata": {},
     "output_type": "execute_result"
    }
   ],
   "source": [
    "os.path.exists(\"data/folder4\")"
   ]
  },
  {
   "cell_type": "code",
   "execution_count": null,
   "id": "12fef80e",
   "metadata": {},
   "outputs": [],
   "source": []
  },
  {
   "cell_type": "code",
   "execution_count": null,
   "id": "d40ef1ca",
   "metadata": {},
   "outputs": [],
   "source": []
  },
  {
   "cell_type": "code",
   "execution_count": 95,
   "id": "9f7f986a",
   "metadata": {},
   "outputs": [],
   "source": [
    "import os"
   ]
  },
  {
   "cell_type": "code",
   "execution_count": 98,
   "id": "137338b6",
   "metadata": {},
   "outputs": [],
   "source": [
    "from os import mkdir\n"
   ]
  },
  {
   "cell_type": "code",
   "execution_count": 97,
   "id": "9417520e",
   "metadata": {},
   "outputs": [],
   "source": [
    "os.mkdir(\"data/folder4\")\n",
    "mkdir(\"data/folder5\")"
   ]
  },
  {
   "cell_type": "code",
   "execution_count": 100,
   "id": "d43a0713",
   "metadata": {},
   "outputs": [],
   "source": [
    "import os as operetive_sistem\n",
    "operetive_sistem.mkdir(\"data/folder6\")"
   ]
  }
 ],
 "metadata": {
  "kernelspec": {
   "display_name": "Python 3",
   "language": "python",
   "name": "python3"
  },
  "language_info": {
   "codemirror_mode": {
    "name": "ipython",
    "version": 3
   },
   "file_extension": ".py",
   "mimetype": "text/x-python",
   "name": "python",
   "nbconvert_exporter": "python",
   "pygments_lexer": "ipython3",
   "version": "3.10.13"
  }
 },
 "nbformat": 4,
 "nbformat_minor": 5
}
