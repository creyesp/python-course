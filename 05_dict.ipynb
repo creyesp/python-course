{
 "cells": [
  {
   "cell_type": "code",
   "execution_count": 7,
   "metadata": {},
   "outputs": [
    {
     "data": {
      "text/plain": [
       "{'UY': 'Uruguay', 'CL': 'Chile'}"
      ]
     },
     "execution_count": 7,
     "metadata": {},
     "output_type": "execute_result"
    }
   ],
   "source": [
    "countries = {\n",
    "    \"UY\": \"Uruguay\",\n",
    "    \"CL\": \"Chile\",\n",
    "}\n",
    "countries"
   ]
  },
  {
   "cell_type": "code",
   "execution_count": 4,
   "metadata": {},
   "outputs": [
    {
     "data": {
      "text/plain": [
       "'Uruguay'"
      ]
     },
     "execution_count": 4,
     "metadata": {},
     "output_type": "execute_result"
    }
   ],
   "source": [
    "countries[\"UY\"]\n"
   ]
  },
  {
   "cell_type": "code",
   "execution_count": 6,
   "metadata": {},
   "outputs": [
    {
     "data": {
      "text/plain": [
       "{'UY': 'Uruguay', 'CL': 'Chile'}"
      ]
     },
     "execution_count": 6,
     "metadata": {},
     "output_type": "execute_result"
    }
   ],
   "source": [
    "countries = dict(UY=\"Uruguay\", CL=\"Chile\")\n",
    "countries"
   ]
  },
  {
   "cell_type": "code",
   "execution_count": 8,
   "metadata": {},
   "outputs": [
    {
     "data": {
      "text/plain": [
       "{}"
      ]
     },
     "execution_count": 8,
     "metadata": {},
     "output_type": "execute_result"
    }
   ],
   "source": [
    "countries = {}\n",
    "countries"
   ]
  },
  {
   "cell_type": "code",
   "execution_count": 9,
   "metadata": {},
   "outputs": [
    {
     "ename": "KeyError",
     "evalue": "'BR'",
     "output_type": "error",
     "traceback": [
      "\u001b[0;31m---------------------------------------------------------------------------\u001b[0m",
      "\u001b[0;31mKeyError\u001b[0m                                  Traceback (most recent call last)",
      "Cell \u001b[0;32mIn[9], line 5\u001b[0m\n\u001b[1;32m      1\u001b[0m countries \u001b[38;5;241m=\u001b[39m {\n\u001b[1;32m      2\u001b[0m     \u001b[38;5;124m\"\u001b[39m\u001b[38;5;124mUY\u001b[39m\u001b[38;5;124m\"\u001b[39m: \u001b[38;5;124m\"\u001b[39m\u001b[38;5;124mUruguay\u001b[39m\u001b[38;5;124m\"\u001b[39m,\n\u001b[1;32m      3\u001b[0m     \u001b[38;5;124m\"\u001b[39m\u001b[38;5;124mCL\u001b[39m\u001b[38;5;124m\"\u001b[39m: \u001b[38;5;124m\"\u001b[39m\u001b[38;5;124mChile\u001b[39m\u001b[38;5;124m\"\u001b[39m,\n\u001b[1;32m      4\u001b[0m }\n\u001b[0;32m----> 5\u001b[0m \u001b[43mcountries\u001b[49m\u001b[43m[\u001b[49m\u001b[38;5;124;43m\"\u001b[39;49m\u001b[38;5;124;43mBR\u001b[39;49m\u001b[38;5;124;43m\"\u001b[39;49m\u001b[43m]\u001b[49m\n",
      "\u001b[0;31mKeyError\u001b[0m: 'BR'"
     ]
    }
   ],
   "source": [
    "countries = {\n",
    "    \"UY\": \"Uruguay\",\n",
    "    \"CL\": \"Chile\",\n",
    "}\n",
    "countries[\"BR\"]"
   ]
  },
  {
   "cell_type": "code",
   "execution_count": 12,
   "metadata": {},
   "outputs": [],
   "source": [
    "countries.get(\"BR\")"
   ]
  },
  {
   "cell_type": "code",
   "execution_count": 14,
   "metadata": {},
   "outputs": [
    {
     "data": {
      "text/plain": [
       "'NA'"
      ]
     },
     "execution_count": 14,
     "metadata": {},
     "output_type": "execute_result"
    }
   ],
   "source": [
    "countries.get(\"BR\", \"NA\")"
   ]
  },
  {
   "cell_type": "code",
   "execution_count": 15,
   "metadata": {},
   "outputs": [
    {
     "data": {
      "text/plain": [
       "dict_keys(['UY', 'CL'])"
      ]
     },
     "execution_count": 15,
     "metadata": {},
     "output_type": "execute_result"
    }
   ],
   "source": [
    "countries.keys()"
   ]
  },
  {
   "cell_type": "code",
   "execution_count": 16,
   "metadata": {},
   "outputs": [
    {
     "data": {
      "text/plain": [
       "dict_values(['Uruguay', 'Chile'])"
      ]
     },
     "execution_count": 16,
     "metadata": {},
     "output_type": "execute_result"
    }
   ],
   "source": [
    "countries.values()"
   ]
  },
  {
   "cell_type": "code",
   "execution_count": 17,
   "metadata": {},
   "outputs": [
    {
     "data": {
      "text/plain": [
       "dict_items([('UY', 'Uruguay'), ('CL', 'Chile')])"
      ]
     },
     "execution_count": 17,
     "metadata": {},
     "output_type": "execute_result"
    }
   ],
   "source": [
    "countries.items()"
   ]
  },
  {
   "cell_type": "code",
   "execution_count": null,
   "metadata": {},
   "outputs": [
    {
     "name": "stdout",
     "output_type": "stream",
     "text": [
      "UY\n",
      "CL\n"
     ]
    }
   ],
   "source": [
    "for key in countries.keys():\n",
    "    print(key)"
   ]
  },
  {
   "cell_type": "code",
   "execution_count": 19,
   "metadata": {},
   "outputs": [
    {
     "name": "stdout",
     "output_type": "stream",
     "text": [
      "UY\n",
      "CL\n"
     ]
    }
   ],
   "source": [
    "for key in countries:\n",
    "    print(key)"
   ]
  },
  {
   "cell_type": "code",
   "execution_count": null,
   "metadata": {},
   "outputs": [
    {
     "name": "stdout",
     "output_type": "stream",
     "text": [
      "Uruguay\n",
      "Chile\n"
     ]
    }
   ],
   "source": [
    "for value in countries.values():\n",
    "    print(value)"
   ]
  },
  {
   "cell_type": "code",
   "execution_count": 24,
   "metadata": {},
   "outputs": [
    {
     "name": "stdout",
     "output_type": "stream",
     "text": [
      "('UY', 'Uruguay')\n",
      ">>  UY - Uruguay  <<\n",
      "('CL', 'Chile')\n",
      ">>  CL - Chile  <<\n"
     ]
    }
   ],
   "source": [
    "for items in countries.items():\n",
    "    print(items)\n",
    "    print(f\">>  {items[0]} - {items[1]}  <<\")"
   ]
  },
  {
   "cell_type": "code",
   "execution_count": null,
   "metadata": {},
   "outputs": [],
   "source": []
  },
  {
   "cell_type": "code",
   "execution_count": 23,
   "metadata": {},
   "outputs": [
    {
     "name": "stdout",
     "output_type": "stream",
     "text": [
      ">>  UY - Uruguay  <<\n",
      ">>  CL - Chile  <<\n"
     ]
    }
   ],
   "source": [
    "for (key, value) in countries.items():\n",
    "    print(f\">>  {key} - {value}  <<\")"
   ]
  },
  {
   "cell_type": "code",
   "execution_count": null,
   "metadata": {},
   "outputs": [],
   "source": []
  },
  {
   "cell_type": "code",
   "execution_count": 28,
   "metadata": {},
   "outputs": [
    {
     "name": "stdout",
     "output_type": "stream",
     "text": [
      "key: UY - value: Uruguay\n",
      "key: CL - value: Chile\n"
     ]
    }
   ],
   "source": [
    "for key in countries:\n",
    "    print(f\"key: {key} - value: {countries[key]}\")"
   ]
  },
  {
   "cell_type": "code",
   "execution_count": 32,
   "metadata": {},
   "outputs": [
    {
     "data": {
      "text/plain": [
       "{'UY': 'Pais - Uruguay', 'CL': 'Pais - Chile'}"
      ]
     },
     "execution_count": 32,
     "metadata": {},
     "output_type": "execute_result"
    }
   ],
   "source": [
    "countries = {\n",
    "    \"UY\": \"Uruguay\",\n",
    "    \"CL\": \"Chile\",\n",
    "}\n",
    "\n",
    "for key in countries:\n",
    "    countries[key] = \"Pais - \" + countries[key] \n",
    "countries"
   ]
  },
  {
   "cell_type": "code",
   "execution_count": 33,
   "metadata": {},
   "outputs": [
    {
     "data": {
      "text/plain": [
       "'Pais - Uruguay'"
      ]
     },
     "execution_count": 33,
     "metadata": {},
     "output_type": "execute_result"
    }
   ],
   "source": [
    "countries[\"UY\"]"
   ]
  },
  {
   "cell_type": "code",
   "execution_count": null,
   "metadata": {},
   "outputs": [
    {
     "data": {
      "text/plain": [
       "False"
      ]
     },
     "execution_count": 34,
     "metadata": {},
     "output_type": "execute_result"
    }
   ],
   "source": [
    "\"BR\" in countries "
   ]
  },
  {
   "cell_type": "code",
   "execution_count": 35,
   "metadata": {},
   "outputs": [
    {
     "data": {
      "text/plain": [
       "True"
      ]
     },
     "execution_count": 35,
     "metadata": {},
     "output_type": "execute_result"
    }
   ],
   "source": [
    "\"UY\" in countries"
   ]
  },
  {
   "cell_type": "code",
   "execution_count": 38,
   "metadata": {},
   "outputs": [
    {
     "data": {
      "text/plain": [
       "[2, 3, 4, 1, 1, 1]"
      ]
     },
     "execution_count": 38,
     "metadata": {},
     "output_type": "execute_result"
    }
   ],
   "source": [
    "[2, 3,4] + [1,1,1]"
   ]
  },
  {
   "cell_type": "code",
   "execution_count": null,
   "metadata": {},
   "outputs": [],
   "source": []
  },
  {
   "cell_type": "markdown",
   "metadata": {},
   "source": [
    "# Conjuntos / Set"
   ]
  },
  {
   "cell_type": "code",
   "execution_count": 40,
   "metadata": {},
   "outputs": [
    {
     "data": {
      "text/plain": [
       "{'Isaac', 'Lucas', 'Matilde', 'Nico'}"
      ]
     },
     "execution_count": 40,
     "metadata": {},
     "output_type": "execute_result"
    }
   ],
   "source": [
    "studients = {\"Isaac\", \"Lucas\", \"Nico\", \"Matilde\", \"Lucas\"}\n",
    "studients"
   ]
  },
  {
   "cell_type": "code",
   "execution_count": 45,
   "metadata": {},
   "outputs": [
    {
     "data": {
      "text/plain": [
       "{'Isaac', 'Lucas', 'Matilde', 'Nico'}"
      ]
     },
     "execution_count": 45,
     "metadata": {},
     "output_type": "execute_result"
    }
   ],
   "source": [
    "studients_list = [\"Isaac\", \"Lucas\", \"Nico\", \"Matilde\", \"Lucas\"]\n",
    "studients = set(studients_list)\n",
    "studients"
   ]
  },
  {
   "cell_type": "code",
   "execution_count": null,
   "metadata": {},
   "outputs": [],
   "source": [
    "studients.add(\"Cesar\")"
   ]
  },
  {
   "cell_type": "code",
   "execution_count": 47,
   "metadata": {},
   "outputs": [
    {
     "data": {
      "text/plain": [
       "{'Cesar', 'Isaac', 'Lucas', 'Matilde', 'Nico'}"
      ]
     },
     "execution_count": 47,
     "metadata": {},
     "output_type": "execute_result"
    }
   ],
   "source": [
    "studients"
   ]
  },
  {
   "cell_type": "code",
   "execution_count": 49,
   "metadata": {},
   "outputs": [
    {
     "data": {
      "text/plain": [
       "{'Cesar', 'Isaac', 'Lucas', 'Matilde', 'Nico'}"
      ]
     },
     "execution_count": 49,
     "metadata": {},
     "output_type": "execute_result"
    }
   ],
   "source": [
    "studients.add(\"Cesar\")\n",
    "studients"
   ]
  },
  {
   "cell_type": "code",
   "execution_count": 50,
   "metadata": {},
   "outputs": [
    {
     "data": {
      "text/plain": [
       "{'Isaac', 'Lucas', 'Matilde', 'Nico'}"
      ]
     },
     "execution_count": 50,
     "metadata": {},
     "output_type": "execute_result"
    }
   ],
   "source": [
    "studients.remove(\"Cesar\")\n",
    "studients"
   ]
  },
  {
   "cell_type": "code",
   "execution_count": null,
   "metadata": {},
   "outputs": [],
   "source": [
    "studients_1= set([\"Isaac\", \"Lucas\", \"Nico\", \"Matilde\", \"Lucas\"])\n",
    "studients_2 = set([\"Matilde\", \"Lucas\", \"Diego\"])"
   ]
  },
  {
   "cell_type": "code",
   "execution_count": 53,
   "metadata": {},
   "outputs": [
    {
     "data": {
      "text/plain": [
       "{'Isaac', 'Lucas', 'Matilde', 'Nico'}"
      ]
     },
     "execution_count": 53,
     "metadata": {},
     "output_type": "execute_result"
    }
   ],
   "source": [
    "studients_1"
   ]
  },
  {
   "cell_type": "code",
   "execution_count": 54,
   "metadata": {},
   "outputs": [
    {
     "data": {
      "text/plain": [
       "{'Diego', 'Lucas', 'Matilde'}"
      ]
     },
     "execution_count": 54,
     "metadata": {},
     "output_type": "execute_result"
    }
   ],
   "source": [
    "studients_2"
   ]
  },
  {
   "cell_type": "code",
   "execution_count": null,
   "metadata": {},
   "outputs": [
    {
     "data": {
      "text/plain": [
       "{'Diego', 'Isaac', 'Lucas', 'Matilde', 'Nico'}"
      ]
     },
     "execution_count": 55,
     "metadata": {},
     "output_type": "execute_result"
    }
   ],
   "source": [
    "studients_1.union(studients_2)"
   ]
  },
  {
   "cell_type": "code",
   "execution_count": 56,
   "metadata": {},
   "outputs": [
    {
     "data": {
      "text/plain": [
       "{'Lucas', 'Matilde'}"
      ]
     },
     "execution_count": 56,
     "metadata": {},
     "output_type": "execute_result"
    }
   ],
   "source": [
    "studients_1.intersection(studients_2)"
   ]
  },
  {
   "cell_type": "code",
   "execution_count": null,
   "metadata": {},
   "outputs": [
    {
     "data": {
      "text/plain": [
       "{'Isaac', 'Nico'}"
      ]
     },
     "execution_count": 57,
     "metadata": {},
     "output_type": "execute_result"
    }
   ],
   "source": [
    "studients_1 - studients_2"
   ]
  },
  {
   "cell_type": "code",
   "execution_count": null,
   "metadata": {},
   "outputs": [
    {
     "data": {
      "text/plain": [
       "{'Diego'}"
      ]
     },
     "execution_count": 58,
     "metadata": {},
     "output_type": "execute_result"
    }
   ],
   "source": [
    "studients_2 - studients_1"
   ]
  },
  {
   "cell_type": "code",
   "execution_count": 59,
   "metadata": {},
   "outputs": [
    {
     "data": {
      "text/plain": [
       "False"
      ]
     },
     "execution_count": 59,
     "metadata": {},
     "output_type": "execute_result"
    }
   ],
   "source": [
    "studients_2.issubset(studients_1)"
   ]
  },
  {
   "cell_type": "markdown",
   "metadata": {},
   "source": []
  },
  {
   "cell_type": "code",
   "execution_count": 60,
   "metadata": {},
   "outputs": [],
   "source": [
    "# Ejercicios"
   ]
  },
  {
   "cell_type": "code",
   "execution_count": null,
   "metadata": {},
   "outputs": [
    {
     "data": {
      "text/plain": [
       "['En',\n",
       " 'biología',\n",
       " ',',\n",
       " 'el',\n",
       " 'rango',\n",
       " 'taxonómico',\n",
       " '(que',\n",
       " 'algunos',\n",
       " 'autores',\n",
       " 'prefieren',\n",
       " 'llamar',\n",
       " 'rango',\n",
       " 'nomenclatural',\n",
       " '[',\n",
       " '1',\n",
       " ']',\n",
       " 'porque',\n",
       " 'la',\n",
       " 'clasificación',\n",
       " 'es',\n",
       " 'parte',\n",
       " 'de',\n",
       " 'la',\n",
       " 'nomenclatura',\n",
       " 'en',\n",
       " 'lugar',\n",
       " 'de',\n",
       " 'la',\n",
       " 'taxonomía',\n",
       " 'propiamente',\n",
       " 'dicha,',\n",
       " 'según',\n",
       " 'algunas',\n",
       " 'definiciones',\n",
       " 'de',\n",
       " 'estos',\n",
       " 'términos)',\n",
       " 'es',\n",
       " 'el',\n",
       " 'nivel',\n",
       " 'relativo',\n",
       " 'o',\n",
       " 'absoluto',\n",
       " 'de',\n",
       " 'un',\n",
       " 'grupo',\n",
       " 'de',\n",
       " 'organismos',\n",
       " '(un',\n",
       " 'taxón',\n",
       " ')',\n",
       " 'en',\n",
       " 'una',\n",
       " 'jerarquía',\n",
       " 'que',\n",
       " 'refleja',\n",
       " 'relaciones',\n",
       " 'evolutivas.',\n",
       " 'Así,',\n",
       " 'los',\n",
       " 'clados',\n",
       " 'más',\n",
       " 'inclusivos',\n",
       " '(como',\n",
       " 'Eukarya',\n",
       " 'y',\n",
       " 'Opisthokonta',\n",
       " ')',\n",
       " 'tienen',\n",
       " 'los',\n",
       " 'rangos',\n",
       " 'más',\n",
       " 'altos,',\n",
       " 'mientras',\n",
       " 'que',\n",
       " 'los',\n",
       " 'menos',\n",
       " 'inclusivos',\n",
       " '(como',\n",
       " 'Homo',\n",
       " 'sapiens',\n",
       " 'o',\n",
       " 'Bufo',\n",
       " 'bufo',\n",
       " ')',\n",
       " 'tienen',\n",
       " 'los',\n",
       " 'rangos',\n",
       " 'más',\n",
       " 'bajos.',\n",
       " 'Los',\n",
       " 'rangos',\n",
       " 'pueden',\n",
       " 'ser',\n",
       " 'relativos',\n",
       " 'y',\n",
       " 'denotarse',\n",
       " 'por',\n",
       " 'una',\n",
       " 'taxonomía',\n",
       " 'sangrada',\n",
       " 'en',\n",
       " 'la',\n",
       " 'que',\n",
       " 'el',\n",
       " 'nivel',\n",
       " 'de',\n",
       " 'sangría',\n",
       " 'refleja',\n",
       " 'el',\n",
       " 'rango,',\n",
       " 'o',\n",
       " 'absolutos,',\n",
       " 'en',\n",
       " 'los',\n",
       " 'que',\n",
       " 'varios',\n",
       " 'términos,',\n",
       " 'como',\n",
       " 'especie',\n",
       " ',',\n",
       " 'género',\n",
       " ',',\n",
       " 'familia',\n",
       " ',',\n",
       " 'orden',\n",
       " ',',\n",
       " 'clase',\n",
       " ',',\n",
       " 'filo',\n",
       " ',',\n",
       " 'reino',\n",
       " 'y',\n",
       " 'dominio',\n",
       " 'designan',\n",
       " 'el',\n",
       " 'rango.',\n",
       " 'Esta',\n",
       " 'página',\n",
       " 'hace',\n",
       " 'hincapié',\n",
       " 'en',\n",
       " 'los',\n",
       " 'rangos',\n",
       " 'absolutos',\n",
       " 'y',\n",
       " 'en',\n",
       " 'los',\n",
       " 'códigos',\n",
       " 'basados',\n",
       " '\\u200b\\u200ben',\n",
       " 'rangos',\n",
       " '(el',\n",
       " 'Código',\n",
       " 'Zoológico',\n",
       " ',',\n",
       " 'el',\n",
       " 'Código',\n",
       " 'Botánico',\n",
       " ',',\n",
       " 'el',\n",
       " 'Código',\n",
       " 'de',\n",
       " 'Plantas',\n",
       " 'Cultivadas',\n",
       " ',',\n",
       " 'el',\n",
       " 'Código',\n",
       " 'Procariota',\n",
       " 'y',\n",
       " 'el',\n",
       " 'Código',\n",
       " 'de',\n",
       " 'Virus',\n",
       " ')',\n",
       " 'que',\n",
       " 'los',\n",
       " 'requieren.',\n",
       " 'Sin',\n",
       " 'embargo,',\n",
       " 'no',\n",
       " 'todos',\n",
       " 'los',\n",
       " 'sistemas',\n",
       " 'de',\n",
       " 'nomenclatura',\n",
       " 'para',\n",
       " 'taxónomos',\n",
       " 'exigen',\n",
       " 'rangos',\n",
       " 'absolutos',\n",
       " ';',\n",
       " 'por',\n",
       " 'ejemplo,',\n",
       " 'el',\n",
       " 'PhyloCode',\n",
       " '[',\n",
       " '2',\n",
       " '],',\n",
       " 'el',\n",
       " 'código',\n",
       " 'de',\n",
       " 'nomenclatura',\n",
       " 'filogenética',\n",
       " ',',\n",
       " 'no',\n",
       " 'los',\n",
       " 'requiere.']"
      ]
     },
     "execution_count": 63,
     "metadata": {},
     "output_type": "execute_result"
    }
   ],
   "source": [
    "text = \"En biología , el rango taxonómico (que algunos autores prefieren llamar rango nomenclatural [ 1 ] porque la clasificación es parte de la nomenclatura en lugar de la taxonomía propiamente dicha, según algunas definiciones de estos términos) es el nivel relativo o absoluto de un grupo de organismos (un taxón ) en una jerarquía que refleja relaciones evolutivas. Así, los clados más inclusivos (como Eukarya y Opisthokonta ) tienen los rangos más altos, mientras que los menos inclusivos (como Homo sapiens o Bufo bufo ) tienen los rangos más bajos. Los rangos pueden ser relativos y denotarse por una taxonomía sangrada en la que el nivel de sangría refleja el rango, o absolutos, en los que varios términos, como especie , género , familia , orden , clase , filo , reino y dominio designan el rango. Esta página hace hincapié en los rangos absolutos y en los códigos basados ​​en rangos (el Código Zoológico , el Código Botánico , el Código de Plantas Cultivadas , el Código Procariota y el Código de Virus ) que los requieren. Sin embargo, no todos los sistemas de nomenclatura para taxónomos exigen rangos absolutos ; por ejemplo, el PhyloCode [ 2 ], el código de nomenclatura filogenética , no los requiere.\"\n",
    "text_list = text.split(\" \")\n",
    "text_list"
   ]
  },
  {
   "cell_type": "code",
   "execution_count": null,
   "metadata": {},
   "outputs": [],
   "source": [
    "counter = {}\n",
    "for word in text_list:\n",
    "    # print(word)\n",
    "    if word in counter:\n",
    "        counter[word] = counter[word] + 1 \n",
    "        # counter[word] += 1\n",
    "    else:\n",
    "        counter[word] = 1\n",
    "\n"
   ]
  },
  {
   "cell_type": "code",
   "execution_count": null,
   "metadata": {},
   "outputs": [],
   "source": [
    "counter = {}\n",
    "counter[\"En\"]"
   ]
  },
  {
   "cell_type": "code",
   "execution_count": 69,
   "metadata": {},
   "outputs": [
    {
     "name": "stdout",
     "output_type": "stream",
     "text": [
      "En\n",
      ">>>>> Agregando En al dict\n",
      "biología\n",
      ">>>>> Agregando biología al dict\n",
      ",\n",
      ">>>>> Agregando , al dict\n",
      "el\n",
      ">>>>> Agregando el al dict\n",
      "rango\n",
      ">>>>> Agregando rango al dict\n",
      "taxonómico\n",
      ">>>>> Agregando taxonómico al dict\n",
      "(que\n",
      ">>>>> Agregando (que al dict\n",
      "algunos\n",
      ">>>>> Agregando algunos al dict\n",
      "autores\n",
      ">>>>> Agregando autores al dict\n",
      "prefieren\n",
      ">>>>> Agregando prefieren al dict\n",
      "llamar\n",
      ">>>>> Agregando llamar al dict\n",
      "rango\n",
      ">>>>> 2\n",
      "nomenclatural\n",
      ">>>>> Agregando nomenclatural al dict\n",
      "[\n",
      ">>>>> Agregando [ al dict\n",
      "1\n",
      ">>>>> Agregando 1 al dict\n",
      "]\n",
      ">>>>> Agregando ] al dict\n",
      "porque\n",
      ">>>>> Agregando porque al dict\n",
      "la\n",
      ">>>>> Agregando la al dict\n",
      "clasificación\n",
      ">>>>> Agregando clasificación al dict\n",
      "es\n",
      ">>>>> Agregando es al dict\n",
      "parte\n",
      ">>>>> Agregando parte al dict\n",
      "de\n",
      ">>>>> Agregando de al dict\n",
      "la\n",
      ">>>>> 2\n",
      "nomenclatura\n",
      ">>>>> Agregando nomenclatura al dict\n",
      "en\n",
      ">>>>> Agregando en al dict\n",
      "lugar\n",
      ">>>>> Agregando lugar al dict\n",
      "de\n",
      ">>>>> 2\n",
      "la\n",
      ">>>>> 3\n",
      "taxonomía\n",
      ">>>>> Agregando taxonomía al dict\n",
      "propiamente\n",
      ">>>>> Agregando propiamente al dict\n",
      "dicha,\n",
      ">>>>> Agregando dicha, al dict\n",
      "según\n",
      ">>>>> Agregando según al dict\n",
      "algunas\n",
      ">>>>> Agregando algunas al dict\n",
      "definiciones\n",
      ">>>>> Agregando definiciones al dict\n",
      "de\n",
      ">>>>> 3\n",
      "estos\n",
      ">>>>> Agregando estos al dict\n",
      "términos)\n",
      ">>>>> Agregando términos) al dict\n",
      "es\n",
      ">>>>> 2\n",
      "el\n",
      ">>>>> 2\n",
      "nivel\n",
      ">>>>> Agregando nivel al dict\n",
      "relativo\n",
      ">>>>> Agregando relativo al dict\n",
      "o\n",
      ">>>>> Agregando o al dict\n",
      "absoluto\n",
      ">>>>> Agregando absoluto al dict\n",
      "de\n",
      ">>>>> 4\n",
      "un\n",
      ">>>>> Agregando un al dict\n",
      "grupo\n",
      ">>>>> Agregando grupo al dict\n",
      "de\n",
      ">>>>> 5\n",
      "organismos\n",
      ">>>>> Agregando organismos al dict\n",
      "(un\n",
      ">>>>> Agregando (un al dict\n",
      "taxón\n",
      ">>>>> Agregando taxón al dict\n",
      ")\n",
      ">>>>> Agregando ) al dict\n",
      "en\n",
      ">>>>> 2\n",
      "una\n",
      ">>>>> Agregando una al dict\n",
      "jerarquía\n",
      ">>>>> Agregando jerarquía al dict\n",
      "que\n",
      ">>>>> Agregando que al dict\n",
      "refleja\n",
      ">>>>> Agregando refleja al dict\n",
      "relaciones\n",
      ">>>>> Agregando relaciones al dict\n",
      "evolutivas.\n",
      ">>>>> Agregando evolutivas. al dict\n",
      "Así,\n",
      ">>>>> Agregando Así, al dict\n",
      "los\n",
      ">>>>> Agregando los al dict\n",
      "clados\n",
      ">>>>> Agregando clados al dict\n",
      "más\n",
      ">>>>> Agregando más al dict\n",
      "inclusivos\n",
      ">>>>> Agregando inclusivos al dict\n",
      "(como\n",
      ">>>>> Agregando (como al dict\n",
      "Eukarya\n",
      ">>>>> Agregando Eukarya al dict\n",
      "y\n",
      ">>>>> Agregando y al dict\n",
      "Opisthokonta\n",
      ">>>>> Agregando Opisthokonta al dict\n",
      ")\n",
      ">>>>> 2\n",
      "tienen\n",
      ">>>>> Agregando tienen al dict\n",
      "los\n",
      ">>>>> 2\n",
      "rangos\n",
      ">>>>> Agregando rangos al dict\n",
      "más\n",
      ">>>>> 2\n",
      "altos,\n",
      ">>>>> Agregando altos, al dict\n",
      "mientras\n",
      ">>>>> Agregando mientras al dict\n",
      "que\n",
      ">>>>> 2\n",
      "los\n",
      ">>>>> 3\n",
      "menos\n",
      ">>>>> Agregando menos al dict\n",
      "inclusivos\n",
      ">>>>> 2\n",
      "(como\n",
      ">>>>> 2\n",
      "Homo\n",
      ">>>>> Agregando Homo al dict\n",
      "sapiens\n",
      ">>>>> Agregando sapiens al dict\n",
      "o\n",
      ">>>>> 2\n",
      "Bufo\n",
      ">>>>> Agregando Bufo al dict\n",
      "bufo\n",
      ">>>>> Agregando bufo al dict\n",
      ")\n",
      ">>>>> 3\n",
      "tienen\n",
      ">>>>> 2\n",
      "los\n",
      ">>>>> 4\n",
      "rangos\n",
      ">>>>> 2\n",
      "más\n",
      ">>>>> 3\n",
      "bajos.\n",
      ">>>>> Agregando bajos. al dict\n",
      "Los\n",
      ">>>>> Agregando Los al dict\n",
      "rangos\n",
      ">>>>> 3\n",
      "pueden\n",
      ">>>>> Agregando pueden al dict\n",
      "ser\n",
      ">>>>> Agregando ser al dict\n",
      "relativos\n",
      ">>>>> Agregando relativos al dict\n",
      "y\n",
      ">>>>> 2\n",
      "denotarse\n",
      ">>>>> Agregando denotarse al dict\n",
      "por\n",
      ">>>>> Agregando por al dict\n",
      "una\n",
      ">>>>> 2\n",
      "taxonomía\n",
      ">>>>> 2\n",
      "sangrada\n",
      ">>>>> Agregando sangrada al dict\n",
      "en\n",
      ">>>>> 3\n",
      "la\n",
      ">>>>> 4\n",
      "que\n",
      ">>>>> 3\n",
      "el\n",
      ">>>>> 3\n",
      "nivel\n",
      ">>>>> 2\n",
      "de\n",
      ">>>>> 6\n",
      "sangría\n",
      ">>>>> Agregando sangría al dict\n",
      "refleja\n",
      ">>>>> 2\n",
      "el\n",
      ">>>>> 4\n",
      "rango,\n",
      ">>>>> Agregando rango, al dict\n",
      "o\n",
      ">>>>> 3\n",
      "absolutos,\n",
      ">>>>> Agregando absolutos, al dict\n",
      "en\n",
      ">>>>> 4\n",
      "los\n",
      ">>>>> 5\n",
      "que\n",
      ">>>>> 4\n",
      "varios\n",
      ">>>>> Agregando varios al dict\n",
      "términos,\n",
      ">>>>> Agregando términos, al dict\n",
      "como\n",
      ">>>>> Agregando como al dict\n",
      "especie\n",
      ">>>>> Agregando especie al dict\n",
      ",\n",
      ">>>>> 2\n",
      "género\n",
      ">>>>> Agregando género al dict\n",
      ",\n",
      ">>>>> 3\n",
      "familia\n",
      ">>>>> Agregando familia al dict\n",
      ",\n",
      ">>>>> 4\n",
      "orden\n",
      ">>>>> Agregando orden al dict\n",
      ",\n",
      ">>>>> 5\n",
      "clase\n",
      ">>>>> Agregando clase al dict\n",
      ",\n",
      ">>>>> 6\n",
      "filo\n",
      ">>>>> Agregando filo al dict\n",
      ",\n",
      ">>>>> 7\n",
      "reino\n",
      ">>>>> Agregando reino al dict\n",
      "y\n",
      ">>>>> 3\n",
      "dominio\n",
      ">>>>> Agregando dominio al dict\n",
      "designan\n",
      ">>>>> Agregando designan al dict\n",
      "el\n",
      ">>>>> 5\n",
      "rango.\n",
      ">>>>> Agregando rango. al dict\n",
      "Esta\n",
      ">>>>> Agregando Esta al dict\n",
      "página\n",
      ">>>>> Agregando página al dict\n",
      "hace\n",
      ">>>>> Agregando hace al dict\n",
      "hincapié\n",
      ">>>>> Agregando hincapié al dict\n",
      "en\n",
      ">>>>> 5\n",
      "los\n",
      ">>>>> 6\n",
      "rangos\n",
      ">>>>> 4\n",
      "absolutos\n",
      ">>>>> Agregando absolutos al dict\n",
      "y\n",
      ">>>>> 4\n",
      "en\n",
      ">>>>> 6\n",
      "los\n",
      ">>>>> 7\n",
      "códigos\n",
      ">>>>> Agregando códigos al dict\n",
      "basados\n",
      ">>>>> Agregando basados al dict\n",
      "​​en\n",
      ">>>>> Agregando ​​en al dict\n",
      "rangos\n",
      ">>>>> 5\n",
      "(el\n",
      ">>>>> Agregando (el al dict\n",
      "Código\n",
      ">>>>> Agregando Código al dict\n",
      "Zoológico\n",
      ">>>>> Agregando Zoológico al dict\n",
      ",\n",
      ">>>>> 8\n",
      "el\n",
      ">>>>> 6\n",
      "Código\n",
      ">>>>> 2\n",
      "Botánico\n",
      ">>>>> Agregando Botánico al dict\n",
      ",\n",
      ">>>>> 9\n",
      "el\n",
      ">>>>> 7\n",
      "Código\n",
      ">>>>> 3\n",
      "de\n",
      ">>>>> 7\n",
      "Plantas\n",
      ">>>>> Agregando Plantas al dict\n",
      "Cultivadas\n",
      ">>>>> Agregando Cultivadas al dict\n",
      ",\n",
      ">>>>> 10\n",
      "el\n",
      ">>>>> 8\n",
      "Código\n",
      ">>>>> 4\n",
      "Procariota\n",
      ">>>>> Agregando Procariota al dict\n",
      "y\n",
      ">>>>> 5\n",
      "el\n",
      ">>>>> 9\n",
      "Código\n",
      ">>>>> 5\n",
      "de\n",
      ">>>>> 8\n",
      "Virus\n",
      ">>>>> Agregando Virus al dict\n",
      ")\n",
      ">>>>> 4\n",
      "que\n",
      ">>>>> 5\n",
      "los\n",
      ">>>>> 8\n",
      "requieren.\n",
      ">>>>> Agregando requieren. al dict\n",
      "Sin\n",
      ">>>>> Agregando Sin al dict\n",
      "embargo,\n",
      ">>>>> Agregando embargo, al dict\n",
      "no\n",
      ">>>>> Agregando no al dict\n",
      "todos\n",
      ">>>>> Agregando todos al dict\n",
      "los\n",
      ">>>>> 9\n",
      "sistemas\n",
      ">>>>> Agregando sistemas al dict\n",
      "de\n",
      ">>>>> 9\n",
      "nomenclatura\n",
      ">>>>> 2\n",
      "para\n",
      ">>>>> Agregando para al dict\n",
      "taxónomos\n",
      ">>>>> Agregando taxónomos al dict\n",
      "exigen\n",
      ">>>>> Agregando exigen al dict\n",
      "rangos\n",
      ">>>>> 6\n",
      "absolutos\n",
      ">>>>> 2\n",
      ";\n",
      ">>>>> Agregando ; al dict\n",
      "por\n",
      ">>>>> 2\n",
      "ejemplo,\n",
      ">>>>> Agregando ejemplo, al dict\n",
      "el\n",
      ">>>>> 10\n",
      "PhyloCode\n",
      ">>>>> Agregando PhyloCode al dict\n",
      "[\n",
      ">>>>> 2\n",
      "2\n",
      ">>>>> Agregando 2 al dict\n",
      "],\n",
      ">>>>> Agregando ], al dict\n",
      "el\n",
      ">>>>> 11\n",
      "código\n",
      ">>>>> Agregando código al dict\n",
      "de\n",
      ">>>>> 10\n",
      "nomenclatura\n",
      ">>>>> 3\n",
      "filogenética\n",
      ">>>>> Agregando filogenética al dict\n",
      ",\n",
      ">>>>> 11\n",
      "no\n",
      ">>>>> 2\n",
      "los\n",
      ">>>>> 10\n",
      "requiere.\n",
      ">>>>> Agregando requiere. al dict\n"
     ]
    }
   ],
   "source": [
    "counter = {}\n",
    "for word in text_list:\n",
    "    print(word)\n",
    "    if word not in counter:\n",
    "        print(f\">>>>> Agregando {word} al dict\")\n",
    "        counter[word] = 1\n",
    "    else:\n",
    "        counter[word] = counter[word] + 1\n",
    "        print(f\">>>>> {counter[word]}\")"
   ]
  },
  {
   "cell_type": "code",
   "execution_count": 79,
   "metadata": {},
   "outputs": [
    {
     "name": "stdout",
     "output_type": "stream",
     "text": [
      "max_value: En - value: biología\n",
      "max_value: , - value: el\n"
     ]
    }
   ],
   "source": [
    "max_key = \"\"\n",
    "max_value = 0\n",
    "for key, value in counter.items():\n",
    "    if value >= max_value:\n",
    "        if value == max_value:\n",
    "            print(f\"max_value: {max_key} - value: {key}\")\n",
    "        max_value = value\n",
    "        max_key = key"
   ]
  },
  {
   "cell_type": "code",
   "execution_count": 76,
   "metadata": {},
   "outputs": [
    {
     "data": {
      "text/plain": [
       "11"
      ]
     },
     "execution_count": 76,
     "metadata": {},
     "output_type": "execute_result"
    }
   ],
   "source": [
    "max_value"
   ]
  },
  {
   "cell_type": "code",
   "execution_count": 77,
   "metadata": {},
   "outputs": [
    {
     "data": {
      "text/plain": [
       "'el'"
      ]
     },
     "execution_count": 77,
     "metadata": {},
     "output_type": "execute_result"
    }
   ],
   "source": [
    "max_key"
   ]
  },
  {
   "cell_type": "code",
   "execution_count": null,
   "metadata": {},
   "outputs": [
    {
     "data": {
      "text/plain": [
       "{'UY': {'name': 'Uruguay', 'capital': 'Montevideo', 'population': 3500000},\n",
       " 'CL': {'name': 'Chile', 'capital': 'Santiago', 'population': 19000000},\n",
       " 'PY': {}}"
      ]
     },
     "execution_count": 1,
     "metadata": {},
     "output_type": "execute_result"
    }
   ],
   "source": [
    "# Diccionarios anidados\n",
    "\n",
    "countries = {\n",
    "    \"UY\": {\n",
    "        \"name\": \"Uruguay\",\n",
    "        \"capital\": \"Montevideo\",\n",
    "        \"population\": 3500000,\n",
    "    },\n",
    "    \"CL\": {\n",
    "        \"name\": \"Chile\",\n",
    "        \"capital\": \"Santiago\",\n",
    "        \"population\": 19000000,\n",
    "    },\n",
    "}\n",
    "countries"
   ]
  },
  {
   "cell_type": "code",
   "execution_count": null,
   "metadata": {},
   "outputs": [
    {
     "name": "stdout",
     "output_type": "stream",
     "text": [
      "Uruguay\n",
      "Montevideo\n",
      "3500000\n"
     ]
    }
   ],
   "source": [
    "print(countries[\"UY\"][\"name\"])\n",
    "print(countries[\"UY\"][\"capital\"])\n",
    "print(countries[\"UY\"][\"population\"])"
   ]
  },
  {
   "cell_type": "code",
   "execution_count": null,
   "metadata": {},
   "outputs": [
    {
     "name": "stdout",
     "output_type": "stream",
     "text": [
      "3600000\n"
     ]
    }
   ],
   "source": [
    "# actualización del valor de la población de Uruguay\n",
    "countries[\"UY\"][\"population\"] += 100_000\n",
    "print(countries[\"UY\"][\"population\"])"
   ]
  },
  {
   "cell_type": "code",
   "execution_count": null,
   "metadata": {},
   "outputs": [],
   "source": []
  },
  {
   "cell_type": "code",
   "execution_count": null,
   "metadata": {},
   "outputs": [],
   "source": []
  },
  {
   "cell_type": "code",
   "execution_count": 4,
   "metadata": {},
   "outputs": [],
   "source": [
    "continents = [\n",
    "    {\n",
    "        \"name\": \"America\",\n",
    "        \"countries\": {\n",
    "            \"UY\": {\n",
    "                \"name\": \"Uruguay\",\n",
    "                \"capital\": \"Montevideo\",\n",
    "                \"population\": 3500000,\n",
    "            },\n",
    "            \"CL\": {\n",
    "                \"name\": \"Chile\",\n",
    "                \"capital\": \"Santiago\",\n",
    "                \"population\": 19000000,\n",
    "            },\n",
    "        },\n",
    "    },\n",
    "    {\n",
    "        \"name\": \"Europa\",\n",
    "        \"countries\": {\n",
    "            \"ES\": {\n",
    "                \"name\": \"España\",\n",
    "                \"capital\": \"Madrid\",\n",
    "                \"population\": 47000000,\n",
    "            },\n",
    "            \"FR\": {\n",
    "                \"name\": \"Francia\",\n",
    "                \"capital\": \"Paris\",\n",
    "                \"population\": 65000000,\n",
    "            },\n",
    "        },\n",
    "    }\n",
    "]"
   ]
  },
  {
   "cell_type": "code",
   "execution_count": null,
   "metadata": {},
   "outputs": [
    {
     "name": "stdout",
     "output_type": "stream",
     "text": [
      "{'name': 'America', 'countries': {'UY': {'name': 'Uruguay', 'capital': 'Montevideo', 'population': 3500000}, 'CL': {'name': 'Chile', 'capital': 'Santiago', 'population': 19000000}}}\n",
      "{'name': 'Europa', 'countries': {'ES': {'name': 'España', 'capital': 'Madrid', 'population': 47000000}, 'FR': {'name': 'Francia', 'capital': 'Paris', 'population': 65000000}}}\n"
     ]
    }
   ],
   "source": [
    "for continent in continents:\n",
    "    print(continent)\n",
    "    continent[\"countries\"][\"UY\"][\"population\"]\n",
    "\n",
    "    \n",
    "\n"
   ]
  },
  {
   "cell_type": "code",
   "execution_count": 9,
   "metadata": {},
   "outputs": [
    {
     "data": {
      "text/plain": [
       "{'name': 'Uruguay', 'capital': 'Montevideo', 'population': 3500000}"
      ]
     },
     "execution_count": 9,
     "metadata": {},
     "output_type": "execute_result"
    }
   ],
   "source": [
    "continents[0][\"name\"]\n",
    "continents[0][\"countries\"]\n",
    "continents[0][\"countries\"][\"UY\"]"
   ]
  }
 ],
 "metadata": {
  "kernelspec": {
   "display_name": "Python 3",
   "language": "python",
   "name": "python3"
  },
  "language_info": {
   "codemirror_mode": {
    "name": "ipython",
    "version": 3
   },
   "file_extension": ".py",
   "mimetype": "text/x-python",
   "name": "python",
   "nbconvert_exporter": "python",
   "pygments_lexer": "ipython3",
   "version": "3.10.15"
  }
 },
 "nbformat": 4,
 "nbformat_minor": 2
}
