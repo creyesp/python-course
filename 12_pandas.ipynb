{
 "cells": [
  {
   "cell_type": "code",
   "execution_count": 42,
   "id": "20415f0d",
   "metadata": {},
   "outputs": [],
   "source": [
    "import pandas as pd\n",
    "import numpy as np"
   ]
  },
  {
   "cell_type": "code",
   "execution_count": 7,
   "id": "c87ed526",
   "metadata": {},
   "outputs": [
    {
     "data": {
      "application/vnd.microsoft.datawrangler.viewer.v0+json": {
       "columns": [
        {
         "name": "index",
         "rawType": "object",
         "type": "string"
        },
        {
         "name": "col1",
         "rawType": "int64",
         "type": "integer"
        },
        {
         "name": "col2",
         "rawType": "int64",
         "type": "integer"
        }
       ],
       "conversionMethod": "pd.DataFrame",
       "ref": "1994302f-0d6e-45d9-badd-30e973c61b76",
       "rows": [
        [
         "index1",
         "1",
         "3"
        ],
        [
         "index2",
         "2",
         "4"
        ]
       ],
       "shape": {
        "columns": 2,
        "rows": 2
       }
      },
      "text/html": [
       "<div>\n",
       "<style scoped>\n",
       "    .dataframe tbody tr th:only-of-type {\n",
       "        vertical-align: middle;\n",
       "    }\n",
       "\n",
       "    .dataframe tbody tr th {\n",
       "        vertical-align: top;\n",
       "    }\n",
       "\n",
       "    .dataframe thead th {\n",
       "        text-align: right;\n",
       "    }\n",
       "</style>\n",
       "<table border=\"1\" class=\"dataframe\">\n",
       "  <thead>\n",
       "    <tr style=\"text-align: right;\">\n",
       "      <th></th>\n",
       "      <th>col1</th>\n",
       "      <th>col2</th>\n",
       "    </tr>\n",
       "  </thead>\n",
       "  <tbody>\n",
       "    <tr>\n",
       "      <th>index1</th>\n",
       "      <td>1</td>\n",
       "      <td>3</td>\n",
       "    </tr>\n",
       "    <tr>\n",
       "      <th>index2</th>\n",
       "      <td>2</td>\n",
       "      <td>4</td>\n",
       "    </tr>\n",
       "  </tbody>\n",
       "</table>\n",
       "</div>"
      ],
      "text/plain": [
       "        col1  col2\n",
       "index1     1     3\n",
       "index2     2     4"
      ]
     },
     "execution_count": 7,
     "metadata": {},
     "output_type": "execute_result"
    }
   ],
   "source": [
    "pd.DataFrame(\n",
    "    {\n",
    "        \"col1\": {\"index1\": 1, \"index2\": 2},\n",
    "        \"col2\": {\"index1\": 3, \"index2\": 4},\n",
    "    },\n",
    ")"
   ]
  },
  {
   "cell_type": "code",
   "execution_count": 14,
   "id": "3ae3a56c",
   "metadata": {},
   "outputs": [
    {
     "data": {
      "text/plain": [
       "(2, 2)"
      ]
     },
     "execution_count": 14,
     "metadata": {},
     "output_type": "execute_result"
    }
   ],
   "source": [
    "pd.DataFrame(\n",
    "  [\n",
    "      pd.Series({\"col1\": 1, \"col2\": 3}, name=\"index1\"),\n",
    "      pd.Series({\"col1\": 2, \"col2\": 4}, name=\"index2\"),\n",
    "  ]\n",
    ")"
   ]
  },
  {
   "cell_type": "code",
   "execution_count": null,
   "id": "1d0d17a0",
   "metadata": {},
   "outputs": [],
   "source": []
  },
  {
   "cell_type": "code",
   "execution_count": 10,
   "id": "67468685",
   "metadata": {},
   "outputs": [
    {
     "data": {
      "application/vnd.microsoft.datawrangler.viewer.v0+json": {
       "columns": [
        {
         "name": "index",
         "rawType": "object",
         "type": "string"
        },
        {
         "name": "col1",
         "rawType": "int64",
         "type": "integer"
        },
        {
         "name": "col2",
         "rawType": "int64",
         "type": "integer"
        }
       ],
       "conversionMethod": "pd.DataFrame",
       "ref": "0b75c3da-0780-4b16-b4b2-0b3238ab993a",
       "rows": [
        [
         "index1",
         "1",
         "2"
        ],
        [
         "index2",
         "3",
         "4"
        ]
       ],
       "shape": {
        "columns": 2,
        "rows": 2
       }
      },
      "text/html": [
       "<div>\n",
       "<style scoped>\n",
       "    .dataframe tbody tr th:only-of-type {\n",
       "        vertical-align: middle;\n",
       "    }\n",
       "\n",
       "    .dataframe tbody tr th {\n",
       "        vertical-align: top;\n",
       "    }\n",
       "\n",
       "    .dataframe thead th {\n",
       "        text-align: right;\n",
       "    }\n",
       "</style>\n",
       "<table border=\"1\" class=\"dataframe\">\n",
       "  <thead>\n",
       "    <tr style=\"text-align: right;\">\n",
       "      <th></th>\n",
       "      <th>col1</th>\n",
       "      <th>col2</th>\n",
       "    </tr>\n",
       "  </thead>\n",
       "  <tbody>\n",
       "    <tr>\n",
       "      <th>index1</th>\n",
       "      <td>1</td>\n",
       "      <td>2</td>\n",
       "    </tr>\n",
       "    <tr>\n",
       "      <th>index2</th>\n",
       "      <td>3</td>\n",
       "      <td>4</td>\n",
       "    </tr>\n",
       "  </tbody>\n",
       "</table>\n",
       "</div>"
      ],
      "text/plain": [
       "        col1  col2\n",
       "index1     1     2\n",
       "index2     3     4"
      ]
     },
     "execution_count": 10,
     "metadata": {},
     "output_type": "execute_result"
    }
   ],
   "source": [
    "pd.DataFrame(\n",
    "    [\n",
    "        {\"col1\": 1, \"col2\": 2},\n",
    "        {\"col1\": 3, \"col2\": 4},\n",
    "    ],\n",
    "    index=[\"index1\", \"index2\"]\n",
    ")"
   ]
  },
  {
   "cell_type": "code",
   "execution_count": 11,
   "id": "f42a2f5b",
   "metadata": {},
   "outputs": [
    {
     "data": {
      "application/vnd.microsoft.datawrangler.viewer.v0+json": {
       "columns": [
        {
         "name": "index",
         "rawType": "object",
         "type": "string"
        },
        {
         "name": "col1",
         "rawType": "int64",
         "type": "integer"
        },
        {
         "name": "col2",
         "rawType": "int64",
         "type": "integer"
        }
       ],
       "conversionMethod": "pd.DataFrame",
       "ref": "421da2ab-b928-4dd3-a625-c0b03bf60981",
       "rows": [
        [
         "index1",
         "1",
         "2"
        ],
        [
         "index2",
         "3",
         "4"
        ]
       ],
       "shape": {
        "columns": 2,
        "rows": 2
       }
      },
      "text/html": [
       "<div>\n",
       "<style scoped>\n",
       "    .dataframe tbody tr th:only-of-type {\n",
       "        vertical-align: middle;\n",
       "    }\n",
       "\n",
       "    .dataframe tbody tr th {\n",
       "        vertical-align: top;\n",
       "    }\n",
       "\n",
       "    .dataframe thead th {\n",
       "        text-align: right;\n",
       "    }\n",
       "</style>\n",
       "<table border=\"1\" class=\"dataframe\">\n",
       "  <thead>\n",
       "    <tr style=\"text-align: right;\">\n",
       "      <th></th>\n",
       "      <th>col1</th>\n",
       "      <th>col2</th>\n",
       "    </tr>\n",
       "  </thead>\n",
       "  <tbody>\n",
       "    <tr>\n",
       "      <th>index1</th>\n",
       "      <td>1</td>\n",
       "      <td>2</td>\n",
       "    </tr>\n",
       "    <tr>\n",
       "      <th>index2</th>\n",
       "      <td>3</td>\n",
       "      <td>4</td>\n",
       "    </tr>\n",
       "  </tbody>\n",
       "</table>\n",
       "</div>"
      ],
      "text/plain": [
       "        col1  col2\n",
       "index1     1     2\n",
       "index2     3     4"
      ]
     },
     "execution_count": 11,
     "metadata": {},
     "output_type": "execute_result"
    }
   ],
   "source": [
    "pd.DataFrame(\n",
    "    [\n",
    "        [1, 2],\n",
    "        [3, 4],\n",
    "    ],\n",
    "    index=[\"index1\", \"index2\"],\n",
    "    columns=[\"col1\", \"col2\"],\n",
    ")"
   ]
  },
  {
   "cell_type": "code",
   "execution_count": 27,
   "id": "25b0a373",
   "metadata": {},
   "outputs": [
    {
     "data": {
      "application/vnd.microsoft.datawrangler.viewer.v0+json": {
       "columns": [
        {
         "name": "index",
         "rawType": "object",
         "type": "string"
        },
        {
         "name": "calories",
         "rawType": "int64",
         "type": "integer"
        },
        {
         "name": "fat",
         "rawType": "float64",
         "type": "float"
        },
        {
         "name": "sugar",
         "rawType": "float64",
         "type": "float"
        },
        {
         "name": "carbohydrates",
         "rawType": "float64",
         "type": "float"
        },
        {
         "name": "protein",
         "rawType": "float64",
         "type": "float"
        }
       ],
       "conversionMethod": "pd.DataFrame",
       "ref": "92e2a525-94d7-4235-ae02-31aa30a8962f",
       "rows": [
        [
         "fruit1",
         "92",
         "0.29",
         "3.4",
         "19.1",
         "1.5"
        ],
        [
         "fruit2",
         "47",
         "0.3",
         "8.1",
         "9.6",
         "1.2"
        ],
        [
         "fruit3",
         "50",
         "0.2",
         "10.4",
         "13.8",
         "0.5"
        ]
       ],
       "shape": {
        "columns": 5,
        "rows": 3
       }
      },
      "text/html": [
       "<div>\n",
       "<style scoped>\n",
       "    .dataframe tbody tr th:only-of-type {\n",
       "        vertical-align: middle;\n",
       "    }\n",
       "\n",
       "    .dataframe tbody tr th {\n",
       "        vertical-align: top;\n",
       "    }\n",
       "\n",
       "    .dataframe thead th {\n",
       "        text-align: right;\n",
       "    }\n",
       "</style>\n",
       "<table border=\"1\" class=\"dataframe\">\n",
       "  <thead>\n",
       "    <tr style=\"text-align: right;\">\n",
       "      <th></th>\n",
       "      <th>calories</th>\n",
       "      <th>fat</th>\n",
       "      <th>sugar</th>\n",
       "      <th>carbohydrates</th>\n",
       "      <th>protein</th>\n",
       "    </tr>\n",
       "  </thead>\n",
       "  <tbody>\n",
       "    <tr>\n",
       "      <th>fruit1</th>\n",
       "      <td>92</td>\n",
       "      <td>0.29</td>\n",
       "      <td>3.4</td>\n",
       "      <td>19.1</td>\n",
       "      <td>1.5</td>\n",
       "    </tr>\n",
       "    <tr>\n",
       "      <th>fruit2</th>\n",
       "      <td>47</td>\n",
       "      <td>0.30</td>\n",
       "      <td>8.1</td>\n",
       "      <td>9.6</td>\n",
       "      <td>1.2</td>\n",
       "    </tr>\n",
       "    <tr>\n",
       "      <th>fruit3</th>\n",
       "      <td>50</td>\n",
       "      <td>0.20</td>\n",
       "      <td>10.4</td>\n",
       "      <td>13.8</td>\n",
       "      <td>0.5</td>\n",
       "    </tr>\n",
       "  </tbody>\n",
       "</table>\n",
       "</div>"
      ],
      "text/plain": [
       "        calories   fat  sugar  carbohydrates  protein\n",
       "fruit1        92  0.29    3.4           19.1      1.5\n",
       "fruit2        47  0.30    8.1            9.6      1.2\n",
       "fruit3        50  0.20   10.4           13.8      0.5"
      ]
     },
     "execution_count": 27,
     "metadata": {},
     "output_type": "execute_result"
    }
   ],
   "source": [
    "fruit1 = {\n",
    "    \"calories\": 92,\n",
    "    \"fat\": 0.29,\n",
    "    \"sugar\": 3.4,\n",
    "    \"carbohydrates\": 19.1,\n",
    "    \"protein\": 1.5,\n",
    "}\n",
    "fruit2 = {\n",
    "    \"calories\": 47,\n",
    "    \"fat\": 0.3,\n",
    "    \"sugar\": 8.1,\n",
    "    \"carbohydrates\": 9.6,\n",
    "    \"protein\": 1.2,\n",
    "}\n",
    "fruit3 = {\n",
    "    \"calories\": 50,\n",
    "    \"fat\": 0.2,\n",
    "    \"sugar\": 10.4,\n",
    "    \"carbohydrates\": 13.8,\n",
    "    \"protein\": 0.5,\n",
    "}\n",
    "fruits = pd.DataFrame(\n",
    "    [\n",
    "        fruit1,\n",
    "        fruit2,\n",
    "        fruit3,\n",
    "    ],\n",
    "    index=[\"fruit1\", \"fruit2\", \"fruit3\"],\n",
    ")\n",
    "fruits"
   ]
  },
  {
   "cell_type": "code",
   "execution_count": null,
   "id": "e2853fdb",
   "metadata": {},
   "outputs": [],
   "source": []
  },
  {
   "cell_type": "code",
   "execution_count": 28,
   "id": "0de35a37",
   "metadata": {},
   "outputs": [
    {
     "data": {
      "text/plain": [
       "fruit1    92\n",
       "fruit2    47\n",
       "fruit3    50\n",
       "Name: calories, dtype: int64"
      ]
     },
     "execution_count": 28,
     "metadata": {},
     "output_type": "execute_result"
    }
   ],
   "source": [
    "fruits[\"calories\"]"
   ]
  },
  {
   "cell_type": "code",
   "execution_count": 29,
   "id": "9e474dc3",
   "metadata": {},
   "outputs": [],
   "source": [
    "fruits.loc[\"fruit1\",\"calories\":\"fat\"] = 100\n"
   ]
  },
  {
   "cell_type": "code",
   "execution_count": 30,
   "id": "286fcd6d",
   "metadata": {},
   "outputs": [
    {
     "data": {
      "application/vnd.microsoft.datawrangler.viewer.v0+json": {
       "columns": [
        {
         "name": "index",
         "rawType": "object",
         "type": "string"
        },
        {
         "name": "calories",
         "rawType": "int64",
         "type": "integer"
        },
        {
         "name": "fat",
         "rawType": "float64",
         "type": "float"
        },
        {
         "name": "sugar",
         "rawType": "float64",
         "type": "float"
        },
        {
         "name": "carbohydrates",
         "rawType": "float64",
         "type": "float"
        },
        {
         "name": "protein",
         "rawType": "float64",
         "type": "float"
        }
       ],
       "conversionMethod": "pd.DataFrame",
       "ref": "3463a4ae-5c0b-436a-b0ff-4723592c8155",
       "rows": [
        [
         "fruit1",
         "100",
         "100.0",
         "3.4",
         "19.1",
         "1.5"
        ],
        [
         "fruit2",
         "47",
         "0.3",
         "8.1",
         "9.6",
         "1.2"
        ],
        [
         "fruit3",
         "50",
         "0.2",
         "10.4",
         "13.8",
         "0.5"
        ]
       ],
       "shape": {
        "columns": 5,
        "rows": 3
       }
      },
      "text/html": [
       "<div>\n",
       "<style scoped>\n",
       "    .dataframe tbody tr th:only-of-type {\n",
       "        vertical-align: middle;\n",
       "    }\n",
       "\n",
       "    .dataframe tbody tr th {\n",
       "        vertical-align: top;\n",
       "    }\n",
       "\n",
       "    .dataframe thead th {\n",
       "        text-align: right;\n",
       "    }\n",
       "</style>\n",
       "<table border=\"1\" class=\"dataframe\">\n",
       "  <thead>\n",
       "    <tr style=\"text-align: right;\">\n",
       "      <th></th>\n",
       "      <th>calories</th>\n",
       "      <th>fat</th>\n",
       "      <th>sugar</th>\n",
       "      <th>carbohydrates</th>\n",
       "      <th>protein</th>\n",
       "    </tr>\n",
       "  </thead>\n",
       "  <tbody>\n",
       "    <tr>\n",
       "      <th>fruit1</th>\n",
       "      <td>100</td>\n",
       "      <td>100.0</td>\n",
       "      <td>3.4</td>\n",
       "      <td>19.1</td>\n",
       "      <td>1.5</td>\n",
       "    </tr>\n",
       "    <tr>\n",
       "      <th>fruit2</th>\n",
       "      <td>47</td>\n",
       "      <td>0.3</td>\n",
       "      <td>8.1</td>\n",
       "      <td>9.6</td>\n",
       "      <td>1.2</td>\n",
       "    </tr>\n",
       "    <tr>\n",
       "      <th>fruit3</th>\n",
       "      <td>50</td>\n",
       "      <td>0.2</td>\n",
       "      <td>10.4</td>\n",
       "      <td>13.8</td>\n",
       "      <td>0.5</td>\n",
       "    </tr>\n",
       "  </tbody>\n",
       "</table>\n",
       "</div>"
      ],
      "text/plain": [
       "        calories    fat  sugar  carbohydrates  protein\n",
       "fruit1       100  100.0    3.4           19.1      1.5\n",
       "fruit2        47    0.3    8.1            9.6      1.2\n",
       "fruit3        50    0.2   10.4           13.8      0.5"
      ]
     },
     "execution_count": 30,
     "metadata": {},
     "output_type": "execute_result"
    }
   ],
   "source": [
    "fruits"
   ]
  },
  {
   "cell_type": "code",
   "execution_count": 31,
   "id": "9bff0d12",
   "metadata": {},
   "outputs": [
    {
     "data": {
      "application/vnd.microsoft.datawrangler.viewer.v0+json": {
       "columns": [
        {
         "name": "index",
         "rawType": "object",
         "type": "string"
        },
        {
         "name": "calories",
         "rawType": "int64",
         "type": "integer"
        },
        {
         "name": "fat",
         "rawType": "float64",
         "type": "float"
        },
        {
         "name": "sugar",
         "rawType": "float64",
         "type": "float"
        },
        {
         "name": "carbohydrates",
         "rawType": "float64",
         "type": "float"
        },
        {
         "name": "protein",
         "rawType": "float64",
         "type": "float"
        }
       ],
       "conversionMethod": "pd.DataFrame",
       "ref": "20e307f3-7202-418b-8d4b-9efdd11c92f5",
       "rows": [
        [
         "fruit1",
         "100",
         "100.0",
         "3.4",
         "19.1",
         "1.5"
        ],
        [
         "fruit2",
         "47",
         "0.3",
         "8.1",
         "9.6",
         "1.2"
        ]
       ],
       "shape": {
        "columns": 5,
        "rows": 2
       }
      },
      "text/html": [
       "<div>\n",
       "<style scoped>\n",
       "    .dataframe tbody tr th:only-of-type {\n",
       "        vertical-align: middle;\n",
       "    }\n",
       "\n",
       "    .dataframe tbody tr th {\n",
       "        vertical-align: top;\n",
       "    }\n",
       "\n",
       "    .dataframe thead th {\n",
       "        text-align: right;\n",
       "    }\n",
       "</style>\n",
       "<table border=\"1\" class=\"dataframe\">\n",
       "  <thead>\n",
       "    <tr style=\"text-align: right;\">\n",
       "      <th></th>\n",
       "      <th>calories</th>\n",
       "      <th>fat</th>\n",
       "      <th>sugar</th>\n",
       "      <th>carbohydrates</th>\n",
       "      <th>protein</th>\n",
       "    </tr>\n",
       "  </thead>\n",
       "  <tbody>\n",
       "    <tr>\n",
       "      <th>fruit1</th>\n",
       "      <td>100</td>\n",
       "      <td>100.0</td>\n",
       "      <td>3.4</td>\n",
       "      <td>19.1</td>\n",
       "      <td>1.5</td>\n",
       "    </tr>\n",
       "    <tr>\n",
       "      <th>fruit2</th>\n",
       "      <td>47</td>\n",
       "      <td>0.3</td>\n",
       "      <td>8.1</td>\n",
       "      <td>9.6</td>\n",
       "      <td>1.2</td>\n",
       "    </tr>\n",
       "  </tbody>\n",
       "</table>\n",
       "</div>"
      ],
      "text/plain": [
       "        calories    fat  sugar  carbohydrates  protein\n",
       "fruit1       100  100.0    3.4           19.1      1.5\n",
       "fruit2        47    0.3    8.1            9.6      1.2"
      ]
     },
     "execution_count": 31,
     "metadata": {},
     "output_type": "execute_result"
    }
   ],
   "source": [
    "fruits[:2]"
   ]
  },
  {
   "cell_type": "code",
   "execution_count": 34,
   "id": "2d5bec23",
   "metadata": {},
   "outputs": [
    {
     "data": {
      "application/vnd.microsoft.datawrangler.viewer.v0+json": {
       "columns": [
        {
         "name": "index",
         "rawType": "object",
         "type": "string"
        },
        {
         "name": "calories",
         "rawType": "int64",
         "type": "integer"
        },
        {
         "name": "fat",
         "rawType": "int64",
         "type": "integer"
        },
        {
         "name": "sugar",
         "rawType": "int64",
         "type": "integer"
        },
        {
         "name": "carbohydrates",
         "rawType": "int64",
         "type": "integer"
        },
        {
         "name": "protein",
         "rawType": "float64",
         "type": "float"
        }
       ],
       "conversionMethod": "pd.DataFrame",
       "ref": "d432765c-2b16-49f5-8486-faddac1ab511",
       "rows": [
        [
         "fruit1",
         "1",
         "1",
         "1",
         "1",
         "1.0"
        ],
        [
         "fruit2",
         "1",
         "1",
         "1",
         "1",
         "1.0"
        ],
        [
         "fruit4",
         "1",
         "1",
         "1",
         "1",
         "0.5"
        ]
       ],
       "shape": {
        "columns": 5,
        "rows": 3
       }
      },
      "text/html": [
       "<div>\n",
       "<style scoped>\n",
       "    .dataframe tbody tr th:only-of-type {\n",
       "        vertical-align: middle;\n",
       "    }\n",
       "\n",
       "    .dataframe tbody tr th {\n",
       "        vertical-align: top;\n",
       "    }\n",
       "\n",
       "    .dataframe thead th {\n",
       "        text-align: right;\n",
       "    }\n",
       "</style>\n",
       "<table border=\"1\" class=\"dataframe\">\n",
       "  <thead>\n",
       "    <tr style=\"text-align: right;\">\n",
       "      <th></th>\n",
       "      <th>calories</th>\n",
       "      <th>fat</th>\n",
       "      <th>sugar</th>\n",
       "      <th>carbohydrates</th>\n",
       "      <th>protein</th>\n",
       "    </tr>\n",
       "  </thead>\n",
       "  <tbody>\n",
       "    <tr>\n",
       "      <th>fruit1</th>\n",
       "      <td>1</td>\n",
       "      <td>1</td>\n",
       "      <td>1</td>\n",
       "      <td>1</td>\n",
       "      <td>1.0</td>\n",
       "    </tr>\n",
       "    <tr>\n",
       "      <th>fruit2</th>\n",
       "      <td>1</td>\n",
       "      <td>1</td>\n",
       "      <td>1</td>\n",
       "      <td>1</td>\n",
       "      <td>1.0</td>\n",
       "    </tr>\n",
       "    <tr>\n",
       "      <th>fruit4</th>\n",
       "      <td>1</td>\n",
       "      <td>1</td>\n",
       "      <td>1</td>\n",
       "      <td>1</td>\n",
       "      <td>0.5</td>\n",
       "    </tr>\n",
       "  </tbody>\n",
       "</table>\n",
       "</div>"
      ],
      "text/plain": [
       "        calories  fat  sugar  carbohydrates  protein\n",
       "fruit1         1    1      1              1      1.0\n",
       "fruit2         1    1      1              1      1.0\n",
       "fruit4         1    1      1              1      0.5"
      ]
     },
     "execution_count": 34,
     "metadata": {},
     "output_type": "execute_result"
    }
   ],
   "source": [
    "factor1 = {\n",
    "    \"calories\": 1,\n",
    "    \"fat\": 1,\n",
    "    \"sugar\": 1,\n",
    "    \"carbohydrates\": 1,\n",
    "    \"protein\": 1,\n",
    "}\n",
    "factor2 = {\n",
    "    \"calories\": 1,\n",
    "    \"fat\": 1,\n",
    "    \"sugar\": 1,\n",
    "    \"carbohydrates\": 1,\n",
    "    \"protein\": 1,\n",
    "}\n",
    "factor4 = {\n",
    "    \"calories\": 1,\n",
    "    \"fat\": 1,\n",
    "    \"sugar\": 1,\n",
    "    \"carbohydrates\": 1,\n",
    "    \"protein\": 0.5,\n",
    "}\n",
    "factors = pd.DataFrame(\n",
    "    [\n",
    "        factor1,\n",
    "        factor2,\n",
    "        factor4,\n",
    "    ],\n",
    "    index=[\"fruit1\", \"fruit2\", \"fruit4\"],\n",
    ")\n",
    "factors"
   ]
  },
  {
   "cell_type": "code",
   "execution_count": 38,
   "id": "28b7dc94",
   "metadata": {},
   "outputs": [
    {
     "data": {
      "application/vnd.microsoft.datawrangler.viewer.v0+json": {
       "columns": [
        {
         "name": "index",
         "rawType": "object",
         "type": "string"
        },
        {
         "name": "calories",
         "rawType": "float64",
         "type": "float"
        },
        {
         "name": "fat",
         "rawType": "float64",
         "type": "float"
        },
        {
         "name": "sugar",
         "rawType": "float64",
         "type": "float"
        },
        {
         "name": "carbohydrates",
         "rawType": "float64",
         "type": "float"
        },
        {
         "name": "protein",
         "rawType": "float64",
         "type": "float"
        }
       ],
       "conversionMethod": "pd.DataFrame",
       "ref": "3c7a3f37-9454-4218-91d0-1364b3903a72",
       "rows": [
        [
         "fruit1",
         "100.0",
         "100.0",
         "3.4",
         "19.1",
         "1.5"
        ],
        [
         "fruit2",
         "47.0",
         "0.3",
         "8.1",
         "9.6",
         "1.2"
        ],
        [
         "fruit3",
         null,
         null,
         null,
         null,
         null
        ],
        [
         "fruit4",
         null,
         null,
         null,
         null,
         null
        ]
       ],
       "shape": {
        "columns": 5,
        "rows": 4
       }
      },
      "text/html": [
       "<div>\n",
       "<style scoped>\n",
       "    .dataframe tbody tr th:only-of-type {\n",
       "        vertical-align: middle;\n",
       "    }\n",
       "\n",
       "    .dataframe tbody tr th {\n",
       "        vertical-align: top;\n",
       "    }\n",
       "\n",
       "    .dataframe thead th {\n",
       "        text-align: right;\n",
       "    }\n",
       "</style>\n",
       "<table border=\"1\" class=\"dataframe\">\n",
       "  <thead>\n",
       "    <tr style=\"text-align: right;\">\n",
       "      <th></th>\n",
       "      <th>calories</th>\n",
       "      <th>fat</th>\n",
       "      <th>sugar</th>\n",
       "      <th>carbohydrates</th>\n",
       "      <th>protein</th>\n",
       "    </tr>\n",
       "  </thead>\n",
       "  <tbody>\n",
       "    <tr>\n",
       "      <th>fruit1</th>\n",
       "      <td>100.0</td>\n",
       "      <td>100.0</td>\n",
       "      <td>3.4</td>\n",
       "      <td>19.1</td>\n",
       "      <td>1.5</td>\n",
       "    </tr>\n",
       "    <tr>\n",
       "      <th>fruit2</th>\n",
       "      <td>47.0</td>\n",
       "      <td>0.3</td>\n",
       "      <td>8.1</td>\n",
       "      <td>9.6</td>\n",
       "      <td>1.2</td>\n",
       "    </tr>\n",
       "    <tr>\n",
       "      <th>fruit3</th>\n",
       "      <td>NaN</td>\n",
       "      <td>NaN</td>\n",
       "      <td>NaN</td>\n",
       "      <td>NaN</td>\n",
       "      <td>NaN</td>\n",
       "    </tr>\n",
       "    <tr>\n",
       "      <th>fruit4</th>\n",
       "      <td>NaN</td>\n",
       "      <td>NaN</td>\n",
       "      <td>NaN</td>\n",
       "      <td>NaN</td>\n",
       "      <td>NaN</td>\n",
       "    </tr>\n",
       "  </tbody>\n",
       "</table>\n",
       "</div>"
      ],
      "text/plain": [
       "        calories    fat  sugar  carbohydrates  protein\n",
       "fruit1     100.0  100.0    3.4           19.1      1.5\n",
       "fruit2      47.0    0.3    8.1            9.6      1.2\n",
       "fruit3       NaN    NaN    NaN            NaN      NaN\n",
       "fruit4       NaN    NaN    NaN            NaN      NaN"
      ]
     },
     "execution_count": 38,
     "metadata": {},
     "output_type": "execute_result"
    }
   ],
   "source": [
    "fruits * factors"
   ]
  },
  {
   "cell_type": "code",
   "execution_count": null,
   "id": "00778aab",
   "metadata": {},
   "outputs": [],
   "source": []
  },
  {
   "cell_type": "code",
   "execution_count": 41,
   "id": "3f6e8552",
   "metadata": {},
   "outputs": [
    {
     "data": {
      "application/vnd.microsoft.datawrangler.viewer.v0+json": {
       "columns": [
        {
         "name": "index",
         "rawType": "object",
         "type": "string"
        },
        {
         "name": "calories",
         "rawType": "float64",
         "type": "float"
        },
        {
         "name": "fat",
         "rawType": "float64",
         "type": "float"
        },
        {
         "name": "sugar",
         "rawType": "float64",
         "type": "float"
        },
        {
         "name": "carbohydrates",
         "rawType": "float64",
         "type": "float"
        },
        {
         "name": "protein",
         "rawType": "float64",
         "type": "float"
        }
       ],
       "conversionMethod": "pd.DataFrame",
       "ref": "672f5bf3-51d5-44cc-8962-c3849a777c95",
       "rows": [
        [
         "fruit1",
         "0.5076142131979695",
         "0.9950248756218906",
         "0.15525114155251143",
         "0.4494117647058824",
         "0.46875"
        ],
        [
         "fruit2",
         "0.23857868020304568",
         "0.0029850746268656717",
         "0.36986301369863017",
         "0.22588235294117645",
         "0.37499999999999994"
        ],
        [
         "fruit3",
         "0.25380710659898476",
         "0.0019900497512437814",
         "0.4748858447488585",
         "0.3247058823529412",
         "0.15625"
        ]
       ],
       "shape": {
        "columns": 5,
        "rows": 3
       }
      },
      "text/html": [
       "<div>\n",
       "<style scoped>\n",
       "    .dataframe tbody tr th:only-of-type {\n",
       "        vertical-align: middle;\n",
       "    }\n",
       "\n",
       "    .dataframe tbody tr th {\n",
       "        vertical-align: top;\n",
       "    }\n",
       "\n",
       "    .dataframe thead th {\n",
       "        text-align: right;\n",
       "    }\n",
       "</style>\n",
       "<table border=\"1\" class=\"dataframe\">\n",
       "  <thead>\n",
       "    <tr style=\"text-align: right;\">\n",
       "      <th></th>\n",
       "      <th>calories</th>\n",
       "      <th>fat</th>\n",
       "      <th>sugar</th>\n",
       "      <th>carbohydrates</th>\n",
       "      <th>protein</th>\n",
       "    </tr>\n",
       "  </thead>\n",
       "  <tbody>\n",
       "    <tr>\n",
       "      <th>fruit1</th>\n",
       "      <td>0.507614</td>\n",
       "      <td>0.995025</td>\n",
       "      <td>0.155251</td>\n",
       "      <td>0.449412</td>\n",
       "      <td>0.46875</td>\n",
       "    </tr>\n",
       "    <tr>\n",
       "      <th>fruit2</th>\n",
       "      <td>0.238579</td>\n",
       "      <td>0.002985</td>\n",
       "      <td>0.369863</td>\n",
       "      <td>0.225882</td>\n",
       "      <td>0.37500</td>\n",
       "    </tr>\n",
       "    <tr>\n",
       "      <th>fruit3</th>\n",
       "      <td>0.253807</td>\n",
       "      <td>0.001990</td>\n",
       "      <td>0.474886</td>\n",
       "      <td>0.324706</td>\n",
       "      <td>0.15625</td>\n",
       "    </tr>\n",
       "  </tbody>\n",
       "</table>\n",
       "</div>"
      ],
      "text/plain": [
       "        calories       fat     sugar  carbohydrates  protein\n",
       "fruit1  0.507614  0.995025  0.155251       0.449412  0.46875\n",
       "fruit2  0.238579  0.002985  0.369863       0.225882  0.37500\n",
       "fruit3  0.253807  0.001990  0.474886       0.324706  0.15625"
      ]
     },
     "execution_count": 41,
     "metadata": {},
     "output_type": "execute_result"
    }
   ],
   "source": [
    "fruits / fruits.sum()"
   ]
  },
  {
   "cell_type": "code",
   "execution_count": 43,
   "id": "45cfece6",
   "metadata": {},
   "outputs": [
    {
     "data": {
      "application/vnd.microsoft.datawrangler.viewer.v0+json": {
       "columns": [
        {
         "name": "index",
         "rawType": "object",
         "type": "string"
        },
        {
         "name": "calories",
         "rawType": "float64",
         "type": "float"
        },
        {
         "name": "fat",
         "rawType": "float64",
         "type": "float"
        },
        {
         "name": "sugar",
         "rawType": "float64",
         "type": "float"
        },
        {
         "name": "carbohydrates",
         "rawType": "float64",
         "type": "float"
        },
        {
         "name": "protein",
         "rawType": "float64",
         "type": "float"
        }
       ],
       "conversionMethod": "pd.DataFrame",
       "ref": "8acf2fc1-1fe5-4e7f-bd60-ab78514e5e11",
       "rows": [
        [
         "fruit1",
         "2.6881171418161356e+43",
         "2.6881171418161356e+43",
         "29.96410004739701",
         "197253448.41573998",
         "4.4816890703380645"
        ],
        [
         "fruit2",
         "2.5813128861900675e+20",
         "1.3498588075760032",
         "3294.4680752838403",
         "14764.781565577267",
         "3.3201169227365472"
        ],
        [
         "fruit3",
         "5.184705528587072e+21",
         "1.2214027581601699",
         "32859.62567444333",
         "984609.1112290357",
         "1.6487212707001282"
        ]
       ],
       "shape": {
        "columns": 5,
        "rows": 3
       }
      },
      "text/html": [
       "<div>\n",
       "<style scoped>\n",
       "    .dataframe tbody tr th:only-of-type {\n",
       "        vertical-align: middle;\n",
       "    }\n",
       "\n",
       "    .dataframe tbody tr th {\n",
       "        vertical-align: top;\n",
       "    }\n",
       "\n",
       "    .dataframe thead th {\n",
       "        text-align: right;\n",
       "    }\n",
       "</style>\n",
       "<table border=\"1\" class=\"dataframe\">\n",
       "  <thead>\n",
       "    <tr style=\"text-align: right;\">\n",
       "      <th></th>\n",
       "      <th>calories</th>\n",
       "      <th>fat</th>\n",
       "      <th>sugar</th>\n",
       "      <th>carbohydrates</th>\n",
       "      <th>protein</th>\n",
       "    </tr>\n",
       "  </thead>\n",
       "  <tbody>\n",
       "    <tr>\n",
       "      <th>fruit1</th>\n",
       "      <td>2.688117e+43</td>\n",
       "      <td>2.688117e+43</td>\n",
       "      <td>29.964100</td>\n",
       "      <td>1.972534e+08</td>\n",
       "      <td>4.481689</td>\n",
       "    </tr>\n",
       "    <tr>\n",
       "      <th>fruit2</th>\n",
       "      <td>2.581313e+20</td>\n",
       "      <td>1.349859e+00</td>\n",
       "      <td>3294.468075</td>\n",
       "      <td>1.476478e+04</td>\n",
       "      <td>3.320117</td>\n",
       "    </tr>\n",
       "    <tr>\n",
       "      <th>fruit3</th>\n",
       "      <td>5.184706e+21</td>\n",
       "      <td>1.221403e+00</td>\n",
       "      <td>32859.625674</td>\n",
       "      <td>9.846091e+05</td>\n",
       "      <td>1.648721</td>\n",
       "    </tr>\n",
       "  </tbody>\n",
       "</table>\n",
       "</div>"
      ],
      "text/plain": [
       "            calories           fat         sugar  carbohydrates   protein\n",
       "fruit1  2.688117e+43  2.688117e+43     29.964100   1.972534e+08  4.481689\n",
       "fruit2  2.581313e+20  1.349859e+00   3294.468075   1.476478e+04  3.320117\n",
       "fruit3  5.184706e+21  1.221403e+00  32859.625674   9.846091e+05  1.648721"
      ]
     },
     "execution_count": 43,
     "metadata": {},
     "output_type": "execute_result"
    }
   ],
   "source": [
    "np.exp(fruits)"
   ]
  },
  {
   "cell_type": "code",
   "execution_count": 45,
   "id": "220ca6b4",
   "metadata": {},
   "outputs": [
    {
     "data": {
      "application/vnd.microsoft.datawrangler.viewer.v0+json": {
       "columns": [
        {
         "name": "index",
         "rawType": "object",
         "type": "string"
        },
        {
         "name": "calories",
         "rawType": "float64",
         "type": "float"
        },
        {
         "name": "fat",
         "rawType": "float64",
         "type": "float"
        },
        {
         "name": "sugar",
         "rawType": "float64",
         "type": "float"
        },
        {
         "name": "carbohydrates",
         "rawType": "float64",
         "type": "float"
        },
        {
         "name": "protein",
         "rawType": "float64",
         "type": "float"
        }
       ],
       "conversionMethod": "pd.DataFrame",
       "ref": "692fb981-d74c-4f97-9c6f-5c8a0eef03c8",
       "rows": [
        [
         "fruit1",
         "101.0",
         "101.0",
         "4.4",
         "20.1",
         "2.5"
        ],
        [
         "fruit2",
         "48.0",
         "1.3",
         "9.1",
         "10.6",
         "2.2"
        ],
        [
         "fruit3",
         "50.0",
         "0.2",
         "10.4",
         "13.8",
         "0.5"
        ],
        [
         "fruit4",
         "1.0",
         "1.0",
         "1.0",
         "1.0",
         "0.5"
        ]
       ],
       "shape": {
        "columns": 5,
        "rows": 4
       }
      },
      "text/html": [
       "<div>\n",
       "<style scoped>\n",
       "    .dataframe tbody tr th:only-of-type {\n",
       "        vertical-align: middle;\n",
       "    }\n",
       "\n",
       "    .dataframe tbody tr th {\n",
       "        vertical-align: top;\n",
       "    }\n",
       "\n",
       "    .dataframe thead th {\n",
       "        text-align: right;\n",
       "    }\n",
       "</style>\n",
       "<table border=\"1\" class=\"dataframe\">\n",
       "  <thead>\n",
       "    <tr style=\"text-align: right;\">\n",
       "      <th></th>\n",
       "      <th>calories</th>\n",
       "      <th>fat</th>\n",
       "      <th>sugar</th>\n",
       "      <th>carbohydrates</th>\n",
       "      <th>protein</th>\n",
       "    </tr>\n",
       "  </thead>\n",
       "  <tbody>\n",
       "    <tr>\n",
       "      <th>fruit1</th>\n",
       "      <td>101.0</td>\n",
       "      <td>101.0</td>\n",
       "      <td>4.4</td>\n",
       "      <td>20.1</td>\n",
       "      <td>2.5</td>\n",
       "    </tr>\n",
       "    <tr>\n",
       "      <th>fruit2</th>\n",
       "      <td>48.0</td>\n",
       "      <td>1.3</td>\n",
       "      <td>9.1</td>\n",
       "      <td>10.6</td>\n",
       "      <td>2.2</td>\n",
       "    </tr>\n",
       "    <tr>\n",
       "      <th>fruit3</th>\n",
       "      <td>50.0</td>\n",
       "      <td>0.2</td>\n",
       "      <td>10.4</td>\n",
       "      <td>13.8</td>\n",
       "      <td>0.5</td>\n",
       "    </tr>\n",
       "    <tr>\n",
       "      <th>fruit4</th>\n",
       "      <td>1.0</td>\n",
       "      <td>1.0</td>\n",
       "      <td>1.0</td>\n",
       "      <td>1.0</td>\n",
       "      <td>0.5</td>\n",
       "    </tr>\n",
       "  </tbody>\n",
       "</table>\n",
       "</div>"
      ],
      "text/plain": [
       "        calories    fat  sugar  carbohydrates  protein\n",
       "fruit1     101.0  101.0    4.4           20.1      2.5\n",
       "fruit2      48.0    1.3    9.1           10.6      2.2\n",
       "fruit3      50.0    0.2   10.4           13.8      0.5\n",
       "fruit4       1.0    1.0    1.0            1.0      0.5"
      ]
     },
     "execution_count": 45,
     "metadata": {},
     "output_type": "execute_result"
    }
   ],
   "source": [
    "fruits.add(factors, fill_value=0)"
   ]
  },
  {
   "cell_type": "code",
   "execution_count": 47,
   "id": "663a560d",
   "metadata": {},
   "outputs": [
    {
     "data": {
      "text/plain": [
       "calories         149.0\n",
       "fat              102.3\n",
       "sugar             13.5\n",
       "carbohydrates     30.7\n",
       "protein            4.7\n",
       "dtype: float64"
      ]
     },
     "execution_count": 47,
     "metadata": {},
     "output_type": "execute_result"
    }
   ],
   "source": [
    "fruits.add(factors).sum(skipna=True)"
   ]
  },
  {
   "cell_type": "code",
   "execution_count": null,
   "id": "54cd518f",
   "metadata": {},
   "outputs": [],
   "source": []
  }
 ],
 "metadata": {
  "kernelspec": {
   "display_name": "Python 3",
   "language": "python",
   "name": "python3"
  },
  "language_info": {
   "codemirror_mode": {
    "name": "ipython",
    "version": 3
   },
   "file_extension": ".py",
   "mimetype": "text/x-python",
   "name": "python",
   "nbconvert_exporter": "python",
   "pygments_lexer": "ipython3",
   "version": "3.10.13"
  }
 },
 "nbformat": 4,
 "nbformat_minor": 5
}
