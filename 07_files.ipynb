{
 "cells": [
  {
   "cell_type": "code",
   "execution_count": 6,
   "id": "f90c13c2",
   "metadata": {},
   "outputs": [],
   "source": [
    "text = \"El nombre de la fruta es: banana\"\n",
    "\n",
    "with open(\"/Users/cesar/Projects/um/ejemplo1.txt\", \"w\") as file:\n",
    "    file.write(text)\n",
    "    file.write(\"\\n\")\n",
    "    file.write(\"Hola mundo\")"
   ]
  },
  {
   "cell_type": "code",
   "execution_count": 16,
   "id": "2dea5fbe",
   "metadata": {},
   "outputs": [
    {
     "name": "stdout",
     "output_type": "stream",
     "text": [
      "El nombre de la fruta es: banana\n",
      "Hola mundo\n"
     ]
    }
   ],
   "source": [
    "with open(\"ejemplo1.txt\", \"r\") as file:\n",
    "    text2 = file.read()\n",
    "\n",
    "print(text2)\n",
    "    "
   ]
  },
  {
   "cell_type": "code",
   "execution_count": 18,
   "id": "bccf46b1",
   "metadata": {},
   "outputs": [
    {
     "name": "stdout",
     "output_type": "stream",
     "text": [
      "['El nombre de la fruta es: banana\\n', 'Hola mundo\\n']\n"
     ]
    }
   ],
   "source": [
    "with open(\"ejemplo1.txt\", \"r\") as file:\n",
    "    text2 = file.readlines()\n",
    "\n",
    "print(text2)"
   ]
  },
  {
   "cell_type": "code",
   "execution_count": 24,
   "id": "f6e79751",
   "metadata": {},
   "outputs": [],
   "source": [
    "with open(\"README.md\", \"r\") as file:\n",
    "    readme_lines = file.readlines()\n",
    "\n",
    "counter = 0\n",
    "\n",
    "for line in readme_lines:\n",
    "    if line != \"\\n\":\n",
    "        counter += 1\n",
    "\n",
    "with open(\"total_lines.txt\", \"w\") as file:\n",
    "    file.write(f\"Total de lineas: {counter}\")\n"
   ]
  }
 ],
 "metadata": {
  "kernelspec": {
   "display_name": "Python 3",
   "language": "python",
   "name": "python3"
  },
  "language_info": {
   "codemirror_mode": {
    "name": "ipython",
    "version": 3
   },
   "file_extension": ".py",
   "mimetype": "text/x-python",
   "name": "python",
   "nbconvert_exporter": "python",
   "pygments_lexer": "ipython3",
   "version": "3.10.15"
  }
 },
 "nbformat": 4,
 "nbformat_minor": 5
}
